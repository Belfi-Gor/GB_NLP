{
  "nbformat": 4,
  "nbformat_minor": 0,
  "metadata": {
    "kernelspec": {
      "display_name": "Python 3",
      "language": "python",
      "name": "python3"
    },
    "language_info": {
      "codemirror_mode": {
        "name": "ipython",
        "version": 3
      },
      "file_extension": ".py",
      "mimetype": "text/x-python",
      "name": "python",
      "nbconvert_exporter": "python",
      "pygments_lexer": "ipython3",
      "version": "3.7.3"
    },
    "colab": {
      "name": "hw_06_two_classes.ipynb",
      "provenance": []
    },
    "accelerator": "GPU"
  },
  "cells": [
    {
      "cell_type": "code",
      "metadata": {
        "id": "8aDJGAahCIPr",
        "colab_type": "code",
        "colab": {
          "base_uri": "https://localhost:8080/",
          "height": 515
        },
        "outputId": "c4c10424-d19b-452f-efa5-f7675c3d32b9"
      },
      "source": [
        "!pip install stop_words\n",
        "!pip install pymorphy2\n",
        "!pip install youtokentome"
      ],
      "execution_count": 3,
      "outputs": [
        {
          "output_type": "stream",
          "text": [
            "Collecting stop_words\n",
            "  Downloading https://files.pythonhosted.org/packages/1c/cb/d58290804b7a4c5daa42abbbe2a93c477ae53e45541b1825e86f0dfaaf63/stop-words-2018.7.23.tar.gz\n",
            "Building wheels for collected packages: stop-words\n",
            "  Building wheel for stop-words (setup.py) ... \u001b[?25l\u001b[?25hdone\n",
            "  Created wheel for stop-words: filename=stop_words-2018.7.23-cp36-none-any.whl size=32916 sha256=feaf38df057fc3fedc3175db79ae2afce82b8a0d491118768e240fa74285f623\n",
            "  Stored in directory: /root/.cache/pip/wheels/75/37/6a/2b295e03bd07290f0da95c3adb9a74ba95fbc333aa8b0c7c78\n",
            "Successfully built stop-words\n",
            "Installing collected packages: stop-words\n",
            "Successfully installed stop-words-2018.7.23\n",
            "Collecting pymorphy2\n",
            "\u001b[?25l  Downloading https://files.pythonhosted.org/packages/46/35/f1b0d80874fd829fb1563c5d043cd9b6a29b89cce8dc15b7a1edce010b63/pymorphy2-0.9-py3-none-any.whl (55kB)\n",
            "\u001b[K     |████████████████████████████████| 61kB 4.8MB/s \n",
            "\u001b[?25hCollecting dawg-python>=0.7.1\n",
            "  Downloading https://files.pythonhosted.org/packages/6a/84/ff1ce2071d4c650ec85745766c0047ccc3b5036f1d03559fd46bb38b5eeb/DAWG_Python-0.7.2-py2.py3-none-any.whl\n",
            "Requirement already satisfied: docopt>=0.6 in /usr/local/lib/python3.6/dist-packages (from pymorphy2) (0.6.2)\n",
            "Collecting pymorphy2-dicts-ru<3.0,>=2.4\n",
            "\u001b[?25l  Downloading https://files.pythonhosted.org/packages/7c/9b/358faaff410f65a4ad159275e897b5956dcb20576c5b8e764b971c1634d7/pymorphy2_dicts_ru-2.4.404381.4453942-py2.py3-none-any.whl (8.0MB)\n",
            "\u001b[K     |████████████████████████████████| 8.0MB 14.3MB/s \n",
            "\u001b[?25hInstalling collected packages: dawg-python, pymorphy2-dicts-ru, pymorphy2\n",
            "Successfully installed dawg-python-0.7.2 pymorphy2-0.9 pymorphy2-dicts-ru-2.4.404381.4453942\n",
            "Collecting youtokentome\n",
            "\u001b[?25l  Downloading https://files.pythonhosted.org/packages/a3/65/4a86cf99da3f680497ae132329025b291e2fda22327e8da6a9476e51acb1/youtokentome-1.0.6-cp36-cp36m-manylinux2010_x86_64.whl (1.7MB)\n",
            "\u001b[K     |████████████████████████████████| 1.7MB 9.6MB/s \n",
            "\u001b[?25hRequirement already satisfied: Click>=7.0 in /usr/local/lib/python3.6/dist-packages (from youtokentome) (7.1.2)\n",
            "Installing collected packages: youtokentome\n",
            "Successfully installed youtokentome-1.0.6\n"
          ],
          "name": "stdout"
        }
      ]
    },
    {
      "cell_type": "code",
      "metadata": {
        "id": "vkLW07qpCLCk",
        "colab_type": "code",
        "colab": {
          "base_uri": "https://localhost:8080/",
          "height": 35
        },
        "outputId": "125892fa-3c0e-434f-c4fd-b3fce9df5d36"
      },
      "source": [
        "from google.colab import drive\n",
        "drive.mount('/content/drive')"
      ],
      "execution_count": 1,
      "outputs": [
        {
          "output_type": "stream",
          "text": [
            "Mounted at /content/drive\n"
          ],
          "name": "stdout"
        }
      ]
    },
    {
      "cell_type": "code",
      "metadata": {
        "id": "iThT-bkYBi_g",
        "colab_type": "code",
        "colab": {}
      },
      "source": [
        "import pandas as pd\n",
        "import numpy as np\n",
        "from string import punctuation\n",
        "from stop_words import get_stop_words\n",
        "from pymorphy2 import MorphAnalyzer\n",
        "from string import punctuation\n",
        "import re\n",
        "import nltk\n",
        "from nltk.tokenize import word_tokenize\n",
        "from nltk.probability import FreqDist\n",
        "import tensorflow as tf\n",
        "from tensorflow import keras\n",
        "import matplotlib.pyplot as plt\n",
        "from gensim.models import Word2Vec\n",
        "import multiprocessing\n",
        "import youtokentome as yttm\n",
        "from sklearn.model_selection import train_test_split"
      ],
      "execution_count": 4,
      "outputs": []
    },
    {
      "cell_type": "code",
      "metadata": {
        "id": "GBw2chATBi_7",
        "colab_type": "code",
        "colab": {
          "base_uri": "https://localhost:8080/",
          "height": 36
        },
        "outputId": "97d6af20-e284-46bf-eca9-f1fd971c52e6"
      },
      "source": [
        "tf.__version__"
      ],
      "execution_count": 5,
      "outputs": [
        {
          "output_type": "execute_result",
          "data": {
            "application/vnd.google.colaboratory.intrinsic+json": {
              "type": "string"
            },
            "text/plain": [
              "'2.3.0'"
            ]
          },
          "metadata": {
            "tags": []
          },
          "execution_count": 5
        }
      ]
    },
    {
      "cell_type": "code",
      "metadata": {
        "id": "qo1_xhqeBjAc",
        "colab_type": "code",
        "colab": {
          "base_uri": "https://localhost:8080/",
          "height": 36
        },
        "outputId": "3966aae0-44de-421a-c7de-a75de159e0bc"
      },
      "source": [
        "keras.__version__"
      ],
      "execution_count": 6,
      "outputs": [
        {
          "output_type": "execute_result",
          "data": {
            "application/vnd.google.colaboratory.intrinsic+json": {
              "type": "string"
            },
            "text/plain": [
              "'2.4.0'"
            ]
          },
          "metadata": {
            "tags": []
          },
          "execution_count": 6
        }
      ]
    },
    {
      "cell_type": "code",
      "metadata": {
        "id": "fVFQdOLEBjA8",
        "colab_type": "code",
        "colab": {}
      },
      "source": [
        "if tf.__version__.startswith(\"1.\"):\n",
        "    val_acc_name = \"val_acc\"\n",
        "    acc_name = \"acc\"\n",
        "else:\n",
        "    val_acc_name = \"val_accuracy\"\n",
        "    acc_name = \"accuracy\""
      ],
      "execution_count": 7,
      "outputs": []
    },
    {
      "cell_type": "code",
      "metadata": {
        "id": "fyNbB3ttBjBK",
        "colab_type": "code",
        "colab": {}
      },
      "source": [
        "max_words = 2000\n",
        "max_len = 50\n",
        "\n",
        "# Training\n",
        "epochs = 99150\n",
        "batch_size = 512\n",
        "embed_vec_len = 50"
      ],
      "execution_count": 8,
      "outputs": []
    },
    {
      "cell_type": "code",
      "metadata": {
        "id": "j6Y5K4d2BjBT",
        "colab_type": "code",
        "colab": {}
      },
      "source": [
        "exclude = set(punctuation)"
      ],
      "execution_count": 9,
      "outputs": []
    },
    {
      "cell_type": "code",
      "metadata": {
        "id": "BqqP7VYZBjBl",
        "colab_type": "code",
        "colab": {}
      },
      "source": [
        "def preprocess_text(txt):\n",
        "    txt = str(txt)\n",
        "    txt = re.sub(r'( )+', \" \", re.sub(r'[^\\w\\s]', \" \", txt)).strip()\n",
        "    txt = \"\".join(c if c not in exclude else \" \" for c in txt)\n",
        "    txt = re.sub(r'( )+', \" \", re.sub(r'[^\\w\\s]', \" \", txt)).strip()\n",
        "    txt = txt.lower()\n",
        "#     txt = re.sub(\"\\sне\", \"не\", txt)\n",
        "    return txt"
      ],
      "execution_count": 10,
      "outputs": []
    },
    {
      "cell_type": "code",
      "metadata": {
        "id": "LW44eBasBjBx",
        "colab_type": "code",
        "colab": {
          "base_uri": "https://localhost:8080/",
          "height": 206
        },
        "outputId": "35096a5a-4d5b-4096-d483-5deb71e1d4f0"
      },
      "source": [
        "otzivy_za_leto = pd.read_excel(\"/content/drive/My Drive/Нейронные сети/Neural Language Processing/Lesson 5/отзывы за лето.xls\", )\n",
        "otzivy_za_leto.head()"
      ],
      "execution_count": 11,
      "outputs": [
        {
          "output_type": "execute_result",
          "data": {
            "text/html": [
              "<div>\n",
              "<style scoped>\n",
              "    .dataframe tbody tr th:only-of-type {\n",
              "        vertical-align: middle;\n",
              "    }\n",
              "\n",
              "    .dataframe tbody tr th {\n",
              "        vertical-align: top;\n",
              "    }\n",
              "\n",
              "    .dataframe thead th {\n",
              "        text-align: right;\n",
              "    }\n",
              "</style>\n",
              "<table border=\"1\" class=\"dataframe\">\n",
              "  <thead>\n",
              "    <tr style=\"text-align: right;\">\n",
              "      <th></th>\n",
              "      <th>Rating</th>\n",
              "      <th>Content</th>\n",
              "      <th>Date</th>\n",
              "    </tr>\n",
              "  </thead>\n",
              "  <tbody>\n",
              "    <tr>\n",
              "      <th>0</th>\n",
              "      <td>5</td>\n",
              "      <td>It just works!</td>\n",
              "      <td>2017-08-14</td>\n",
              "    </tr>\n",
              "    <tr>\n",
              "      <th>1</th>\n",
              "      <td>4</td>\n",
              "      <td>В целом удобноное приложение...из минусов хотя...</td>\n",
              "      <td>2017-08-14</td>\n",
              "    </tr>\n",
              "    <tr>\n",
              "      <th>2</th>\n",
              "      <td>5</td>\n",
              "      <td>Отлично все</td>\n",
              "      <td>2017-08-14</td>\n",
              "    </tr>\n",
              "    <tr>\n",
              "      <th>3</th>\n",
              "      <td>5</td>\n",
              "      <td>Стал зависать на 1% работы антивируса. Дальше ...</td>\n",
              "      <td>2017-08-14</td>\n",
              "    </tr>\n",
              "    <tr>\n",
              "      <th>4</th>\n",
              "      <td>5</td>\n",
              "      <td>Очень удобно, работает быстро.</td>\n",
              "      <td>2017-08-14</td>\n",
              "    </tr>\n",
              "  </tbody>\n",
              "</table>\n",
              "</div>"
            ],
            "text/plain": [
              "   Rating                                            Content        Date\n",
              "0       5                                     It just works!  2017-08-14\n",
              "1       4  В целом удобноное приложение...из минусов хотя...  2017-08-14\n",
              "2       5                                        Отлично все  2017-08-14\n",
              "3       5  Стал зависать на 1% работы антивируса. Дальше ...  2017-08-14\n",
              "4       5                     Очень удобно, работает быстро.  2017-08-14"
            ]
          },
          "metadata": {
            "tags": []
          },
          "execution_count": 11
        }
      ]
    },
    {
      "cell_type": "code",
      "metadata": {
        "id": "KvGyLAIaBjB-",
        "colab_type": "code",
        "colab": {
          "base_uri": "https://localhost:8080/",
          "height": 35
        },
        "outputId": "5c60e0cc-e54b-4435-b67e-02423b312607"
      },
      "source": [
        "otzivy_za_leto.Rating.unique()"
      ],
      "execution_count": 12,
      "outputs": [
        {
          "output_type": "execute_result",
          "data": {
            "text/plain": [
              "array([5, 4, 2, 3, 1])"
            ]
          },
          "metadata": {
            "tags": []
          },
          "execution_count": 12
        }
      ]
    },
    {
      "cell_type": "code",
      "metadata": {
        "id": "UUvkcArLBjCI",
        "colab_type": "code",
        "colab": {}
      },
      "source": [
        "# for to_categorical usage\n",
        "otzivy_za_leto.Rating = otzivy_za_leto.Rating - 1"
      ],
      "execution_count": 13,
      "outputs": []
    },
    {
      "cell_type": "code",
      "metadata": {
        "id": "U6jAkyaLBjCO",
        "colab_type": "code",
        "colab": {
          "base_uri": "https://localhost:8080/",
          "height": 206
        },
        "outputId": "de50eae4-9215-4bb4-d1ae-29a5e0ab32c3"
      },
      "source": [
        "otzivy_za_leto.head()"
      ],
      "execution_count": 14,
      "outputs": [
        {
          "output_type": "execute_result",
          "data": {
            "text/html": [
              "<div>\n",
              "<style scoped>\n",
              "    .dataframe tbody tr th:only-of-type {\n",
              "        vertical-align: middle;\n",
              "    }\n",
              "\n",
              "    .dataframe tbody tr th {\n",
              "        vertical-align: top;\n",
              "    }\n",
              "\n",
              "    .dataframe thead th {\n",
              "        text-align: right;\n",
              "    }\n",
              "</style>\n",
              "<table border=\"1\" class=\"dataframe\">\n",
              "  <thead>\n",
              "    <tr style=\"text-align: right;\">\n",
              "      <th></th>\n",
              "      <th>Rating</th>\n",
              "      <th>Content</th>\n",
              "      <th>Date</th>\n",
              "    </tr>\n",
              "  </thead>\n",
              "  <tbody>\n",
              "    <tr>\n",
              "      <th>0</th>\n",
              "      <td>4</td>\n",
              "      <td>It just works!</td>\n",
              "      <td>2017-08-14</td>\n",
              "    </tr>\n",
              "    <tr>\n",
              "      <th>1</th>\n",
              "      <td>3</td>\n",
              "      <td>В целом удобноное приложение...из минусов хотя...</td>\n",
              "      <td>2017-08-14</td>\n",
              "    </tr>\n",
              "    <tr>\n",
              "      <th>2</th>\n",
              "      <td>4</td>\n",
              "      <td>Отлично все</td>\n",
              "      <td>2017-08-14</td>\n",
              "    </tr>\n",
              "    <tr>\n",
              "      <th>3</th>\n",
              "      <td>4</td>\n",
              "      <td>Стал зависать на 1% работы антивируса. Дальше ...</td>\n",
              "      <td>2017-08-14</td>\n",
              "    </tr>\n",
              "    <tr>\n",
              "      <th>4</th>\n",
              "      <td>4</td>\n",
              "      <td>Очень удобно, работает быстро.</td>\n",
              "      <td>2017-08-14</td>\n",
              "    </tr>\n",
              "  </tbody>\n",
              "</table>\n",
              "</div>"
            ],
            "text/plain": [
              "   Rating                                            Content        Date\n",
              "0       4                                     It just works!  2017-08-14\n",
              "1       3  В целом удобноное приложение...из минусов хотя...  2017-08-14\n",
              "2       4                                        Отлично все  2017-08-14\n",
              "3       4  Стал зависать на 1% работы антивируса. Дальше ...  2017-08-14\n",
              "4       4                     Очень удобно, работает быстро.  2017-08-14"
            ]
          },
          "metadata": {
            "tags": []
          },
          "execution_count": 14
        }
      ]
    },
    {
      "cell_type": "code",
      "metadata": {
        "id": "PmO02AEYBjCY",
        "colab_type": "code",
        "colab": {
          "base_uri": "https://localhost:8080/",
          "height": 35
        },
        "outputId": "ce4483ca-a004-43ba-a2e9-0c66ef9c2b36"
      },
      "source": [
        "otzivy_za_leto.Rating.unique()"
      ],
      "execution_count": 15,
      "outputs": [
        {
          "output_type": "execute_result",
          "data": {
            "text/plain": [
              "array([4, 3, 1, 2, 0])"
            ]
          },
          "metadata": {
            "tags": []
          },
          "execution_count": 15
        }
      ]
    },
    {
      "cell_type": "code",
      "metadata": {
        "id": "BY9kWygRBjCr",
        "colab_type": "code",
        "colab": {}
      },
      "source": [
        ""
      ],
      "execution_count": 15,
      "outputs": []
    },
    {
      "cell_type": "code",
      "metadata": {
        "id": "SDmwHvj5BjCy",
        "colab_type": "code",
        "colab": {}
      },
      "source": [
        "vfunc = np.vectorize(preprocess_text)"
      ],
      "execution_count": 16,
      "outputs": []
    },
    {
      "cell_type": "code",
      "metadata": {
        "id": "Kho68hxpBjC5",
        "colab_type": "code",
        "colab": {
          "base_uri": "https://localhost:8080/",
          "height": 54
        },
        "outputId": "a5d84075-372c-4b9d-b4e5-05fd2ceeca2d"
      },
      "source": [
        "%%time\n",
        "otzivy_za_leto[\"text\"] = vfunc(otzivy_za_leto.Content)\n",
        "otzivy_za_leto.head()"
      ],
      "execution_count": 17,
      "outputs": [
        {
          "output_type": "stream",
          "text": [
            "CPU times: user 519 ms, sys: 76.6 ms, total: 596 ms\n",
            "Wall time: 598 ms\n"
          ],
          "name": "stdout"
        }
      ]
    },
    {
      "cell_type": "code",
      "metadata": {
        "id": "FkomM38RBjDI",
        "colab_type": "code",
        "colab": {}
      },
      "source": [
        "train_corpus = \" \".join(otzivy_za_leto[\"text\"])\n",
        "train_corpus = train_corpus.lower()"
      ],
      "execution_count": 18,
      "outputs": []
    },
    {
      "cell_type": "code",
      "metadata": {
        "id": "Yfu0zvgUBjDT",
        "colab_type": "code",
        "colab": {
          "base_uri": "https://localhost:8080/",
          "height": 35
        },
        "outputId": "835bbf6a-9397-49c0-c0aa-21a34dcafa44"
      },
      "source": [
        "len(train_corpus)"
      ],
      "execution_count": 19,
      "outputs": [
        {
          "output_type": "execute_result",
          "data": {
            "text/plain": [
              "1136568"
            ]
          },
          "metadata": {
            "tags": []
          },
          "execution_count": 19
        }
      ]
    },
    {
      "cell_type": "code",
      "metadata": {
        "id": "wxXBTkz0BjDb",
        "colab_type": "code",
        "colab": {
          "base_uri": "https://localhost:8080/",
          "height": 128
        },
        "outputId": "dcba1adc-a90b-4d11-f3d7-9f417ece4451"
      },
      "source": [
        "train_corpus[:1000]"
      ],
      "execution_count": 20,
      "outputs": [
        {
          "output_type": "execute_result",
          "data": {
            "application/vnd.google.colaboratory.intrinsic+json": {
              "type": "string"
            },
            "text/plain": [
              "'it just works в целом удобноное приложение из минусов хотят слишком большой доступ к персональным данным в телефоне приходится пользоваться в ограниченном режиме отлично все стал зависать на 1 работы антивируса дальше никуда ранее больше года пользовался нормально очень удобно работает быстро всё удобно норм очень удобное приложение все устраивает у меня работает все четко в отличии от банкоматов которые вечно зависают и тупят очень все хорошо все ок все нормально кроме того что уведомление нельзя удалять не стартует без доступа к gps sms звонкам и адресной книге филиал фсб одним словом очень удобно работает замечательно подвисаний нет очень удобно очень удобная штука отличное приложение удобно практично очень удобное приложение для оплаты платежей и переводов удобно и быстро очень удобное приложение вот можно было бы транспортные карты пополнять через приложение так вообще замечательно было бы жаль что история всех движений под семью замками хорошее приложение удобно и без лишних хлоп'"
            ]
          },
          "metadata": {
            "tags": []
          },
          "execution_count": 20
        }
      ]
    },
    {
      "cell_type": "code",
      "metadata": {
        "id": "giyDhqijBjDh",
        "colab_type": "code",
        "colab": {}
      },
      "source": [
        "train_corpus_filepath = \"train_corpus.txt\"\n",
        "with open(train_corpus_filepath, \"wt\") as out:\n",
        "    out.write(train_corpus)"
      ],
      "execution_count": 21,
      "outputs": []
    },
    {
      "cell_type": "code",
      "metadata": {
        "id": "Q2BnbPmtBjDl",
        "colab_type": "code",
        "colab": {}
      },
      "source": [
        "# for i in range(20):\n",
        "#     print(otzivy_za_leto.iloc[i][\"Content\"],\"\\n\", otzivy_za_leto.iloc[i][\"text\"], \"\\n\\n\")"
      ],
      "execution_count": 22,
      "outputs": []
    },
    {
      "cell_type": "code",
      "metadata": {
        "id": "cuxqxPwIBjDq",
        "colab_type": "code",
        "colab": {}
      },
      "source": [
        "bpe_model = yttm.BPE.train(data=train_corpus_filepath, vocab_size=max_words, model=\"model.bpe\")"
      ],
      "execution_count": 23,
      "outputs": []
    },
    {
      "cell_type": "code",
      "metadata": {
        "id": "bzVrydu8BjDx",
        "colab_type": "code",
        "colab": {
          "base_uri": "https://localhost:8080/",
          "height": 72
        },
        "outputId": "78ba3701-62b4-49c8-f540-39455434dac2"
      },
      "source": [
        "tst_text = \"привет как дела мартышка\"\n",
        "encoded = bpe_model.encode(tst_text)\n",
        "encoded2 = bpe_model.encode(tst_text, output_type=yttm.OutputType.SUBWORD)\n",
        "print(encoded)\n",
        "print(encoded2)\n",
        "print(bpe_model.decode(encoded))"
      ],
      "execution_count": 24,
      "outputs": [
        {
          "output_type": "stream",
          "text": [
            "[1686, 310, 531, 710, 11, 322, 29, 169]\n",
            "['▁привет', '▁как', '▁дела', '▁ма', 'р', 'ты', 'ш', 'ка']\n",
            "['привет как дела мартышка']\n"
          ],
          "name": "stdout"
        }
      ]
    },
    {
      "cell_type": "code",
      "metadata": {
        "id": "bPnUxE_tBjD3",
        "colab_type": "code",
        "colab": {
          "base_uri": "https://localhost:8080/",
          "height": 1000
        },
        "outputId": "6f71d253-a03e-4b81-c412-2eb398101452"
      },
      "source": [
        "for i in range(10):\n",
        "    encoded = bpe_model.encode(otzivy_za_leto.iloc[i][\"text\"])\n",
        "    print(i, \"\\'\" + otzivy_za_leto.iloc[i][\"text\"] + \"\\'\", encoded, bpe_model.decode(encoded), \"\\n\", sep=\"\\n\\t\")"
      ],
      "execution_count": 25,
      "outputs": [
        {
          "output_type": "stream",
          "text": [
            "0\n",
            "\t'it just works'\n",
            "\t[1259, 42, 4, 73, 1103, 42, 1133, 1632, 64, 43]\n",
            "\t['it just works']\n",
            "\t\n",
            "\n",
            "1\n",
            "\t'в целом удобноное приложение из минусов хотят слишком большой доступ к персональным данным в телефоне приходится пользоваться в ограниченном режиме'\n",
            "\t[119, 745, 153, 308, 147, 306, 862, 976, 615, 10, 1653, 876, 30, 439, 141, 516, 12, 525, 145, 671, 825, 671, 119, 609, 496, 492, 119, 966, 578, 20, 325, 360, 379]\n",
            "\t['в целом удобноное приложение из минусов хотят слишком большой доступ к персональным данным в телефоне приходится пользоваться в ограниченном режиме']\n",
            "\t\n",
            "\n",
            "2\n",
            "\t'отлично все'\n",
            "\t[193, 163]\n",
            "\t['отлично все']\n",
            "\t\n",
            "\n",
            "3\n",
            "\t'стал зависать на 1 работы антивируса дальше никуда ранее больше года пользовался нормально'\n",
            "\t[1201, 827, 1162, 162, 485, 1440, 644, 1229, 268, 1738, 156, 618, 770, 1546, 1809, 418]\n",
            "\t['стал зависать на 1 работы антивируса дальше никуда ранее больше года пользовался нормально']\n",
            "\t\n",
            "\n",
            "4\n",
            "\t'очень удобно работает быстро'\n",
            "\t[170, 153, 225, 294]\n",
            "\t['очень удобно работает быстро']\n",
            "\t\n",
            "\n",
            "5\n",
            "\t'всё удобно норм'\n",
            "\t[213, 153, 466]\n",
            "\t['всё удобно норм']\n",
            "\t\n",
            "\n",
            "6\n",
            "\t'очень удобное приложение'\n",
            "\t[170, 234, 147]\n",
            "\t['очень удобное приложение']\n",
            "\t\n",
            "\n",
            "7\n",
            "\t'все устраивает'\n",
            "\t[163, 359]\n",
            "\t['все устраивает']\n",
            "\t\n",
            "\n",
            "8\n",
            "\t'у меня работает все четко в отличии от банкоматов которые вечно зависают и тупят'\n",
            "\t[126, 296, 225, 163, 1451, 119, 187, 214, 9, 164, 1041, 663, 1374, 517, 180, 827, 8, 504, 133, 847, 23, 10]\n",
            "\t['у меня работает все четко в отличии от банкоматов которые вечно зависают и тупят']\n",
            "\t\n",
            "\n",
            "9\n",
            "\t'очень все хорошо'\n",
            "\t[170, 163, 263]\n",
            "\t['очень все хорошо']\n",
            "\t\n",
            "\n"
          ],
          "name": "stdout"
        }
      ]
    },
    {
      "cell_type": "code",
      "metadata": {
        "id": "2V8fefyMBjD8",
        "colab_type": "code",
        "colab": {}
      },
      "source": [
        "def text_to_sequence(text, maxlen):\n",
        "    result = []\n",
        "#     tokens = word_tokenize(text.lower())\n",
        "    tokens = bpe_model.encode(text.lower())\n",
        "#     tokens_filtered = [word for word in tokens if word.isalnum()]\n",
        "    for word in tokens:\n",
        "#         if word in vocabulary:\n",
        "#             result.append(vocabulary[word])\n",
        "        result.append(word)\n",
        "    padding = [0]*(maxlen-len(result))\n",
        "    if len(padding) >= 1:\n",
        "        padding[-1] = 2 # <BOS> begin of sentence token\n",
        "    return padding + result[-maxlen:]"
      ],
      "execution_count": 26,
      "outputs": []
    },
    {
      "cell_type": "code",
      "metadata": {
        "id": "6iZCl9BcBjEA",
        "colab_type": "code",
        "colab": {
          "base_uri": "https://localhost:8080/",
          "height": 221
        },
        "outputId": "54f21171-cde1-436f-9368-fefe30af579b"
      },
      "source": [
        "for i in range(10):\n",
        "    text = otzivy_za_leto.iloc[i][\"text\"]\n",
        "    seq = text_to_sequence(text, max_len)\n",
        "    print(text, seq)"
      ],
      "execution_count": 27,
      "outputs": [
        {
          "output_type": "stream",
          "text": [
            "it just works [0, 0, 0, 0, 0, 0, 0, 0, 0, 0, 0, 0, 0, 0, 0, 0, 0, 0, 0, 0, 0, 0, 0, 0, 0, 0, 0, 0, 0, 0, 0, 0, 0, 0, 0, 0, 0, 0, 0, 2, 1259, 42, 4, 73, 1103, 42, 1133, 1632, 64, 43]\n",
            "в целом удобноное приложение из минусов хотят слишком большой доступ к персональным данным в телефоне приходится пользоваться в ограниченном режиме [0, 0, 0, 0, 0, 0, 0, 0, 0, 0, 0, 0, 0, 0, 0, 0, 2, 119, 745, 153, 308, 147, 306, 862, 976, 615, 10, 1653, 876, 30, 439, 141, 516, 12, 525, 145, 671, 825, 671, 119, 609, 496, 492, 119, 966, 578, 20, 325, 360, 379]\n",
            "отлично все [0, 0, 0, 0, 0, 0, 0, 0, 0, 0, 0, 0, 0, 0, 0, 0, 0, 0, 0, 0, 0, 0, 0, 0, 0, 0, 0, 0, 0, 0, 0, 0, 0, 0, 0, 0, 0, 0, 0, 0, 0, 0, 0, 0, 0, 0, 0, 2, 193, 163]\n",
            "стал зависать на 1 работы антивируса дальше никуда ранее больше года пользовался нормально [0, 0, 0, 0, 0, 0, 0, 0, 0, 0, 0, 0, 0, 0, 0, 0, 0, 0, 0, 0, 0, 0, 0, 0, 0, 0, 0, 0, 0, 0, 0, 0, 0, 2, 1201, 827, 1162, 162, 485, 1440, 644, 1229, 268, 1738, 156, 618, 770, 1546, 1809, 418]\n",
            "очень удобно работает быстро [0, 0, 0, 0, 0, 0, 0, 0, 0, 0, 0, 0, 0, 0, 0, 0, 0, 0, 0, 0, 0, 0, 0, 0, 0, 0, 0, 0, 0, 0, 0, 0, 0, 0, 0, 0, 0, 0, 0, 0, 0, 0, 0, 0, 0, 2, 170, 153, 225, 294]\n",
            "всё удобно норм [0, 0, 0, 0, 0, 0, 0, 0, 0, 0, 0, 0, 0, 0, 0, 0, 0, 0, 0, 0, 0, 0, 0, 0, 0, 0, 0, 0, 0, 0, 0, 0, 0, 0, 0, 0, 0, 0, 0, 0, 0, 0, 0, 0, 0, 0, 2, 213, 153, 466]\n",
            "очень удобное приложение [0, 0, 0, 0, 0, 0, 0, 0, 0, 0, 0, 0, 0, 0, 0, 0, 0, 0, 0, 0, 0, 0, 0, 0, 0, 0, 0, 0, 0, 0, 0, 0, 0, 0, 0, 0, 0, 0, 0, 0, 0, 0, 0, 0, 0, 0, 2, 170, 234, 147]\n",
            "все устраивает [0, 0, 0, 0, 0, 0, 0, 0, 0, 0, 0, 0, 0, 0, 0, 0, 0, 0, 0, 0, 0, 0, 0, 0, 0, 0, 0, 0, 0, 0, 0, 0, 0, 0, 0, 0, 0, 0, 0, 0, 0, 0, 0, 0, 0, 0, 0, 2, 163, 359]\n",
            "у меня работает все четко в отличии от банкоматов которые вечно зависают и тупят [0, 0, 0, 0, 0, 0, 0, 0, 0, 0, 0, 0, 0, 0, 0, 0, 0, 0, 0, 0, 0, 0, 0, 0, 0, 0, 0, 2, 126, 296, 225, 163, 1451, 119, 187, 214, 9, 164, 1041, 663, 1374, 517, 180, 827, 8, 504, 133, 847, 23, 10]\n",
            "очень все хорошо [0, 0, 0, 0, 0, 0, 0, 0, 0, 0, 0, 0, 0, 0, 0, 0, 0, 0, 0, 0, 0, 0, 0, 0, 0, 0, 0, 0, 0, 0, 0, 0, 0, 0, 0, 0, 0, 0, 0, 0, 0, 0, 0, 0, 0, 0, 2, 170, 163, 263]\n"
          ],
          "name": "stdout"
        }
      ]
    },
    {
      "cell_type": "code",
      "metadata": {
        "id": "hS-tuoxNBjEF",
        "colab_type": "code",
        "colab": {
          "base_uri": "https://localhost:8080/",
          "height": 35
        },
        "outputId": "68f1986d-7f0f-4858-e830-f7eb2dc74d86"
      },
      "source": [
        "len(otzivy_za_leto)"
      ],
      "execution_count": 28,
      "outputs": [
        {
          "output_type": "execute_result",
          "data": {
            "text/plain": [
              "20659"
            ]
          },
          "metadata": {
            "tags": []
          },
          "execution_count": 28
        }
      ]
    },
    {
      "cell_type": "code",
      "metadata": {
        "id": "rdTZn729BjEL",
        "colab_type": "code",
        "colab": {
          "base_uri": "https://localhost:8080/",
          "height": 206
        },
        "outputId": "5966e631-4976-4864-84d4-1c559476a407"
      },
      "source": [
        "otzivy_za_leto = otzivy_za_leto[otzivy_za_leto['Rating'] != 3]\n",
        "otzivy_za_leto['target'] = otzivy_za_leto['Rating'] > 3\n",
        "otzivy_za_leto.head()"
      ],
      "execution_count": 29,
      "outputs": [
        {
          "output_type": "execute_result",
          "data": {
            "text/html": [
              "<div>\n",
              "<style scoped>\n",
              "    .dataframe tbody tr th:only-of-type {\n",
              "        vertical-align: middle;\n",
              "    }\n",
              "\n",
              "    .dataframe tbody tr th {\n",
              "        vertical-align: top;\n",
              "    }\n",
              "\n",
              "    .dataframe thead th {\n",
              "        text-align: right;\n",
              "    }\n",
              "</style>\n",
              "<table border=\"1\" class=\"dataframe\">\n",
              "  <thead>\n",
              "    <tr style=\"text-align: right;\">\n",
              "      <th></th>\n",
              "      <th>Rating</th>\n",
              "      <th>Content</th>\n",
              "      <th>Date</th>\n",
              "      <th>text</th>\n",
              "      <th>target</th>\n",
              "    </tr>\n",
              "  </thead>\n",
              "  <tbody>\n",
              "    <tr>\n",
              "      <th>0</th>\n",
              "      <td>4</td>\n",
              "      <td>It just works!</td>\n",
              "      <td>2017-08-14</td>\n",
              "      <td>it just works</td>\n",
              "      <td>True</td>\n",
              "    </tr>\n",
              "    <tr>\n",
              "      <th>2</th>\n",
              "      <td>4</td>\n",
              "      <td>Отлично все</td>\n",
              "      <td>2017-08-14</td>\n",
              "      <td>отлично все</td>\n",
              "      <td>True</td>\n",
              "    </tr>\n",
              "    <tr>\n",
              "      <th>3</th>\n",
              "      <td>4</td>\n",
              "      <td>Стал зависать на 1% работы антивируса. Дальше ...</td>\n",
              "      <td>2017-08-14</td>\n",
              "      <td>стал зависать на 1 работы антивируса дальше ни...</td>\n",
              "      <td>True</td>\n",
              "    </tr>\n",
              "    <tr>\n",
              "      <th>4</th>\n",
              "      <td>4</td>\n",
              "      <td>Очень удобно, работает быстро.</td>\n",
              "      <td>2017-08-14</td>\n",
              "      <td>очень удобно работает быстро</td>\n",
              "      <td>True</td>\n",
              "    </tr>\n",
              "    <tr>\n",
              "      <th>5</th>\n",
              "      <td>4</td>\n",
              "      <td>Всё удобно норм 👍👍👍</td>\n",
              "      <td>2017-08-14</td>\n",
              "      <td>всё удобно норм</td>\n",
              "      <td>True</td>\n",
              "    </tr>\n",
              "  </tbody>\n",
              "</table>\n",
              "</div>"
            ],
            "text/plain": [
              "   Rating  ... target\n",
              "0       4  ...   True\n",
              "2       4  ...   True\n",
              "3       4  ...   True\n",
              "4       4  ...   True\n",
              "5       4  ...   True\n",
              "\n",
              "[5 rows x 5 columns]"
            ]
          },
          "metadata": {
            "tags": []
          },
          "execution_count": 29
        }
      ]
    },
    {
      "cell_type": "code",
      "metadata": {
        "id": "FQHvDyBFBjEj",
        "colab_type": "code",
        "colab": {
          "base_uri": "https://localhost:8080/",
          "height": 35
        },
        "outputId": "1b459e1c-1073-4b4f-82b1-f0d28fe9ce81"
      },
      "source": [
        "len(otzivy_za_leto)"
      ],
      "execution_count": 30,
      "outputs": [
        {
          "output_type": "execute_result",
          "data": {
            "text/plain": [
              "18521"
            ]
          },
          "metadata": {
            "tags": []
          },
          "execution_count": 30
        }
      ]
    },
    {
      "cell_type": "code",
      "metadata": {
        "id": "yfhiJu8UBjEn",
        "colab_type": "code",
        "colab": {
          "base_uri": "https://localhost:8080/",
          "height": 520
        },
        "outputId": "c26a9b24-7e75-4ae0-a892-1a65077d404b"
      },
      "source": [
        "otzivy_za_leto['target'] = otzivy_za_leto['target'].astype(int)\n",
        "otzivy_za_leto.head(15)"
      ],
      "execution_count": 31,
      "outputs": [
        {
          "output_type": "execute_result",
          "data": {
            "text/html": [
              "<div>\n",
              "<style scoped>\n",
              "    .dataframe tbody tr th:only-of-type {\n",
              "        vertical-align: middle;\n",
              "    }\n",
              "\n",
              "    .dataframe tbody tr th {\n",
              "        vertical-align: top;\n",
              "    }\n",
              "\n",
              "    .dataframe thead th {\n",
              "        text-align: right;\n",
              "    }\n",
              "</style>\n",
              "<table border=\"1\" class=\"dataframe\">\n",
              "  <thead>\n",
              "    <tr style=\"text-align: right;\">\n",
              "      <th></th>\n",
              "      <th>Rating</th>\n",
              "      <th>Content</th>\n",
              "      <th>Date</th>\n",
              "      <th>text</th>\n",
              "      <th>target</th>\n",
              "    </tr>\n",
              "  </thead>\n",
              "  <tbody>\n",
              "    <tr>\n",
              "      <th>0</th>\n",
              "      <td>4</td>\n",
              "      <td>It just works!</td>\n",
              "      <td>2017-08-14</td>\n",
              "      <td>it just works</td>\n",
              "      <td>1</td>\n",
              "    </tr>\n",
              "    <tr>\n",
              "      <th>2</th>\n",
              "      <td>4</td>\n",
              "      <td>Отлично все</td>\n",
              "      <td>2017-08-14</td>\n",
              "      <td>отлично все</td>\n",
              "      <td>1</td>\n",
              "    </tr>\n",
              "    <tr>\n",
              "      <th>3</th>\n",
              "      <td>4</td>\n",
              "      <td>Стал зависать на 1% работы антивируса. Дальше ...</td>\n",
              "      <td>2017-08-14</td>\n",
              "      <td>стал зависать на 1 работы антивируса дальше ни...</td>\n",
              "      <td>1</td>\n",
              "    </tr>\n",
              "    <tr>\n",
              "      <th>4</th>\n",
              "      <td>4</td>\n",
              "      <td>Очень удобно, работает быстро.</td>\n",
              "      <td>2017-08-14</td>\n",
              "      <td>очень удобно работает быстро</td>\n",
              "      <td>1</td>\n",
              "    </tr>\n",
              "    <tr>\n",
              "      <th>5</th>\n",
              "      <td>4</td>\n",
              "      <td>Всё удобно норм 👍👍👍</td>\n",
              "      <td>2017-08-14</td>\n",
              "      <td>всё удобно норм</td>\n",
              "      <td>1</td>\n",
              "    </tr>\n",
              "    <tr>\n",
              "      <th>6</th>\n",
              "      <td>4</td>\n",
              "      <td>Очень удобное приложение.</td>\n",
              "      <td>2017-08-14</td>\n",
              "      <td>очень удобное приложение</td>\n",
              "      <td>1</td>\n",
              "    </tr>\n",
              "    <tr>\n",
              "      <th>7</th>\n",
              "      <td>4</td>\n",
              "      <td>Все устраивает</td>\n",
              "      <td>2017-08-14</td>\n",
              "      <td>все устраивает</td>\n",
              "      <td>1</td>\n",
              "    </tr>\n",
              "    <tr>\n",
              "      <th>8</th>\n",
              "      <td>4</td>\n",
              "      <td>У меня работает все четко. В отличии от банком...</td>\n",
              "      <td>2017-08-14</td>\n",
              "      <td>у меня работает все четко в отличии от банкома...</td>\n",
              "      <td>1</td>\n",
              "    </tr>\n",
              "    <tr>\n",
              "      <th>9</th>\n",
              "      <td>4</td>\n",
              "      <td>Очень все хорошо👍</td>\n",
              "      <td>2017-08-14</td>\n",
              "      <td>очень все хорошо</td>\n",
              "      <td>1</td>\n",
              "    </tr>\n",
              "    <tr>\n",
              "      <th>10</th>\n",
              "      <td>4</td>\n",
              "      <td>Все ок!</td>\n",
              "      <td>2017-08-14</td>\n",
              "      <td>все ок</td>\n",
              "      <td>1</td>\n",
              "    </tr>\n",
              "    <tr>\n",
              "      <th>11</th>\n",
              "      <td>4</td>\n",
              "      <td>Все нормально, кроме того что уведомление нель...</td>\n",
              "      <td>2017-08-14</td>\n",
              "      <td>все нормально кроме того что уведомление нельз...</td>\n",
              "      <td>1</td>\n",
              "    </tr>\n",
              "    <tr>\n",
              "      <th>12</th>\n",
              "      <td>1</td>\n",
              "      <td>Не стартует без доступа к gps, sms, звонкам и ...</td>\n",
              "      <td>2017-08-14</td>\n",
              "      <td>не стартует без доступа к gps sms звонкам и ад...</td>\n",
              "      <td>0</td>\n",
              "    </tr>\n",
              "    <tr>\n",
              "      <th>13</th>\n",
              "      <td>4</td>\n",
              "      <td>Очень удобно, работает замечательно, подвисани...</td>\n",
              "      <td>2017-08-14</td>\n",
              "      <td>очень удобно работает замечательно подвисаний нет</td>\n",
              "      <td>1</td>\n",
              "    </tr>\n",
              "    <tr>\n",
              "      <th>14</th>\n",
              "      <td>4</td>\n",
              "      <td>Очень удобно</td>\n",
              "      <td>2017-08-14</td>\n",
              "      <td>очень удобно</td>\n",
              "      <td>1</td>\n",
              "    </tr>\n",
              "    <tr>\n",
              "      <th>15</th>\n",
              "      <td>4</td>\n",
              "      <td>Очень удобная штука</td>\n",
              "      <td>2017-08-14</td>\n",
              "      <td>очень удобная штука</td>\n",
              "      <td>1</td>\n",
              "    </tr>\n",
              "  </tbody>\n",
              "</table>\n",
              "</div>"
            ],
            "text/plain": [
              "    Rating  ... target\n",
              "0        4  ...      1\n",
              "2        4  ...      1\n",
              "3        4  ...      1\n",
              "4        4  ...      1\n",
              "5        4  ...      1\n",
              "6        4  ...      1\n",
              "7        4  ...      1\n",
              "8        4  ...      1\n",
              "9        4  ...      1\n",
              "10       4  ...      1\n",
              "11       4  ...      1\n",
              "12       1  ...      0\n",
              "13       4  ...      1\n",
              "14       4  ...      1\n",
              "15       4  ...      1\n",
              "\n",
              "[15 rows x 5 columns]"
            ]
          },
          "metadata": {
            "tags": []
          },
          "execution_count": 31
        }
      ]
    },
    {
      "cell_type": "code",
      "metadata": {
        "id": "erYfFxhOBjEq",
        "colab_type": "code",
        "colab": {
          "base_uri": "https://localhost:8080/",
          "height": 35
        },
        "outputId": "b9639d71-c5a8-477b-9d28-be4c46465ba0"
      },
      "source": [
        "num_classes = len(otzivy_za_leto[\"target\"].unique())\n",
        "num_classes"
      ],
      "execution_count": 32,
      "outputs": [
        {
          "output_type": "execute_result",
          "data": {
            "text/plain": [
              "2"
            ]
          },
          "metadata": {
            "tags": []
          },
          "execution_count": 32
        }
      ]
    },
    {
      "cell_type": "code",
      "metadata": {
        "id": "v1-STdGsBjEu",
        "colab_type": "code",
        "colab": {}
      },
      "source": [
        "x_train = np.asarray([text_to_sequence(text, max_len) for text in otzivy_za_leto[\"text\"]], dtype=np.int32)"
      ],
      "execution_count": 33,
      "outputs": []
    },
    {
      "cell_type": "code",
      "metadata": {
        "id": "IZjYCWD5BjEy",
        "colab_type": "code",
        "colab": {
          "base_uri": "https://localhost:8080/",
          "height": 90
        },
        "outputId": "ee3ea526-fa46-4944-c657-d53df9af2fb2"
      },
      "source": [
        "x_train[-15]"
      ],
      "execution_count": 34,
      "outputs": [
        {
          "output_type": "execute_result",
          "data": {
            "text/plain": [
              "array([  0,   0,   0,   0,   0,   0,   0,   0,   0,   0,   0,   0,   0,\n",
              "         0,   0,   0,   0,   0,   0,   0,   0,   0,   0,   0,   0,   0,\n",
              "         0,   0,   0,   0,   0,   0,   0,   0,   0,   0,   0,   0,   0,\n",
              "         0,   0,   0,   0,   0,   0,   2, 428,   7, 159, 172], dtype=int32)"
            ]
          },
          "metadata": {
            "tags": []
          },
          "execution_count": 34
        }
      ]
    },
    {
      "cell_type": "code",
      "metadata": {
        "id": "ehsic6YCBjE3",
        "colab_type": "code",
        "colab": {
          "base_uri": "https://localhost:8080/",
          "height": 1000
        },
        "outputId": "0873b46f-a85f-43f7-919b-29c82908fa06"
      },
      "source": [
        "bpe_model.vocab()[:200]"
      ],
      "execution_count": 35,
      "outputs": [
        {
          "output_type": "execute_result",
          "data": {
            "text/plain": [
              "['<PAD>',\n",
              " '<UNK>',\n",
              " '<BOS>',\n",
              " '<EOS>',\n",
              " '▁',\n",
              " 'о',\n",
              " 'е',\n",
              " 'н',\n",
              " 'а',\n",
              " 'и',\n",
              " 'т',\n",
              " 'р',\n",
              " 'с',\n",
              " 'л',\n",
              " 'в',\n",
              " 'п',\n",
              " 'д',\n",
              " 'у',\n",
              " 'б',\n",
              " 'к',\n",
              " 'м',\n",
              " 'ь',\n",
              " 'ч',\n",
              " 'я',\n",
              " 'ж',\n",
              " 'з',\n",
              " 'ы',\n",
              " 'г',\n",
              " 'х',\n",
              " 'ш',\n",
              " 'й',\n",
              " 'ю',\n",
              " 'ц',\n",
              " 'ф',\n",
              " 'ё',\n",
              " 'э',\n",
              " 'щ',\n",
              " 'o',\n",
              " 'e',\n",
              " 'i',\n",
              " 'a',\n",
              " 'r',\n",
              " 't',\n",
              " 's',\n",
              " 'm',\n",
              " 'n',\n",
              " '0',\n",
              " 'u',\n",
              " '2',\n",
              " '5',\n",
              " '1',\n",
              " 'l',\n",
              " 'd',\n",
              " 'p',\n",
              " '3',\n",
              " '4',\n",
              " 'z',\n",
              " 'g',\n",
              " 'y',\n",
              " 'c',\n",
              " 'h',\n",
              " '6',\n",
              " 'f',\n",
              " 'x',\n",
              " 'k',\n",
              " 'w',\n",
              " '7',\n",
              " 'b',\n",
              " 'v',\n",
              " '9',\n",
              " '8',\n",
              " 'q',\n",
              " 'ъ',\n",
              " 'j',\n",
              " 'ј',\n",
              " 'і',\n",
              " '好',\n",
              " 'い',\n",
              " 'د',\n",
              " 'ج',\n",
              " 'ա',\n",
              " 'ө',\n",
              " 'š',\n",
              " 'č',\n",
              " 'è',\n",
              " '软',\n",
              " '的',\n",
              " '用',\n",
              " '物',\n",
              " '挺',\n",
              " '很',\n",
              " '件',\n",
              " 'っ',\n",
              " 'だ',\n",
              " 'ぜ',\n",
              " 'こ',\n",
              " 'か',\n",
              " 'ي',\n",
              " 'ا',\n",
              " 'պ',\n",
              " 'ո',\n",
              " 'յ',\n",
              " 'հ',\n",
              " 'կ',\n",
              " 'է',\n",
              " 'џ',\n",
              " 'ў',\n",
              " 'ћ',\n",
              " 'ї',\n",
              " 'є',\n",
              " 'ѓ',\n",
              " 'ђ',\n",
              " 'ω',\n",
              " 'ö',\n",
              " 'ó',\n",
              " 'ä',\n",
              " '▁п',\n",
              " 'но',\n",
              " 'ен',\n",
              " '▁в',\n",
              " '▁н',\n",
              " '▁о',\n",
              " '▁пр',\n",
              " '▁с',\n",
              " 'ра',\n",
              " 'ло',\n",
              " '▁у',\n",
              " 'то',\n",
              " 'ет',\n",
              " 'ени',\n",
              " 'до',\n",
              " '▁при',\n",
              " '▁по',\n",
              " '▁и',\n",
              " 'та',\n",
              " '▁не',\n",
              " 'лож',\n",
              " 'ложени',\n",
              " '▁приложени',\n",
              " 'ер',\n",
              " 'ть',\n",
              " '▁к',\n",
              " 'бно',\n",
              " '▁вс',\n",
              " 'ро',\n",
              " 'ль',\n",
              " '▁м',\n",
              " '▁приложение',\n",
              " 'ли',\n",
              " '▁удо',\n",
              " 'бо',\n",
              " 'за',\n",
              " 'хо',\n",
              " '▁удобно',\n",
              " 'ва',\n",
              " '▁б',\n",
              " '▁ра',\n",
              " 'те',\n",
              " 'ся',\n",
              " 'ень',\n",
              " 'ла',\n",
              " 'ст',\n",
              " '▁на',\n",
              " '▁все',\n",
              " '▁от',\n",
              " '▁про',\n",
              " '▁оч',\n",
              " 'ле',\n",
              " 'да',\n",
              " 'ка',\n",
              " '▁очень',\n",
              " '▁за',\n",
              " 'ко',\n",
              " 'го',\n",
              " 'во',\n",
              " 'ви',\n",
              " '▁ч',\n",
              " 'ру',\n",
              " 'на',\n",
              " '▁д',\n",
              " 'чно',\n",
              " 'ан',\n",
              " 'ди',\n",
              " 'ти',\n",
              " '▁но',\n",
              " 'не',\n",
              " '▁хо',\n",
              " '▁отли',\n",
              " 'ас',\n",
              " '▁до',\n",
              " '▁мо',\n",
              " '▁рабо',\n",
              " 'ре',\n",
              " '▁отлично',\n",
              " '▁ка',\n",
              " '▁то',\n",
              " 'ны',\n",
              " '▁бы',\n",
              " 'ни',\n",
              " '▁работа']"
            ]
          },
          "metadata": {
            "tags": []
          },
          "execution_count": 35
        }
      ]
    },
    {
      "cell_type": "code",
      "metadata": {
        "id": "ERECiMLIBjE-",
        "colab_type": "code",
        "colab": {
          "base_uri": "https://localhost:8080/",
          "height": 55
        },
        "outputId": "fb02c2ce-5aa5-46e6-a13a-3be2dc8b389a"
      },
      "source": [
        "bpe_model.decode(x_train[-15].tolist())"
      ],
      "execution_count": 36,
      "outputs": [
        {
          "output_type": "execute_result",
          "data": {
            "text/plain": [
              "['<PAD><PAD><PAD><PAD><PAD><PAD><PAD><PAD><PAD><PAD><PAD><PAD><PAD><PAD><PAD><PAD><PAD><PAD><PAD><PAD><PAD><PAD><PAD><PAD><PAD><PAD><PAD><PAD><PAD><PAD><PAD><PAD><PAD><PAD><PAD><PAD><PAD><PAD><PAD><PAD><PAD><PAD><PAD><PAD><PAD><BOS> удобненько']"
            ]
          },
          "metadata": {
            "tags": []
          },
          "execution_count": 36
        }
      ]
    },
    {
      "cell_type": "code",
      "metadata": {
        "id": "4plxh9AuBjFE",
        "colab_type": "code",
        "colab": {}
      },
      "source": [
        "y_train = keras.utils.to_categorical(otzivy_za_leto[\"target\"], num_classes)"
      ],
      "execution_count": 37,
      "outputs": []
    },
    {
      "cell_type": "code",
      "metadata": {
        "id": "4qnzAEUKBjFJ",
        "colab_type": "code",
        "colab": {
          "base_uri": "https://localhost:8080/",
          "height": 384
        },
        "outputId": "4ef374ab-d69a-45d7-9628-b141d63e4edb"
      },
      "source": [
        "for i, rec in enumerate(y_train[:20].tolist()):\n",
        "    print(i, otzivy_za_leto.iloc[i][\"target\"], rec)"
      ],
      "execution_count": 38,
      "outputs": [
        {
          "output_type": "stream",
          "text": [
            "0 1 [0.0, 1.0]\n",
            "1 1 [0.0, 1.0]\n",
            "2 1 [0.0, 1.0]\n",
            "3 1 [0.0, 1.0]\n",
            "4 1 [0.0, 1.0]\n",
            "5 1 [0.0, 1.0]\n",
            "6 1 [0.0, 1.0]\n",
            "7 1 [0.0, 1.0]\n",
            "8 1 [0.0, 1.0]\n",
            "9 1 [0.0, 1.0]\n",
            "10 1 [0.0, 1.0]\n",
            "11 0 [1.0, 0.0]\n",
            "12 1 [0.0, 1.0]\n",
            "13 1 [0.0, 1.0]\n",
            "14 1 [0.0, 1.0]\n",
            "15 1 [0.0, 1.0]\n",
            "16 1 [0.0, 1.0]\n",
            "17 1 [0.0, 1.0]\n",
            "18 1 [0.0, 1.0]\n",
            "19 1 [0.0, 1.0]\n"
          ],
          "name": "stdout"
        }
      ]
    },
    {
      "cell_type": "code",
      "metadata": {
        "id": "LNb2FmEiBjFQ",
        "colab_type": "code",
        "colab": {
          "base_uri": "https://localhost:8080/",
          "height": 72
        },
        "outputId": "fd2696bb-d849-4be1-e548-4f303244e02e"
      },
      "source": [
        "keras.backend.clear_session()\n",
        "\n",
        "\n",
        "\n",
        "X_input = tf.keras.layers.Input(shape=(max_len,), name=\"X\")\n",
        "Embed_ = tf.keras.layers.Embedding(input_dim=max_words, output_dim=embed_vec_len, name=\"Embed_\")(X_input)\n",
        "Drop1 = tf.keras.layers.Dropout(0.2)(Embed_)\n",
        "BGRU_1 = tf.keras.layers.Bidirectional(tf.keras.layers.GRU(16, return_sequences=False, dropout=0.25, recurrent_dropout=0.25, activation=\"relu\", implementation=2, name=\"GRU_1\", stateful=False), name=\"BGRU_1\")(Drop1)\n",
        "Drop2 = tf.keras.layers.Dropout(0.3)(BGRU_1)\n",
        "Dense_1 = tf.keras.layers.Dense(units=16, activation='relu', name=\"Dense_1\")(Drop2)\n",
        "Drop3 = tf.keras.layers.Dropout(0.4)(Dense_1)\n",
        "Dense_2 = tf.keras.layers.Dense(units=16, activation='relu', name=\"Dense_2\")(Dense_1)\n",
        "Drop4 = tf.keras.layers.Dropout(0.5)(Dense_2)\n",
        "\n",
        "y_output = tf.keras.layers.Dense(units=num_classes, activation=\"softmax\", name=\"y\")(Dense_2)\n",
        "\n",
        "model = tf.keras.models.Model(inputs=[X_input], outputs=[y_output], name=\"my_model\")\n",
        "model.compile(loss='categorical_crossentropy', optimizer='adam', metrics=['accuracy'])"
      ],
      "execution_count": 39,
      "outputs": [
        {
          "output_type": "stream",
          "text": [
            "WARNING:tensorflow:Layer GRU_1 will not use cuDNN kernel since it doesn't meet the cuDNN kernel criteria. It will use generic GPU kernel as fallback when running on GPU\n",
            "WARNING:tensorflow:Layer GRU_1 will not use cuDNN kernel since it doesn't meet the cuDNN kernel criteria. It will use generic GPU kernel as fallback when running on GPU\n",
            "WARNING:tensorflow:Layer GRU_1 will not use cuDNN kernel since it doesn't meet the cuDNN kernel criteria. It will use generic GPU kernel as fallback when running on GPU\n"
          ],
          "name": "stdout"
        }
      ]
    },
    {
      "cell_type": "code",
      "metadata": {
        "id": "n5wj2zYsBjFT",
        "colab_type": "code",
        "colab": {
          "base_uri": "https://localhost:8080/",
          "height": 458
        },
        "outputId": "d473a7db-a772-4ded-8ef1-73681c885756"
      },
      "source": [
        "model.summary()"
      ],
      "execution_count": 40,
      "outputs": [
        {
          "output_type": "stream",
          "text": [
            "Model: \"my_model\"\n",
            "_________________________________________________________________\n",
            "Layer (type)                 Output Shape              Param #   \n",
            "=================================================================\n",
            "X (InputLayer)               [(None, 50)]              0         \n",
            "_________________________________________________________________\n",
            "Embed_ (Embedding)           (None, 50, 50)            100000    \n",
            "_________________________________________________________________\n",
            "dropout (Dropout)            (None, 50, 50)            0         \n",
            "_________________________________________________________________\n",
            "BGRU_1 (Bidirectional)       (None, 32)                6528      \n",
            "_________________________________________________________________\n",
            "dropout_1 (Dropout)          (None, 32)                0         \n",
            "_________________________________________________________________\n",
            "Dense_1 (Dense)              (None, 16)                528       \n",
            "_________________________________________________________________\n",
            "Dense_2 (Dense)              (None, 16)                272       \n",
            "_________________________________________________________________\n",
            "y (Dense)                    (None, 2)                 34        \n",
            "=================================================================\n",
            "Total params: 107,362\n",
            "Trainable params: 107,362\n",
            "Non-trainable params: 0\n",
            "_________________________________________________________________\n"
          ],
          "name": "stdout"
        }
      ]
    },
    {
      "cell_type": "code",
      "metadata": {
        "id": "x8DH_p5iBjFb",
        "colab_type": "code",
        "colab": {
          "base_uri": "https://localhost:8080/",
          "height": 758
        },
        "outputId": "33cb7532-fbb3-4679-9401-7d79a1a839e2"
      },
      "source": [
        "tf.keras.utils.plot_model(model)"
      ],
      "execution_count": 41,
      "outputs": [
        {
          "output_type": "execute_result",
          "data": {
            "image/png": "[encoded data removed]",
            "text/plain": [
              "<IPython.core.display.Image object>"
            ]
          },
          "metadata": {
            "tags": []
          },
          "execution_count": 41
        }
      ]
    },
    {
      "cell_type": "code",
      "metadata": {
        "id": "okErMZ7NBjFg",
        "colab_type": "code",
        "colab": {
          "base_uri": "https://localhost:8080/",
          "height": 1000
        },
        "outputId": "8cce18b4-55d0-44a4-d737-603b0ccab27f"
      },
      "source": [
        "checkpoint = tf.keras.callbacks.ModelCheckpoint('best_model.h5',\n",
        "                            monitor=val_acc_name,\n",
        "                            save_best_only=True,\n",
        "                            period=1,\n",
        "                            verbose=1)\n",
        "\n",
        "early_stopping_callback = tf.keras.callbacks.EarlyStopping(monitor=val_acc_name, \n",
        "                                        min_delta=1e-9, \n",
        "                                        patience=50, \n",
        "                                        verbose=1, \n",
        "                                        mode='auto', \n",
        "                                        baseline=None, \n",
        "                                        restore_best_weights=True)\n",
        "learning_rate_reduction = tf.keras.callbacks.ReduceLROnPlateau(monitor=val_acc_name,\n",
        "                                           patience=10,\n",
        "                                           verbose=1,\n",
        "                                           factor=0.75,\n",
        "                                           min_lr=0.00000001)\n",
        "\n",
        "history = model.fit(x_train, y_train,\n",
        "                    batch_size=batch_size,\n",
        "                    epochs=epochs,\n",
        "                    verbose=1,\n",
        "                    validation_split=0.2,\n",
        "                    shuffle=True,\n",
        "                    callbacks=[checkpoint, early_stopping_callback, learning_rate_reduction])"
      ],
      "execution_count": 42,
      "outputs": [
        {
          "output_type": "stream",
          "text": [
            "WARNING:tensorflow:`period` argument is deprecated. Please use `save_freq` to specify the frequency in number of batches seen.\n",
            "Epoch 1/99150\n",
            "29/29 [==============================] - ETA: 0s - loss: 0.5838 - accuracy: 0.7970\n",
            "Epoch 00001: val_accuracy improved from -inf to 0.68961, saving model to best_model.h5\n",
            "29/29 [==============================] - 10s 341ms/step - loss: 0.5838 - accuracy: 0.7970 - val_loss: 0.5793 - val_accuracy: 0.6896\n",
            "Epoch 2/99150\n",
            "29/29 [==============================] - ETA: 0s - loss: 0.4140 - accuracy: 0.8120\n",
            "Epoch 00002: val_accuracy did not improve from 0.68961\n",
            "29/29 [==============================] - 9s 327ms/step - loss: 0.4140 - accuracy: 0.8120 - val_loss: 0.5229 - val_accuracy: 0.6896\n",
            "Epoch 3/99150\n",
            "29/29 [==============================] - ETA: 0s - loss: 0.3114 - accuracy: 0.8120\n",
            "Epoch 00003: val_accuracy improved from 0.68961 to 0.68988, saving model to best_model.h5\n",
            "29/29 [==============================] - 10s 338ms/step - loss: 0.3114 - accuracy: 0.8120 - val_loss: 0.3803 - val_accuracy: 0.6899\n",
            "Epoch 4/99150\n",
            "29/29 [==============================] - ETA: 0s - loss: 0.2587 - accuracy: 0.8639\n",
            "Epoch 00004: val_accuracy improved from 0.68988 to 0.83995, saving model to best_model.h5\n",
            "29/29 [==============================] - 9s 323ms/step - loss: 0.2587 - accuracy: 0.8639 - val_loss: 0.3500 - val_accuracy: 0.8399\n",
            "Epoch 5/99150\n",
            "29/29 [==============================] - ETA: 0s - loss: 0.2198 - accuracy: 0.9134\n",
            "Epoch 00005: val_accuracy improved from 0.83995 to 0.87773, saving model to best_model.h5\n",
            "29/29 [==============================] - 10s 345ms/step - loss: 0.2198 - accuracy: 0.9134 - val_loss: 0.3026 - val_accuracy: 0.8777\n",
            "Epoch 6/99150\n",
            "29/29 [==============================] - ETA: 0s - loss: 0.1806 - accuracy: 0.9310\n",
            "Epoch 00006: val_accuracy improved from 0.87773 to 0.90850, saving model to best_model.h5\n",
            "29/29 [==============================] - 10s 340ms/step - loss: 0.1806 - accuracy: 0.9310 - val_loss: 0.2577 - val_accuracy: 0.9085\n",
            "Epoch 7/99150\n",
            "29/29 [==============================] - ETA: 0s - loss: 0.1580 - accuracy: 0.9418\n",
            "Epoch 00007: val_accuracy improved from 0.90850 to 0.91336, saving model to best_model.h5\n",
            "29/29 [==============================] - 10s 351ms/step - loss: 0.1580 - accuracy: 0.9418 - val_loss: 0.2383 - val_accuracy: 0.9134\n",
            "Epoch 8/99150\n",
            "29/29 [==============================] - ETA: 0s - loss: 0.1448 - accuracy: 0.9478\n",
            "Epoch 00008: val_accuracy improved from 0.91336 to 0.91741, saving model to best_model.h5\n",
            "29/29 [==============================] - 10s 357ms/step - loss: 0.1448 - accuracy: 0.9478 - val_loss: 0.2350 - val_accuracy: 0.9174\n",
            "Epoch 9/99150\n",
            "29/29 [==============================] - ETA: 0s - loss: 0.1349 - accuracy: 0.9523\n",
            "Epoch 00009: val_accuracy improved from 0.91741 to 0.92227, saving model to best_model.h5\n",
            "29/29 [==============================] - 10s 341ms/step - loss: 0.1349 - accuracy: 0.9523 - val_loss: 0.2420 - val_accuracy: 0.9223\n",
            "Epoch 10/99150\n",
            "29/29 [==============================] - ETA: 0s - loss: 0.1296 - accuracy: 0.9550\n",
            "Epoch 00010: val_accuracy improved from 0.92227 to 0.92335, saving model to best_model.h5\n",
            "29/29 [==============================] - 10s 349ms/step - loss: 0.1296 - accuracy: 0.9550 - val_loss: 0.2410 - val_accuracy: 0.9233\n",
            "Epoch 11/99150\n",
            "29/29 [==============================] - ETA: 0s - loss: 0.1241 - accuracy: 0.9563\n",
            "Epoch 00011: val_accuracy did not improve from 0.92335\n",
            "29/29 [==============================] - 10s 347ms/step - loss: 0.1241 - accuracy: 0.9563 - val_loss: 0.2457 - val_accuracy: 0.9206\n",
            "Epoch 12/99150\n",
            "29/29 [==============================] - ETA: 0s - loss: 0.1176 - accuracy: 0.9603\n",
            "Epoch 00012: val_accuracy did not improve from 0.92335\n",
            "29/29 [==============================] - 10s 343ms/step - loss: 0.1176 - accuracy: 0.9603 - val_loss: 0.2367 - val_accuracy: 0.9204\n",
            "Epoch 13/99150\n",
            "29/29 [==============================] - ETA: 0s - loss: 0.1134 - accuracy: 0.9612\n",
            "Epoch 00013: val_accuracy did not improve from 0.92335\n",
            "29/29 [==============================] - 10s 342ms/step - loss: 0.1134 - accuracy: 0.9612 - val_loss: 0.2578 - val_accuracy: 0.9155\n",
            "Epoch 14/99150\n",
            "29/29 [==============================] - ETA: 0s - loss: 0.1116 - accuracy: 0.9621\n",
            "Epoch 00014: val_accuracy did not improve from 0.92335\n",
            "29/29 [==============================] - 10s 346ms/step - loss: 0.1116 - accuracy: 0.9621 - val_loss: 0.2626 - val_accuracy: 0.9158\n",
            "Epoch 15/99150\n",
            "29/29 [==============================] - ETA: 0s - loss: 0.1058 - accuracy: 0.9652\n",
            "Epoch 00015: val_accuracy did not improve from 0.92335\n",
            "29/29 [==============================] - 10s 337ms/step - loss: 0.1058 - accuracy: 0.9652 - val_loss: 0.2485 - val_accuracy: 0.9188\n",
            "Epoch 16/99150\n",
            "29/29 [==============================] - ETA: 0s - loss: 0.1026 - accuracy: 0.9656\n",
            "Epoch 00016: val_accuracy did not improve from 0.92335\n",
            "29/29 [==============================] - 10s 352ms/step - loss: 0.1026 - accuracy: 0.9656 - val_loss: 0.2566 - val_accuracy: 0.9193\n",
            "Epoch 17/99150\n",
            "29/29 [==============================] - ETA: 0s - loss: 0.1001 - accuracy: 0.9673\n",
            "Epoch 00017: val_accuracy did not improve from 0.92335\n",
            "29/29 [==============================] - 10s 357ms/step - loss: 0.1001 - accuracy: 0.9673 - val_loss: 0.2837 - val_accuracy: 0.9136\n",
            "Epoch 18/99150\n",
            "29/29 [==============================] - ETA: 0s - loss: 0.0993 - accuracy: 0.9677\n",
            "Epoch 00018: val_accuracy did not improve from 0.92335\n",
            "29/29 [==============================] - 10s 352ms/step - loss: 0.0993 - accuracy: 0.9677 - val_loss: 0.2780 - val_accuracy: 0.9123\n",
            "Epoch 19/99150\n",
            "29/29 [==============================] - ETA: 0s - loss: 0.0962 - accuracy: 0.9685\n",
            "Epoch 00019: val_accuracy did not improve from 0.92335\n",
            "29/29 [==============================] - 10s 350ms/step - loss: 0.0962 - accuracy: 0.9685 - val_loss: 0.2759 - val_accuracy: 0.9126\n",
            "Epoch 20/99150\n",
            "29/29 [==============================] - ETA: 0s - loss: 0.0928 - accuracy: 0.9704\n",
            "Epoch 00020: val_accuracy did not improve from 0.92335\n",
            "\n",
            "Epoch 00020: ReduceLROnPlateau reducing learning rate to 0.0007500000356230885.\n",
            "29/29 [==============================] - 10s 360ms/step - loss: 0.0928 - accuracy: 0.9704 - val_loss: 0.2985 - val_accuracy: 0.9101\n",
            "Epoch 21/99150\n",
            "29/29 [==============================] - ETA: 0s - loss: 0.0902 - accuracy: 0.9706\n",
            "Epoch 00021: val_accuracy did not improve from 0.92335\n",
            "29/29 [==============================] - 10s 358ms/step - loss: 0.0902 - accuracy: 0.9706 - val_loss: 0.2981 - val_accuracy: 0.9099\n",
            "Epoch 22/99150\n",
            "29/29 [==============================] - ETA: 0s - loss: 0.0888 - accuracy: 0.9708\n",
            "Epoch 00022: val_accuracy did not improve from 0.92335\n",
            "29/29 [==============================] - 10s 342ms/step - loss: 0.0888 - accuracy: 0.9708 - val_loss: 0.2948 - val_accuracy: 0.9126\n",
            "Epoch 23/99150\n",
            "29/29 [==============================] - ETA: 0s - loss: 0.0868 - accuracy: 0.9712\n",
            "Epoch 00023: val_accuracy did not improve from 0.92335\n",
            "29/29 [==============================] - 10s 339ms/step - loss: 0.0868 - accuracy: 0.9712 - val_loss: 0.3012 - val_accuracy: 0.9107\n",
            "Epoch 24/99150\n",
            "29/29 [==============================] - ETA: 0s - loss: 0.0857 - accuracy: 0.9721\n",
            "Epoch 00024: val_accuracy did not improve from 0.92335\n",
            "29/29 [==============================] - 9s 324ms/step - loss: 0.0857 - accuracy: 0.9721 - val_loss: 0.2953 - val_accuracy: 0.9099\n",
            "Epoch 25/99150\n",
            "29/29 [==============================] - ETA: 0s - loss: 0.0832 - accuracy: 0.9731\n",
            "Epoch 00025: val_accuracy did not improve from 0.92335\n",
            "29/29 [==============================] - 10s 338ms/step - loss: 0.0832 - accuracy: 0.9731 - val_loss: 0.2995 - val_accuracy: 0.9161\n",
            "Epoch 26/99150\n",
            "29/29 [==============================] - ETA: 0s - loss: 0.0833 - accuracy: 0.9735\n",
            "Epoch 00026: val_accuracy did not improve from 0.92335\n",
            "29/29 [==============================] - 10s 336ms/step - loss: 0.0833 - accuracy: 0.9735 - val_loss: 0.3219 - val_accuracy: 0.9058\n",
            "Epoch 27/99150\n",
            "29/29 [==============================] - ETA: 0s - loss: 0.0817 - accuracy: 0.9746\n",
            "Epoch 00027: val_accuracy did not improve from 0.92335\n",
            "29/29 [==============================] - 9s 325ms/step - loss: 0.0817 - accuracy: 0.9746 - val_loss: 0.3039 - val_accuracy: 0.9126\n",
            "Epoch 28/99150\n",
            "29/29 [==============================] - ETA: 0s - loss: 0.0817 - accuracy: 0.9737\n",
            "Epoch 00028: val_accuracy did not improve from 0.92335\n",
            "29/29 [==============================] - 10s 329ms/step - loss: 0.0817 - accuracy: 0.9737 - val_loss: 0.2942 - val_accuracy: 0.9136\n",
            "Epoch 29/99150\n",
            "29/29 [==============================] - ETA: 0s - loss: 0.1183 - accuracy: 0.9748\n",
            "Epoch 00029: val_accuracy did not improve from 0.92335\n",
            "29/29 [==============================] - 10s 332ms/step - loss: 0.1183 - accuracy: 0.9748 - val_loss: 0.2979 - val_accuracy: 0.9142\n",
            "Epoch 30/99150\n",
            "29/29 [==============================] - ETA: 0s - loss: 0.0786 - accuracy: 0.9755\n",
            "Epoch 00030: val_accuracy did not improve from 0.92335\n",
            "\n",
            "Epoch 00030: ReduceLROnPlateau reducing learning rate to 0.0005625000048894435.\n",
            "29/29 [==============================] - 10s 342ms/step - loss: 0.0786 - accuracy: 0.9755 - val_loss: 0.3174 - val_accuracy: 0.9058\n",
            "Epoch 31/99150\n",
            "29/29 [==============================] - ETA: 0s - loss: 0.0779 - accuracy: 0.9762\n",
            "Epoch 00031: val_accuracy did not improve from 0.92335\n",
            "29/29 [==============================] - 9s 326ms/step - loss: 0.0779 - accuracy: 0.9762 - val_loss: 0.3306 - val_accuracy: 0.9028\n",
            "Epoch 32/99150\n",
            "29/29 [==============================] - ETA: 0s - loss: 0.0764 - accuracy: 0.9759\n",
            "Epoch 00032: val_accuracy did not improve from 0.92335\n",
            "29/29 [==============================] - 9s 327ms/step - loss: 0.0764 - accuracy: 0.9759 - val_loss: 0.3208 - val_accuracy: 0.9085\n",
            "Epoch 33/99150\n",
            "29/29 [==============================] - ETA: 0s - loss: 0.0772 - accuracy: 0.9760\n",
            "Epoch 00033: val_accuracy did not improve from 0.92335\n",
            "29/29 [==============================] - 10s 330ms/step - loss: 0.0772 - accuracy: 0.9760 - val_loss: 0.3266 - val_accuracy: 0.9053\n",
            "Epoch 34/99150\n",
            "29/29 [==============================] - ETA: 0s - loss: 0.0753 - accuracy: 0.9774\n",
            "Epoch 00034: val_accuracy did not improve from 0.92335\n",
            "29/29 [==============================] - 9s 325ms/step - loss: 0.0753 - accuracy: 0.9774 - val_loss: 0.3210 - val_accuracy: 0.9082\n",
            "Epoch 35/99150\n",
            "29/29 [==============================] - ETA: 0s - loss: 0.0722 - accuracy: 0.9773\n",
            "Epoch 00035: val_accuracy did not improve from 0.92335\n",
            "29/29 [==============================] - 10s 332ms/step - loss: 0.0722 - accuracy: 0.9773 - val_loss: 0.3279 - val_accuracy: 0.9088\n",
            "Epoch 36/99150\n",
            "29/29 [==============================] - ETA: 0s - loss: 0.0726 - accuracy: 0.9771\n",
            "Epoch 00036: val_accuracy did not improve from 0.92335\n",
            "29/29 [==============================] - 10s 336ms/step - loss: 0.0726 - accuracy: 0.9771 - val_loss: 0.3315 - val_accuracy: 0.9058\n",
            "Epoch 37/99150\n",
            "29/29 [==============================] - ETA: 0s - loss: 0.0710 - accuracy: 0.9782\n",
            "Epoch 00037: val_accuracy did not improve from 0.92335\n",
            "29/29 [==============================] - 10s 332ms/step - loss: 0.0710 - accuracy: 0.9782 - val_loss: 0.3347 - val_accuracy: 0.9063\n",
            "Epoch 38/99150\n",
            "29/29 [==============================] - ETA: 0s - loss: 0.0701 - accuracy: 0.9789\n",
            "Epoch 00038: val_accuracy did not improve from 0.92335\n",
            "29/29 [==============================] - 10s 342ms/step - loss: 0.0701 - accuracy: 0.9789 - val_loss: 0.3310 - val_accuracy: 0.9077\n",
            "Epoch 39/99150\n",
            "29/29 [==============================] - ETA: 0s - loss: 0.0693 - accuracy: 0.9787\n",
            "Epoch 00039: val_accuracy did not improve from 0.92335\n",
            "29/29 [==============================] - 10s 343ms/step - loss: 0.0693 - accuracy: 0.9787 - val_loss: 0.3507 - val_accuracy: 0.9061\n",
            "Epoch 40/99150\n",
            "29/29 [==============================] - ETA: 0s - loss: 0.0697 - accuracy: 0.9794\n",
            "Epoch 00040: val_accuracy did not improve from 0.92335\n",
            "\n",
            "Epoch 00040: ReduceLROnPlateau reducing learning rate to 0.0004218749818392098.\n",
            "29/29 [==============================] - 10s 335ms/step - loss: 0.0697 - accuracy: 0.9794 - val_loss: 0.3387 - val_accuracy: 0.9069\n",
            "Epoch 41/99150\n",
            "29/29 [==============================] - ETA: 0s - loss: 0.0717 - accuracy: 0.9773\n",
            "Epoch 00041: val_accuracy did not improve from 0.92335\n",
            "29/29 [==============================] - 10s 337ms/step - loss: 0.0717 - accuracy: 0.9773 - val_loss: 0.3439 - val_accuracy: 0.9058\n",
            "Epoch 42/99150\n",
            "29/29 [==============================] - ETA: 0s - loss: 0.0702 - accuracy: 0.9791\n",
            "Epoch 00042: val_accuracy did not improve from 0.92335\n",
            "29/29 [==============================] - 10s 338ms/step - loss: 0.0702 - accuracy: 0.9791 - val_loss: 0.3577 - val_accuracy: 0.9042\n",
            "Epoch 43/99150\n",
            "29/29 [==============================] - ETA: 0s - loss: 0.0693 - accuracy: 0.9790\n",
            "Epoch 00043: val_accuracy did not improve from 0.92335\n",
            "29/29 [==============================] - 10s 331ms/step - loss: 0.0693 - accuracy: 0.9790 - val_loss: 0.3357 - val_accuracy: 0.9063\n",
            "Epoch 44/99150\n",
            "29/29 [==============================] - ETA: 0s - loss: 0.0699 - accuracy: 0.9786\n",
            "Epoch 00044: val_accuracy did not improve from 0.92335\n",
            "29/29 [==============================] - 9s 326ms/step - loss: 0.0699 - accuracy: 0.9786 - val_loss: 0.3425 - val_accuracy: 0.9036\n",
            "Epoch 45/99150\n",
            "29/29 [==============================] - ETA: 0s - loss: 0.0648 - accuracy: 0.9804\n",
            "Epoch 00045: val_accuracy did not improve from 0.92335\n",
            "29/29 [==============================] - 10s 331ms/step - loss: 0.0648 - accuracy: 0.9804 - val_loss: 0.3452 - val_accuracy: 0.9063\n",
            "Epoch 46/99150\n",
            "29/29 [==============================] - ETA: 0s - loss: 0.0659 - accuracy: 0.9805\n",
            "Epoch 00046: val_accuracy did not improve from 0.92335\n",
            "29/29 [==============================] - 10s 336ms/step - loss: 0.0659 - accuracy: 0.9805 - val_loss: 0.3507 - val_accuracy: 0.9055\n",
            "Epoch 47/99150\n",
            "29/29 [==============================] - ETA: 0s - loss: 0.0664 - accuracy: 0.9795\n",
            "Epoch 00047: val_accuracy did not improve from 0.92335\n",
            "29/29 [==============================] - 10s 334ms/step - loss: 0.0664 - accuracy: 0.9795 - val_loss: 0.3500 - val_accuracy: 0.9058\n",
            "Epoch 48/99150\n",
            "29/29 [==============================] - ETA: 0s - loss: 0.0655 - accuracy: 0.9798\n",
            "Epoch 00048: val_accuracy did not improve from 0.92335\n",
            "29/29 [==============================] - 10s 334ms/step - loss: 0.0655 - accuracy: 0.9798 - val_loss: 0.3529 - val_accuracy: 0.9058\n",
            "Epoch 49/99150\n",
            "29/29 [==============================] - ETA: 0s - loss: 0.0641 - accuracy: 0.9809\n",
            "Epoch 00049: val_accuracy did not improve from 0.92335\n",
            "29/29 [==============================] - 10s 329ms/step - loss: 0.0641 - accuracy: 0.9809 - val_loss: 0.3479 - val_accuracy: 0.9063\n",
            "Epoch 50/99150\n",
            "29/29 [==============================] - ETA: 0s - loss: 0.0646 - accuracy: 0.9805\n",
            "Epoch 00050: val_accuracy did not improve from 0.92335\n",
            "\n",
            "Epoch 00050: ReduceLROnPlateau reducing learning rate to 0.00031640623637940735.\n",
            "29/29 [==============================] - 9s 326ms/step - loss: 0.0646 - accuracy: 0.9805 - val_loss: 0.3435 - val_accuracy: 0.9082\n",
            "Epoch 51/99150\n",
            "29/29 [==============================] - ETA: 0s - loss: 0.0647 - accuracy: 0.9802\n",
            "Epoch 00051: val_accuracy did not improve from 0.92335\n",
            "29/29 [==============================] - 9s 323ms/step - loss: 0.0647 - accuracy: 0.9802 - val_loss: 0.3697 - val_accuracy: 0.9036\n",
            "Epoch 52/99150\n",
            "29/29 [==============================] - ETA: 0s - loss: 0.0625 - accuracy: 0.9812\n",
            "Epoch 00052: val_accuracy did not improve from 0.92335\n",
            "29/29 [==============================] - 10s 333ms/step - loss: 0.0625 - accuracy: 0.9812 - val_loss: 0.3765 - val_accuracy: 0.9034\n",
            "Epoch 53/99150\n",
            "29/29 [==============================] - ETA: 0s - loss: 0.0620 - accuracy: 0.9817\n",
            "Epoch 00053: val_accuracy did not improve from 0.92335\n",
            "29/29 [==============================] - 9s 327ms/step - loss: 0.0620 - accuracy: 0.9817 - val_loss: 0.3564 - val_accuracy: 0.9045\n",
            "Epoch 54/99150\n",
            "29/29 [==============================] - ETA: 0s - loss: 0.0618 - accuracy: 0.9827\n",
            "Epoch 00054: val_accuracy did not improve from 0.92335\n",
            "29/29 [==============================] - 10s 333ms/step - loss: 0.0618 - accuracy: 0.9827 - val_loss: 0.3610 - val_accuracy: 0.9039\n",
            "Epoch 55/99150\n",
            "29/29 [==============================] - ETA: 0s - loss: 0.0644 - accuracy: 0.9808\n",
            "Epoch 00055: val_accuracy did not improve from 0.92335\n",
            "29/29 [==============================] - 10s 330ms/step - loss: 0.0644 - accuracy: 0.9808 - val_loss: 0.3556 - val_accuracy: 0.9069\n",
            "Epoch 56/99150\n",
            "29/29 [==============================] - ETA: 0s - loss: 0.0631 - accuracy: 0.9814\n",
            "Epoch 00056: val_accuracy did not improve from 0.92335\n",
            "29/29 [==============================] - 10s 337ms/step - loss: 0.0631 - accuracy: 0.9814 - val_loss: 0.3579 - val_accuracy: 0.9063\n",
            "Epoch 57/99150\n",
            "29/29 [==============================] - ETA: 0s - loss: 0.0629 - accuracy: 0.9813\n",
            "Epoch 00057: val_accuracy did not improve from 0.92335\n",
            "29/29 [==============================] - 10s 335ms/step - loss: 0.0629 - accuracy: 0.9813 - val_loss: 0.3694 - val_accuracy: 0.9045\n",
            "Epoch 58/99150\n",
            "29/29 [==============================] - ETA: 0s - loss: 0.0619 - accuracy: 0.9812\n",
            "Epoch 00058: val_accuracy did not improve from 0.92335\n",
            "29/29 [==============================] - 9s 327ms/step - loss: 0.0619 - accuracy: 0.9812 - val_loss: 0.3576 - val_accuracy: 0.9082\n",
            "Epoch 59/99150\n",
            "29/29 [==============================] - ETA: 0s - loss: 0.0642 - accuracy: 0.9810\n",
            "Epoch 00059: val_accuracy did not improve from 0.92335\n",
            "29/29 [==============================] - 10s 328ms/step - loss: 0.0642 - accuracy: 0.9810 - val_loss: 0.3723 - val_accuracy: 0.9034\n",
            "Epoch 60/99150\n",
            "29/29 [==============================] - ETA: 0s - loss: 0.0599 - accuracy: 0.9823\n",
            "Epoch 00060: val_accuracy did not improve from 0.92335\n",
            "Restoring model weights from the end of the best epoch.\n",
            "\n",
            "Epoch 00060: ReduceLROnPlateau reducing learning rate to 0.00023730468819849193.\n",
            "29/29 [==============================] - 10s 335ms/step - loss: 0.0599 - accuracy: 0.9823 - val_loss: 0.3753 - val_accuracy: 0.9004\n",
            "Epoch 00060: early stopping\n"
          ],
          "name": "stdout"
        }
      ]
    },
    {
      "cell_type": "code",
      "metadata": {
        "id": "CJrG0i7OBjFo",
        "colab_type": "code",
        "colab": {
          "base_uri": "https://localhost:8080/",
          "height": 542
        },
        "outputId": "bae66b73-5712-4a34-896a-0663f0756e2c"
      },
      "source": [
        "plt.figure()\n",
        "plt.plot(history.history['loss'], label='train loss')\n",
        "plt.plot(history.history['val_loss'], label='validation loss')\n",
        "plt.xlabel('Эпоха обучения')\n",
        "plt.ylabel('Значение функции потерь')\n",
        "plt.legend()\n",
        "\n",
        "plt.figure()\n",
        "plt.plot(history.history[acc_name], label='train accuracy')\n",
        "plt.plot(history.history[val_acc_name], label='validation accuracy')\n",
        "plt.xlabel('Эпоха обучения')\n",
        "plt.ylabel('Доля верных ответов')\n",
        "plt.legend()\n",
        "\n",
        "plt.show()"
      ],
      "execution_count": 43,
      "outputs": [
        {
          "output_type": "display_data",
          "data": {
            "image/png": "[encoded data removed]",
            "text/plain": [
              "<Figure size 432x288 with 1 Axes>"
            ]
          },
          "metadata": {
            "tags": [],
            "needs_background": "light"
          }
        },
        {
          "output_type": "display_data",
          "data": {
            "image/png": "[encoded data removed]",
            "text/plain": [
              "<Figure size 432x288 with 1 Axes>"
            ]
          },
          "metadata": {
            "tags": [],
            "needs_background": "light"
          }
        }
      ]
    },
    {
      "cell_type": "code",
      "metadata": {
        "id": "oykuBbseBjFu",
        "colab_type": "code",
        "colab": {}
      },
      "source": [
        ""
      ],
      "execution_count": 43,
      "outputs": []
    }
  ]
}