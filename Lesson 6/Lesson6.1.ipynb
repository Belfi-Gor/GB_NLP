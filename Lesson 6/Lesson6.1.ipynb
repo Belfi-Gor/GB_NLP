{
  "nbformat": 4,
  "nbformat_minor": 0,
  "metadata": {
    "kernelspec": {
      "display_name": "Python 3",
      "language": "python",
      "name": "python3"
    },
    "language_info": {
      "codemirror_mode": {
        "name": "ipython",
        "version": 3
      },
      "file_extension": ".py",
      "mimetype": "text/x-python",
      "name": "python",
      "nbconvert_exporter": "python",
      "pygments_lexer": "ipython3",
      "version": "3.7.3"
    },
    "colab": {
      "name": "hw_06.ipynb",
      "provenance": []
    },
    "accelerator": "GPU"
  },
  "cells": [
    {
      "cell_type": "code",
      "metadata": {
        "id": "sgz_2TQS3n3l",
        "colab_type": "code",
        "colab": {
          "base_uri": "https://localhost:8080/",
          "height": 35
        },
        "outputId": "d2a93050-a823-4037-8e20-7d3b160aed8a"
      },
      "source": [
        "from google.colab import drive\n",
        "drive.mount('/content/drive')"
      ],
      "execution_count": 1,
      "outputs": [
        {
          "output_type": "stream",
          "text": [
            "Mounted at /content/drive\n"
          ],
          "name": "stdout"
        }
      ]
    },
    {
      "cell_type": "code",
      "metadata": {
        "id": "O51c2fRP3La5",
        "colab_type": "code",
        "colab": {
          "base_uri": "https://localhost:8080/",
          "height": 515
        },
        "outputId": "8a1d312d-94bc-4ac4-d715-a98ae79f59ee"
      },
      "source": [
        "!pip install stop_words\n",
        "!pip install pymorphy2\n",
        "!pip install youtokentome"
      ],
      "execution_count": 2,
      "outputs": [
        {
          "output_type": "stream",
          "text": [
            "Collecting stop_words\n",
            "  Downloading https://files.pythonhosted.org/packages/1c/cb/d58290804b7a4c5daa42abbbe2a93c477ae53e45541b1825e86f0dfaaf63/stop-words-2018.7.23.tar.gz\n",
            "Building wheels for collected packages: stop-words\n",
            "  Building wheel for stop-words (setup.py) ... \u001b[?25l\u001b[?25hdone\n",
            "  Created wheel for stop-words: filename=stop_words-2018.7.23-cp36-none-any.whl size=32916 sha256=a0cf84f03c3fa001e01e72efad2f71b72d28a653a8c96cad77ef0b50d2889161\n",
            "  Stored in directory: /root/.cache/pip/wheels/75/37/6a/2b295e03bd07290f0da95c3adb9a74ba95fbc333aa8b0c7c78\n",
            "Successfully built stop-words\n",
            "Installing collected packages: stop-words\n",
            "Successfully installed stop-words-2018.7.23\n",
            "Collecting pymorphy2\n",
            "\u001b[?25l  Downloading https://files.pythonhosted.org/packages/46/35/f1b0d80874fd829fb1563c5d043cd9b6a29b89cce8dc15b7a1edce010b63/pymorphy2-0.9-py3-none-any.whl (55kB)\n",
            "\u001b[K     |████████████████████████████████| 61kB 1.9MB/s \n",
            "\u001b[?25hRequirement already satisfied: docopt>=0.6 in /usr/local/lib/python3.6/dist-packages (from pymorphy2) (0.6.2)\n",
            "Collecting pymorphy2-dicts-ru<3.0,>=2.4\n",
            "\u001b[?25l  Downloading https://files.pythonhosted.org/packages/7c/9b/358faaff410f65a4ad159275e897b5956dcb20576c5b8e764b971c1634d7/pymorphy2_dicts_ru-2.4.404381.4453942-py2.py3-none-any.whl (8.0MB)\n",
            "\u001b[K     |████████████████████████████████| 8.0MB 6.1MB/s \n",
            "\u001b[?25hCollecting dawg-python>=0.7.1\n",
            "  Downloading https://files.pythonhosted.org/packages/6a/84/ff1ce2071d4c650ec85745766c0047ccc3b5036f1d03559fd46bb38b5eeb/DAWG_Python-0.7.2-py2.py3-none-any.whl\n",
            "Installing collected packages: pymorphy2-dicts-ru, dawg-python, pymorphy2\n",
            "Successfully installed dawg-python-0.7.2 pymorphy2-0.9 pymorphy2-dicts-ru-2.4.404381.4453942\n",
            "Collecting youtokentome\n",
            "\u001b[?25l  Downloading https://files.pythonhosted.org/packages/a3/65/4a86cf99da3f680497ae132329025b291e2fda22327e8da6a9476e51acb1/youtokentome-1.0.6-cp36-cp36m-manylinux2010_x86_64.whl (1.7MB)\n",
            "\u001b[K     |████████████████████████████████| 1.7MB 2.8MB/s \n",
            "\u001b[?25hRequirement already satisfied: Click>=7.0 in /usr/local/lib/python3.6/dist-packages (from youtokentome) (7.1.2)\n",
            "Installing collected packages: youtokentome\n",
            "Successfully installed youtokentome-1.0.6\n"
          ],
          "name": "stdout"
        }
      ]
    },
    {
      "cell_type": "code",
      "metadata": {
        "id": "4UJck66828-e",
        "colab_type": "code",
        "colab": {}
      },
      "source": [
        "import pandas as pd\n",
        "import numpy as np\n",
        "from string import punctuation\n",
        "from stop_words import get_stop_words\n",
        "from pymorphy2 import MorphAnalyzer\n",
        "from string import punctuation\n",
        "import re\n",
        "import nltk\n",
        "from nltk.tokenize import word_tokenize\n",
        "from nltk.probability import FreqDist\n",
        "import tensorflow as tf\n",
        "from tensorflow import keras\n",
        "import matplotlib.pyplot as plt\n",
        "from gensim.models import Word2Vec\n",
        "import multiprocessing\n",
        "import youtokentome as yttm"
      ],
      "execution_count": 3,
      "outputs": []
    },
    {
      "cell_type": "code",
      "metadata": {
        "id": "40dr-ki828_D",
        "colab_type": "code",
        "colab": {
          "base_uri": "https://localhost:8080/",
          "height": 36
        },
        "outputId": "8291ecb8-99ad-4797-ad89-2df811d85d6b"
      },
      "source": [
        "tf.__version__"
      ],
      "execution_count": 4,
      "outputs": [
        {
          "output_type": "execute_result",
          "data": {
            "application/vnd.google.colaboratory.intrinsic+json": {
              "type": "string"
            },
            "text/plain": [
              "'2.3.0'"
            ]
          },
          "metadata": {
            "tags": []
          },
          "execution_count": 4
        }
      ]
    },
    {
      "cell_type": "code",
      "metadata": {
        "id": "MQlqYMyq28_f",
        "colab_type": "code",
        "colab": {
          "base_uri": "https://localhost:8080/",
          "height": 36
        },
        "outputId": "89177c49-1236-4bb3-a0df-000ea5a220e0"
      },
      "source": [
        "keras.__version__"
      ],
      "execution_count": 5,
      "outputs": [
        {
          "output_type": "execute_result",
          "data": {
            "application/vnd.google.colaboratory.intrinsic+json": {
              "type": "string"
            },
            "text/plain": [
              "'2.4.0'"
            ]
          },
          "metadata": {
            "tags": []
          },
          "execution_count": 5
        }
      ]
    },
    {
      "cell_type": "code",
      "metadata": {
        "id": "W42horiu28_u",
        "colab_type": "code",
        "colab": {}
      },
      "source": [
        "if tf.__version__.startswith(\"1.\"):\n",
        "    val_acc_name = \"val_acc\"\n",
        "    acc_name = \"acc\"\n",
        "else:\n",
        "    val_acc_name = \"val_accuracy\"\n",
        "    acc_name = \"accuracy\""
      ],
      "execution_count": 6,
      "outputs": []
    },
    {
      "cell_type": "code",
      "metadata": {
        "id": "iwpiNRxz28_3",
        "colab_type": "code",
        "colab": {}
      },
      "source": [
        "max_words = 2000\n",
        "max_len = 150\n",
        "\n",
        "# Training\n",
        "epochs = 99150\n",
        "batch_size = 1536\n",
        "embed_vec_len = 50"
      ],
      "execution_count": 7,
      "outputs": []
    },
    {
      "cell_type": "code",
      "metadata": {
        "id": "qRnac0Jo29AH",
        "colab_type": "code",
        "colab": {}
      },
      "source": [
        "exclude = set(punctuation)"
      ],
      "execution_count": 8,
      "outputs": []
    },
    {
      "cell_type": "code",
      "metadata": {
        "id": "_r0B-BRs29AY",
        "colab_type": "code",
        "colab": {}
      },
      "source": [
        "def preprocess_text(txt):\n",
        "    txt = str(txt)\n",
        "    txt = re.sub(r'( )+', \" \", re.sub(r'[^\\w\\s]', \" \", txt)).strip()\n",
        "    txt = \"\".join(c if c not in exclude else \" \" for c in txt)\n",
        "    txt = re.sub(r'( )+', \" \", re.sub(r'[^\\w\\s]', \" \", txt)).strip()\n",
        "    txt = txt.lower()\n",
        "#     txt = re.sub(\"\\sне\", \"не\", txt)\n",
        "    return txt"
      ],
      "execution_count": 9,
      "outputs": []
    },
    {
      "cell_type": "code",
      "metadata": {
        "id": "ppIWKI6w29Al",
        "colab_type": "code",
        "colab": {
          "base_uri": "https://localhost:8080/",
          "height": 206
        },
        "outputId": "19138f92-6c57-4d18-efe1-f5aa12536b6b"
      },
      "source": [
        "otzivy_za_leto = pd.read_excel(\"/content/drive/My Drive/Нейронные сети/Neural Language Processing/Lesson 5/отзывы за лето.xls\", )\n",
        "otzivy_za_leto.head()"
      ],
      "execution_count": 10,
      "outputs": [
        {
          "output_type": "execute_result",
          "data": {
            "text/html": [
              "<div>\n",
              "<style scoped>\n",
              "    .dataframe tbody tr th:only-of-type {\n",
              "        vertical-align: middle;\n",
              "    }\n",
              "\n",
              "    .dataframe tbody tr th {\n",
              "        vertical-align: top;\n",
              "    }\n",
              "\n",
              "    .dataframe thead th {\n",
              "        text-align: right;\n",
              "    }\n",
              "</style>\n",
              "<table border=\"1\" class=\"dataframe\">\n",
              "  <thead>\n",
              "    <tr style=\"text-align: right;\">\n",
              "      <th></th>\n",
              "      <th>Rating</th>\n",
              "      <th>Content</th>\n",
              "      <th>Date</th>\n",
              "    </tr>\n",
              "  </thead>\n",
              "  <tbody>\n",
              "    <tr>\n",
              "      <th>0</th>\n",
              "      <td>5</td>\n",
              "      <td>It just works!</td>\n",
              "      <td>2017-08-14</td>\n",
              "    </tr>\n",
              "    <tr>\n",
              "      <th>1</th>\n",
              "      <td>4</td>\n",
              "      <td>В целом удобноное приложение...из минусов хотя...</td>\n",
              "      <td>2017-08-14</td>\n",
              "    </tr>\n",
              "    <tr>\n",
              "      <th>2</th>\n",
              "      <td>5</td>\n",
              "      <td>Отлично все</td>\n",
              "      <td>2017-08-14</td>\n",
              "    </tr>\n",
              "    <tr>\n",
              "      <th>3</th>\n",
              "      <td>5</td>\n",
              "      <td>Стал зависать на 1% работы антивируса. Дальше ...</td>\n",
              "      <td>2017-08-14</td>\n",
              "    </tr>\n",
              "    <tr>\n",
              "      <th>4</th>\n",
              "      <td>5</td>\n",
              "      <td>Очень удобно, работает быстро.</td>\n",
              "      <td>2017-08-14</td>\n",
              "    </tr>\n",
              "  </tbody>\n",
              "</table>\n",
              "</div>"
            ],
            "text/plain": [
              "   Rating                                            Content        Date\n",
              "0       5                                     It just works!  2017-08-14\n",
              "1       4  В целом удобноное приложение...из минусов хотя...  2017-08-14\n",
              "2       5                                        Отлично все  2017-08-14\n",
              "3       5  Стал зависать на 1% работы антивируса. Дальше ...  2017-08-14\n",
              "4       5                     Очень удобно, работает быстро.  2017-08-14"
            ]
          },
          "metadata": {
            "tags": []
          },
          "execution_count": 10
        }
      ]
    },
    {
      "cell_type": "code",
      "metadata": {
        "id": "aoIbVn2N29A2",
        "colab_type": "code",
        "colab": {
          "base_uri": "https://localhost:8080/",
          "height": 35
        },
        "outputId": "5296942f-e56d-479b-e559-d3f719583035"
      },
      "source": [
        "otzivy_za_leto.Rating.unique()"
      ],
      "execution_count": 11,
      "outputs": [
        {
          "output_type": "execute_result",
          "data": {
            "text/plain": [
              "array([5, 4, 2, 3, 1])"
            ]
          },
          "metadata": {
            "tags": []
          },
          "execution_count": 11
        }
      ]
    },
    {
      "cell_type": "code",
      "metadata": {
        "id": "kODbPm2v29BH",
        "colab_type": "code",
        "colab": {}
      },
      "source": [
        "# for to_categorical usage\n",
        "otzivy_za_leto.Rating = otzivy_za_leto.Rating - 1"
      ],
      "execution_count": 12,
      "outputs": []
    },
    {
      "cell_type": "code",
      "metadata": {
        "id": "3GWoa_RW29BY",
        "colab_type": "code",
        "colab": {
          "base_uri": "https://localhost:8080/",
          "height": 206
        },
        "outputId": "70844273-835f-4872-e82e-656979621229"
      },
      "source": [
        "otzivy_za_leto.head()"
      ],
      "execution_count": 13,
      "outputs": [
        {
          "output_type": "execute_result",
          "data": {
            "text/html": [
              "<div>\n",
              "<style scoped>\n",
              "    .dataframe tbody tr th:only-of-type {\n",
              "        vertical-align: middle;\n",
              "    }\n",
              "\n",
              "    .dataframe tbody tr th {\n",
              "        vertical-align: top;\n",
              "    }\n",
              "\n",
              "    .dataframe thead th {\n",
              "        text-align: right;\n",
              "    }\n",
              "</style>\n",
              "<table border=\"1\" class=\"dataframe\">\n",
              "  <thead>\n",
              "    <tr style=\"text-align: right;\">\n",
              "      <th></th>\n",
              "      <th>Rating</th>\n",
              "      <th>Content</th>\n",
              "      <th>Date</th>\n",
              "    </tr>\n",
              "  </thead>\n",
              "  <tbody>\n",
              "    <tr>\n",
              "      <th>0</th>\n",
              "      <td>4</td>\n",
              "      <td>It just works!</td>\n",
              "      <td>2017-08-14</td>\n",
              "    </tr>\n",
              "    <tr>\n",
              "      <th>1</th>\n",
              "      <td>3</td>\n",
              "      <td>В целом удобноное приложение...из минусов хотя...</td>\n",
              "      <td>2017-08-14</td>\n",
              "    </tr>\n",
              "    <tr>\n",
              "      <th>2</th>\n",
              "      <td>4</td>\n",
              "      <td>Отлично все</td>\n",
              "      <td>2017-08-14</td>\n",
              "    </tr>\n",
              "    <tr>\n",
              "      <th>3</th>\n",
              "      <td>4</td>\n",
              "      <td>Стал зависать на 1% работы антивируса. Дальше ...</td>\n",
              "      <td>2017-08-14</td>\n",
              "    </tr>\n",
              "    <tr>\n",
              "      <th>4</th>\n",
              "      <td>4</td>\n",
              "      <td>Очень удобно, работает быстро.</td>\n",
              "      <td>2017-08-14</td>\n",
              "    </tr>\n",
              "  </tbody>\n",
              "</table>\n",
              "</div>"
            ],
            "text/plain": [
              "   Rating                                            Content        Date\n",
              "0       4                                     It just works!  2017-08-14\n",
              "1       3  В целом удобноное приложение...из минусов хотя...  2017-08-14\n",
              "2       4                                        Отлично все  2017-08-14\n",
              "3       4  Стал зависать на 1% работы антивируса. Дальше ...  2017-08-14\n",
              "4       4                     Очень удобно, работает быстро.  2017-08-14"
            ]
          },
          "metadata": {
            "tags": []
          },
          "execution_count": 13
        }
      ]
    },
    {
      "cell_type": "code",
      "metadata": {
        "id": "rjccKeuY29Bm",
        "colab_type": "code",
        "colab": {
          "base_uri": "https://localhost:8080/",
          "height": 35
        },
        "outputId": "ae0925b6-2a4c-4f22-a9b2-c287551f900c"
      },
      "source": [
        "otzivy_za_leto.Rating.unique()"
      ],
      "execution_count": 14,
      "outputs": [
        {
          "output_type": "execute_result",
          "data": {
            "text/plain": [
              "array([4, 3, 1, 2, 0])"
            ]
          },
          "metadata": {
            "tags": []
          },
          "execution_count": 14
        }
      ]
    },
    {
      "cell_type": "code",
      "metadata": {
        "id": "F1g-z1Hm29Bv",
        "colab_type": "code",
        "colab": {
          "base_uri": "https://localhost:8080/",
          "height": 35
        },
        "outputId": "0d65d40b-6304-4c26-f6f0-a2eed41426ef"
      },
      "source": [
        "num_classes = len(otzivy_za_leto[\"Rating\"].unique())\n",
        "num_classes"
      ],
      "execution_count": 15,
      "outputs": [
        {
          "output_type": "execute_result",
          "data": {
            "text/plain": [
              "5"
            ]
          },
          "metadata": {
            "tags": []
          },
          "execution_count": 15
        }
      ]
    },
    {
      "cell_type": "code",
      "metadata": {
        "id": "eih0jwwT29CE",
        "colab_type": "code",
        "colab": {}
      },
      "source": [
        "vfunc = np.vectorize(preprocess_text)"
      ],
      "execution_count": 16,
      "outputs": []
    },
    {
      "cell_type": "code",
      "metadata": {
        "id": "ZD0FOHQs29CQ",
        "colab_type": "code",
        "colab": {
          "base_uri": "https://localhost:8080/",
          "height": 54
        },
        "outputId": "67d73653-1f02-4854-8fce-4803c88e1eb6"
      },
      "source": [
        "%%time\n",
        "otzivy_za_leto[\"text\"] = vfunc(otzivy_za_leto.Content)\n",
        "otzivy_za_leto.head()"
      ],
      "execution_count": 17,
      "outputs": [
        {
          "output_type": "stream",
          "text": [
            "CPU times: user 561 ms, sys: 99 ms, total: 660 ms\n",
            "Wall time: 665 ms\n"
          ],
          "name": "stdout"
        }
      ]
    },
    {
      "cell_type": "code",
      "metadata": {
        "id": "v5-BMUNj29Cd",
        "colab_type": "code",
        "colab": {}
      },
      "source": [
        "train_corpus = \" \".join(otzivy_za_leto[\"text\"])\n",
        "train_corpus = train_corpus.lower()"
      ],
      "execution_count": 18,
      "outputs": []
    },
    {
      "cell_type": "code",
      "metadata": {
        "id": "HMBARFBG29Cr",
        "colab_type": "code",
        "colab": {
          "base_uri": "https://localhost:8080/",
          "height": 35
        },
        "outputId": "0e6c71c5-0205-43b0-d8f6-24bc674f2898"
      },
      "source": [
        "len(train_corpus)"
      ],
      "execution_count": 19,
      "outputs": [
        {
          "output_type": "execute_result",
          "data": {
            "text/plain": [
              "1136568"
            ]
          },
          "metadata": {
            "tags": []
          },
          "execution_count": 19
        }
      ]
    },
    {
      "cell_type": "code",
      "metadata": {
        "id": "obsvuqXz29C0",
        "colab_type": "code",
        "colab": {
          "base_uri": "https://localhost:8080/",
          "height": 128
        },
        "outputId": "56db24b4-8fd7-4ae4-8f7e-9114c6c676d5"
      },
      "source": [
        "train_corpus[:1000]"
      ],
      "execution_count": 20,
      "outputs": [
        {
          "output_type": "execute_result",
          "data": {
            "application/vnd.google.colaboratory.intrinsic+json": {
              "type": "string"
            },
            "text/plain": [
              "'it just works в целом удобноное приложение из минусов хотят слишком большой доступ к персональным данным в телефоне приходится пользоваться в ограниченном режиме отлично все стал зависать на 1 работы антивируса дальше никуда ранее больше года пользовался нормально очень удобно работает быстро всё удобно норм очень удобное приложение все устраивает у меня работает все четко в отличии от банкоматов которые вечно зависают и тупят очень все хорошо все ок все нормально кроме того что уведомление нельзя удалять не стартует без доступа к gps sms звонкам и адресной книге филиал фсб одним словом очень удобно работает замечательно подвисаний нет очень удобно очень удобная штука отличное приложение удобно практично очень удобное приложение для оплаты платежей и переводов удобно и быстро очень удобное приложение вот можно было бы транспортные карты пополнять через приложение так вообще замечательно было бы жаль что история всех движений под семью замками хорошее приложение удобно и без лишних хлоп'"
            ]
          },
          "metadata": {
            "tags": []
          },
          "execution_count": 20
        }
      ]
    },
    {
      "cell_type": "code",
      "metadata": {
        "id": "XNKEfjlC29C8",
        "colab_type": "code",
        "colab": {}
      },
      "source": [
        "train_corpus_filepath = \"train_corpus.txt\"\n",
        "with open(train_corpus_filepath, \"wt\") as out:\n",
        "    out.write(train_corpus)"
      ],
      "execution_count": 21,
      "outputs": []
    },
    {
      "cell_type": "code",
      "metadata": {
        "id": "bbtlcJyn29DF",
        "colab_type": "code",
        "colab": {}
      },
      "source": [
        "# for i in range(20):\n",
        "#     print(otzivy_za_leto.iloc[i][\"Content\"],\"\\n\", otzivy_za_leto.iloc[i][\"text\"], \"\\n\\n\")"
      ],
      "execution_count": 22,
      "outputs": []
    },
    {
      "cell_type": "code",
      "metadata": {
        "id": "cV8h-LGU29DM",
        "colab_type": "code",
        "colab": {}
      },
      "source": [
        "bpe_model = yttm.BPE.train(data=train_corpus_filepath, vocab_size=max_words, model=\"model.bpe\")"
      ],
      "execution_count": 23,
      "outputs": []
    },
    {
      "cell_type": "code",
      "metadata": {
        "id": "vJ7AoXvh29DY",
        "colab_type": "code",
        "colab": {
          "base_uri": "https://localhost:8080/",
          "height": 72
        },
        "outputId": "e7478304-39f4-405d-b230-41d1d253bc30"
      },
      "source": [
        "tst_text = \"привет как дела мартышка\"\n",
        "encoded = bpe_model.encode(tst_text)\n",
        "encoded2 = bpe_model.encode(tst_text, output_type=yttm.OutputType.SUBWORD)\n",
        "print(encoded)\n",
        "print(encoded2)\n",
        "print(bpe_model.decode(encoded))"
      ],
      "execution_count": 24,
      "outputs": [
        {
          "output_type": "stream",
          "text": [
            "[1686, 310, 531, 710, 11, 322, 29, 169]\n",
            "['▁привет', '▁как', '▁дела', '▁ма', 'р', 'ты', 'ш', 'ка']\n",
            "['привет как дела мартышка']\n"
          ],
          "name": "stdout"
        }
      ]
    },
    {
      "cell_type": "code",
      "metadata": {
        "id": "IwDsta9u29Do",
        "colab_type": "code",
        "colab": {
          "base_uri": "https://localhost:8080/",
          "height": 1000
        },
        "outputId": "39870fcb-d84a-442d-ca24-5bb6372cc0d4"
      },
      "source": [
        "for i in range(10):\n",
        "    encoded = bpe_model.encode(otzivy_za_leto.iloc[i][\"text\"])\n",
        "    print(i, \"\\'\" + otzivy_za_leto.iloc[i][\"text\"] + \"\\'\", encoded, bpe_model.decode(encoded), \"\\n\", sep=\"\\n\\t\")"
      ],
      "execution_count": 25,
      "outputs": [
        {
          "output_type": "stream",
          "text": [
            "0\n",
            "\t'it just works'\n",
            "\t[1259, 42, 4, 73, 1103, 42, 1133, 1632, 64, 43]\n",
            "\t['it just works']\n",
            "\t\n",
            "\n",
            "1\n",
            "\t'в целом удобноное приложение из минусов хотят слишком большой доступ к персональным данным в телефоне приходится пользоваться в ограниченном режиме'\n",
            "\t[119, 745, 153, 308, 147, 306, 862, 976, 615, 10, 1653, 876, 30, 439, 141, 516, 12, 525, 145, 671, 825, 671, 119, 609, 496, 492, 119, 966, 578, 20, 325, 360, 379]\n",
            "\t['в целом удобноное приложение из минусов хотят слишком большой доступ к персональным данным в телефоне приходится пользоваться в ограниченном режиме']\n",
            "\t\n",
            "\n",
            "2\n",
            "\t'отлично все'\n",
            "\t[193, 163]\n",
            "\t['отлично все']\n",
            "\t\n",
            "\n",
            "3\n",
            "\t'стал зависать на 1 работы антивируса дальше никуда ранее больше года пользовался нормально'\n",
            "\t[1201, 827, 1162, 162, 485, 1440, 644, 1229, 268, 1738, 156, 618, 770, 1546, 1809, 418]\n",
            "\t['стал зависать на 1 работы антивируса дальше никуда ранее больше года пользовался нормально']\n",
            "\t\n",
            "\n",
            "4\n",
            "\t'очень удобно работает быстро'\n",
            "\t[170, 153, 225, 294]\n",
            "\t['очень удобно работает быстро']\n",
            "\t\n",
            "\n",
            "5\n",
            "\t'всё удобно норм'\n",
            "\t[213, 153, 466]\n",
            "\t['всё удобно норм']\n",
            "\t\n",
            "\n",
            "6\n",
            "\t'очень удобное приложение'\n",
            "\t[170, 234, 147]\n",
            "\t['очень удобное приложение']\n",
            "\t\n",
            "\n",
            "7\n",
            "\t'все устраивает'\n",
            "\t[163, 359]\n",
            "\t['все устраивает']\n",
            "\t\n",
            "\n",
            "8\n",
            "\t'у меня работает все четко в отличии от банкоматов которые вечно зависают и тупят'\n",
            "\t[126, 296, 225, 163, 1451, 119, 187, 214, 9, 164, 1041, 663, 1374, 517, 180, 827, 8, 504, 133, 847, 23, 10]\n",
            "\t['у меня работает все четко в отличии от банкоматов которые вечно зависают и тупят']\n",
            "\t\n",
            "\n",
            "9\n",
            "\t'очень все хорошо'\n",
            "\t[170, 163, 263]\n",
            "\t['очень все хорошо']\n",
            "\t\n",
            "\n"
          ],
          "name": "stdout"
        }
      ]
    },
    {
      "cell_type": "code",
      "metadata": {
        "id": "m7X4_lal29Dy",
        "colab_type": "code",
        "colab": {}
      },
      "source": [
        "def text_to_sequence(text, maxlen):\n",
        "    result = []\n",
        "#     tokens = word_tokenize(text.lower())\n",
        "    tokens = bpe_model.encode(text.lower())\n",
        "#     tokens_filtered = [word for word in tokens if word.isalnum()]\n",
        "    for word in tokens:\n",
        "#         if word in vocabulary:\n",
        "#             result.append(vocabulary[word])\n",
        "        result.append(word)\n",
        "    padding = [0]*(maxlen-len(result))\n",
        "    if len(padding) >= 1:\n",
        "        padding[-1] = 2 # <BOS> begin of sentence token\n",
        "    return padding + result[-maxlen:]"
      ],
      "execution_count": 26,
      "outputs": []
    },
    {
      "cell_type": "code",
      "metadata": {
        "id": "7dnanozN29EB",
        "colab_type": "code",
        "colab": {
          "base_uri": "https://localhost:8080/",
          "height": 221
        },
        "outputId": "fd9b2281-79c2-475e-d9d2-6300ef5bffdf"
      },
      "source": [
        "for i in range(10):\n",
        "    text = otzivy_za_leto.iloc[i][\"text\"]\n",
        "    seq = text_to_sequence(text, max_len)\n",
        "    print(text, seq)"
      ],
      "execution_count": 27,
      "outputs": [
        {
          "output_type": "stream",
          "text": [
            "it just works [0, 0, 0, 0, 0, 0, 0, 0, 0, 0, 0, 0, 0, 0, 0, 0, 0, 0, 0, 0, 0, 0, 0, 0, 0, 0, 0, 0, 0, 0, 0, 0, 0, 0, 0, 0, 0, 0, 0, 0, 0, 0, 0, 0, 0, 0, 0, 0, 0, 0, 0, 0, 0, 0, 0, 0, 0, 0, 0, 0, 0, 0, 0, 0, 0, 0, 0, 0, 0, 0, 0, 0, 0, 0, 0, 0, 0, 0, 0, 0, 0, 0, 0, 0, 0, 0, 0, 0, 0, 0, 0, 0, 0, 0, 0, 0, 0, 0, 0, 0, 0, 0, 0, 0, 0, 0, 0, 0, 0, 0, 0, 0, 0, 0, 0, 0, 0, 0, 0, 0, 0, 0, 0, 0, 0, 0, 0, 0, 0, 0, 0, 0, 0, 0, 0, 0, 0, 0, 0, 2, 1259, 42, 4, 73, 1103, 42, 1133, 1632, 64, 43]\n",
            "в целом удобноное приложение из минусов хотят слишком большой доступ к персональным данным в телефоне приходится пользоваться в ограниченном режиме [0, 0, 0, 0, 0, 0, 0, 0, 0, 0, 0, 0, 0, 0, 0, 0, 0, 0, 0, 0, 0, 0, 0, 0, 0, 0, 0, 0, 0, 0, 0, 0, 0, 0, 0, 0, 0, 0, 0, 0, 0, 0, 0, 0, 0, 0, 0, 0, 0, 0, 0, 0, 0, 0, 0, 0, 0, 0, 0, 0, 0, 0, 0, 0, 0, 0, 0, 0, 0, 0, 0, 0, 0, 0, 0, 0, 0, 0, 0, 0, 0, 0, 0, 0, 0, 0, 0, 0, 0, 0, 0, 0, 0, 0, 0, 0, 0, 0, 0, 0, 0, 0, 0, 0, 0, 0, 0, 0, 0, 0, 0, 0, 0, 0, 0, 0, 2, 119, 745, 153, 308, 147, 306, 862, 976, 615, 10, 1653, 876, 30, 439, 141, 516, 12, 525, 145, 671, 825, 671, 119, 609, 496, 492, 119, 966, 578, 20, 325, 360, 379]\n",
            "отлично все [0, 0, 0, 0, 0, 0, 0, 0, 0, 0, 0, 0, 0, 0, 0, 0, 0, 0, 0, 0, 0, 0, 0, 0, 0, 0, 0, 0, 0, 0, 0, 0, 0, 0, 0, 0, 0, 0, 0, 0, 0, 0, 0, 0, 0, 0, 0, 0, 0, 0, 0, 0, 0, 0, 0, 0, 0, 0, 0, 0, 0, 0, 0, 0, 0, 0, 0, 0, 0, 0, 0, 0, 0, 0, 0, 0, 0, 0, 0, 0, 0, 0, 0, 0, 0, 0, 0, 0, 0, 0, 0, 0, 0, 0, 0, 0, 0, 0, 0, 0, 0, 0, 0, 0, 0, 0, 0, 0, 0, 0, 0, 0, 0, 0, 0, 0, 0, 0, 0, 0, 0, 0, 0, 0, 0, 0, 0, 0, 0, 0, 0, 0, 0, 0, 0, 0, 0, 0, 0, 0, 0, 0, 0, 0, 0, 0, 0, 2, 193, 163]\n",
            "стал зависать на 1 работы антивируса дальше никуда ранее больше года пользовался нормально [0, 0, 0, 0, 0, 0, 0, 0, 0, 0, 0, 0, 0, 0, 0, 0, 0, 0, 0, 0, 0, 0, 0, 0, 0, 0, 0, 0, 0, 0, 0, 0, 0, 0, 0, 0, 0, 0, 0, 0, 0, 0, 0, 0, 0, 0, 0, 0, 0, 0, 0, 0, 0, 0, 0, 0, 0, 0, 0, 0, 0, 0, 0, 0, 0, 0, 0, 0, 0, 0, 0, 0, 0, 0, 0, 0, 0, 0, 0, 0, 0, 0, 0, 0, 0, 0, 0, 0, 0, 0, 0, 0, 0, 0, 0, 0, 0, 0, 0, 0, 0, 0, 0, 0, 0, 0, 0, 0, 0, 0, 0, 0, 0, 0, 0, 0, 0, 0, 0, 0, 0, 0, 0, 0, 0, 0, 0, 0, 0, 0, 0, 0, 0, 2, 1201, 827, 1162, 162, 485, 1440, 644, 1229, 268, 1738, 156, 618, 770, 1546, 1809, 418]\n",
            "очень удобно работает быстро [0, 0, 0, 0, 0, 0, 0, 0, 0, 0, 0, 0, 0, 0, 0, 0, 0, 0, 0, 0, 0, 0, 0, 0, 0, 0, 0, 0, 0, 0, 0, 0, 0, 0, 0, 0, 0, 0, 0, 0, 0, 0, 0, 0, 0, 0, 0, 0, 0, 0, 0, 0, 0, 0, 0, 0, 0, 0, 0, 0, 0, 0, 0, 0, 0, 0, 0, 0, 0, 0, 0, 0, 0, 0, 0, 0, 0, 0, 0, 0, 0, 0, 0, 0, 0, 0, 0, 0, 0, 0, 0, 0, 0, 0, 0, 0, 0, 0, 0, 0, 0, 0, 0, 0, 0, 0, 0, 0, 0, 0, 0, 0, 0, 0, 0, 0, 0, 0, 0, 0, 0, 0, 0, 0, 0, 0, 0, 0, 0, 0, 0, 0, 0, 0, 0, 0, 0, 0, 0, 0, 0, 0, 0, 0, 0, 2, 170, 153, 225, 294]\n",
            "всё удобно норм [0, 0, 0, 0, 0, 0, 0, 0, 0, 0, 0, 0, 0, 0, 0, 0, 0, 0, 0, 0, 0, 0, 0, 0, 0, 0, 0, 0, 0, 0, 0, 0, 0, 0, 0, 0, 0, 0, 0, 0, 0, 0, 0, 0, 0, 0, 0, 0, 0, 0, 0, 0, 0, 0, 0, 0, 0, 0, 0, 0, 0, 0, 0, 0, 0, 0, 0, 0, 0, 0, 0, 0, 0, 0, 0, 0, 0, 0, 0, 0, 0, 0, 0, 0, 0, 0, 0, 0, 0, 0, 0, 0, 0, 0, 0, 0, 0, 0, 0, 0, 0, 0, 0, 0, 0, 0, 0, 0, 0, 0, 0, 0, 0, 0, 0, 0, 0, 0, 0, 0, 0, 0, 0, 0, 0, 0, 0, 0, 0, 0, 0, 0, 0, 0, 0, 0, 0, 0, 0, 0, 0, 0, 0, 0, 0, 0, 2, 213, 153, 466]\n",
            "очень удобное приложение [0, 0, 0, 0, 0, 0, 0, 0, 0, 0, 0, 0, 0, 0, 0, 0, 0, 0, 0, 0, 0, 0, 0, 0, 0, 0, 0, 0, 0, 0, 0, 0, 0, 0, 0, 0, 0, 0, 0, 0, 0, 0, 0, 0, 0, 0, 0, 0, 0, 0, 0, 0, 0, 0, 0, 0, 0, 0, 0, 0, 0, 0, 0, 0, 0, 0, 0, 0, 0, 0, 0, 0, 0, 0, 0, 0, 0, 0, 0, 0, 0, 0, 0, 0, 0, 0, 0, 0, 0, 0, 0, 0, 0, 0, 0, 0, 0, 0, 0, 0, 0, 0, 0, 0, 0, 0, 0, 0, 0, 0, 0, 0, 0, 0, 0, 0, 0, 0, 0, 0, 0, 0, 0, 0, 0, 0, 0, 0, 0, 0, 0, 0, 0, 0, 0, 0, 0, 0, 0, 0, 0, 0, 0, 0, 0, 0, 2, 170, 234, 147]\n",
            "все устраивает [0, 0, 0, 0, 0, 0, 0, 0, 0, 0, 0, 0, 0, 0, 0, 0, 0, 0, 0, 0, 0, 0, 0, 0, 0, 0, 0, 0, 0, 0, 0, 0, 0, 0, 0, 0, 0, 0, 0, 0, 0, 0, 0, 0, 0, 0, 0, 0, 0, 0, 0, 0, 0, 0, 0, 0, 0, 0, 0, 0, 0, 0, 0, 0, 0, 0, 0, 0, 0, 0, 0, 0, 0, 0, 0, 0, 0, 0, 0, 0, 0, 0, 0, 0, 0, 0, 0, 0, 0, 0, 0, 0, 0, 0, 0, 0, 0, 0, 0, 0, 0, 0, 0, 0, 0, 0, 0, 0, 0, 0, 0, 0, 0, 0, 0, 0, 0, 0, 0, 0, 0, 0, 0, 0, 0, 0, 0, 0, 0, 0, 0, 0, 0, 0, 0, 0, 0, 0, 0, 0, 0, 0, 0, 0, 0, 0, 0, 2, 163, 359]\n",
            "у меня работает все четко в отличии от банкоматов которые вечно зависают и тупят [0, 0, 0, 0, 0, 0, 0, 0, 0, 0, 0, 0, 0, 0, 0, 0, 0, 0, 0, 0, 0, 0, 0, 0, 0, 0, 0, 0, 0, 0, 0, 0, 0, 0, 0, 0, 0, 0, 0, 0, 0, 0, 0, 0, 0, 0, 0, 0, 0, 0, 0, 0, 0, 0, 0, 0, 0, 0, 0, 0, 0, 0, 0, 0, 0, 0, 0, 0, 0, 0, 0, 0, 0, 0, 0, 0, 0, 0, 0, 0, 0, 0, 0, 0, 0, 0, 0, 0, 0, 0, 0, 0, 0, 0, 0, 0, 0, 0, 0, 0, 0, 0, 0, 0, 0, 0, 0, 0, 0, 0, 0, 0, 0, 0, 0, 0, 0, 0, 0, 0, 0, 0, 0, 0, 0, 0, 0, 2, 126, 296, 225, 163, 1451, 119, 187, 214, 9, 164, 1041, 663, 1374, 517, 180, 827, 8, 504, 133, 847, 23, 10]\n",
            "очень все хорошо [0, 0, 0, 0, 0, 0, 0, 0, 0, 0, 0, 0, 0, 0, 0, 0, 0, 0, 0, 0, 0, 0, 0, 0, 0, 0, 0, 0, 0, 0, 0, 0, 0, 0, 0, 0, 0, 0, 0, 0, 0, 0, 0, 0, 0, 0, 0, 0, 0, 0, 0, 0, 0, 0, 0, 0, 0, 0, 0, 0, 0, 0, 0, 0, 0, 0, 0, 0, 0, 0, 0, 0, 0, 0, 0, 0, 0, 0, 0, 0, 0, 0, 0, 0, 0, 0, 0, 0, 0, 0, 0, 0, 0, 0, 0, 0, 0, 0, 0, 0, 0, 0, 0, 0, 0, 0, 0, 0, 0, 0, 0, 0, 0, 0, 0, 0, 0, 0, 0, 0, 0, 0, 0, 0, 0, 0, 0, 0, 0, 0, 0, 0, 0, 0, 0, 0, 0, 0, 0, 0, 0, 0, 0, 0, 0, 0, 2, 170, 163, 263]\n"
          ],
          "name": "stdout"
        }
      ]
    },
    {
      "cell_type": "code",
      "metadata": {
        "id": "7TdK_iw029EM",
        "colab_type": "code",
        "colab": {}
      },
      "source": [
        "x_train = np.asarray([text_to_sequence(text, max_len) for text in otzivy_za_leto[\"text\"]], dtype=np.int32)"
      ],
      "execution_count": 28,
      "outputs": []
    },
    {
      "cell_type": "code",
      "metadata": {
        "id": "gkm1-ten29EX",
        "colab_type": "code",
        "colab": {
          "base_uri": "https://localhost:8080/",
          "height": 274
        },
        "outputId": "6813ca6d-3a2b-49be-b1b3-9fa4a33f1d2b"
      },
      "source": [
        "x_train[-15]"
      ],
      "execution_count": 29,
      "outputs": [
        {
          "output_type": "execute_result",
          "data": {
            "text/plain": [
              "array([   0,    0,    0,    0,    0,    0,    0,    0,    0,    0,    0,\n",
              "          0,    0,    0,    0,    0,    0,    0,    0,    0,    0,    0,\n",
              "          0,    0,    0,    0,    0,    0,    0,    0,    0,    0,    0,\n",
              "          0,    0,    0,    0,    0,    0,    0,    0,    0,    0,    0,\n",
              "          0,    0,    0,    0,    0,    0,    0,    0,    0,    0,    0,\n",
              "          0,    0,    0,    0,    0,    0,    0,    0,    0,    0,    0,\n",
              "          0,    0,    0,    0,    0,    0,    0,    0,    0,    0,    0,\n",
              "          0,    0,    0,    0,    0,    0,    0,    0,    0,    0,    0,\n",
              "          0,    0,    0,    0,    0,    2,  119,  293, 1305, 1480,  271,\n",
              "        538,  402,  164, 1323,  173, 1441, 1605,  131,  978,  204,  335,\n",
              "        133,  178,  320,  126,  659,  134,  547,  123,  670,   20,  341,\n",
              "       1386,  141,  980,   30,  131, 1996,    7, 1097,  452,  273,  562,\n",
              "        820,  349,  125,   17,  463,   29,  486,  198,  611, 1197,  134,\n",
              "        228, 1906, 1625,  439,  141, 1733,   20], dtype=int32)"
            ]
          },
          "metadata": {
            "tags": []
          },
          "execution_count": 29
        }
      ]
    },
    {
      "cell_type": "code",
      "metadata": {
        "id": "zyj94ND729Ek",
        "colab_type": "code",
        "colab": {
          "base_uri": "https://localhost:8080/",
          "height": 1000
        },
        "outputId": "3a17917b-2911-4767-a116-c0fc90c30c85"
      },
      "source": [
        "bpe_model.vocab()[:200]"
      ],
      "execution_count": 30,
      "outputs": [
        {
          "output_type": "execute_result",
          "data": {
            "text/plain": [
              "['<PAD>',\n",
              " '<UNK>',\n",
              " '<BOS>',\n",
              " '<EOS>',\n",
              " '▁',\n",
              " 'о',\n",
              " 'е',\n",
              " 'н',\n",
              " 'а',\n",
              " 'и',\n",
              " 'т',\n",
              " 'р',\n",
              " 'с',\n",
              " 'л',\n",
              " 'в',\n",
              " 'п',\n",
              " 'д',\n",
              " 'у',\n",
              " 'б',\n",
              " 'к',\n",
              " 'м',\n",
              " 'ь',\n",
              " 'ч',\n",
              " 'я',\n",
              " 'ж',\n",
              " 'з',\n",
              " 'ы',\n",
              " 'г',\n",
              " 'х',\n",
              " 'ш',\n",
              " 'й',\n",
              " 'ю',\n",
              " 'ц',\n",
              " 'ф',\n",
              " 'ё',\n",
              " 'э',\n",
              " 'щ',\n",
              " 'o',\n",
              " 'e',\n",
              " 'i',\n",
              " 'a',\n",
              " 'r',\n",
              " 't',\n",
              " 's',\n",
              " 'm',\n",
              " 'n',\n",
              " '0',\n",
              " 'u',\n",
              " '2',\n",
              " '5',\n",
              " '1',\n",
              " 'l',\n",
              " 'd',\n",
              " 'p',\n",
              " '3',\n",
              " '4',\n",
              " 'z',\n",
              " 'g',\n",
              " 'y',\n",
              " 'c',\n",
              " 'h',\n",
              " '6',\n",
              " 'f',\n",
              " 'x',\n",
              " 'k',\n",
              " 'w',\n",
              " '7',\n",
              " 'b',\n",
              " 'v',\n",
              " '9',\n",
              " '8',\n",
              " 'q',\n",
              " 'ъ',\n",
              " 'j',\n",
              " 'ј',\n",
              " 'і',\n",
              " '好',\n",
              " 'い',\n",
              " 'د',\n",
              " 'ج',\n",
              " 'ա',\n",
              " 'ө',\n",
              " 'š',\n",
              " 'č',\n",
              " 'è',\n",
              " '软',\n",
              " '的',\n",
              " '用',\n",
              " '物',\n",
              " '挺',\n",
              " '很',\n",
              " '件',\n",
              " 'っ',\n",
              " 'だ',\n",
              " 'ぜ',\n",
              " 'こ',\n",
              " 'か',\n",
              " 'ي',\n",
              " 'ا',\n",
              " 'պ',\n",
              " 'ո',\n",
              " 'յ',\n",
              " 'հ',\n",
              " 'կ',\n",
              " 'է',\n",
              " 'џ',\n",
              " 'ў',\n",
              " 'ћ',\n",
              " 'ї',\n",
              " 'є',\n",
              " 'ѓ',\n",
              " 'ђ',\n",
              " 'ω',\n",
              " 'ö',\n",
              " 'ó',\n",
              " 'ä',\n",
              " '▁п',\n",
              " 'но',\n",
              " 'ен',\n",
              " '▁в',\n",
              " '▁н',\n",
              " '▁о',\n",
              " '▁пр',\n",
              " '▁с',\n",
              " 'ра',\n",
              " 'ло',\n",
              " '▁у',\n",
              " 'то',\n",
              " 'ет',\n",
              " 'ени',\n",
              " 'до',\n",
              " '▁при',\n",
              " '▁по',\n",
              " '▁и',\n",
              " 'та',\n",
              " '▁не',\n",
              " 'лож',\n",
              " 'ложени',\n",
              " '▁приложени',\n",
              " 'ер',\n",
              " 'ть',\n",
              " '▁к',\n",
              " 'бно',\n",
              " '▁вс',\n",
              " 'ро',\n",
              " 'ль',\n",
              " '▁м',\n",
              " '▁приложение',\n",
              " 'ли',\n",
              " '▁удо',\n",
              " 'бо',\n",
              " 'за',\n",
              " 'хо',\n",
              " '▁удобно',\n",
              " 'ва',\n",
              " '▁б',\n",
              " '▁ра',\n",
              " 'те',\n",
              " 'ся',\n",
              " 'ень',\n",
              " 'ла',\n",
              " 'ст',\n",
              " '▁на',\n",
              " '▁все',\n",
              " '▁от',\n",
              " '▁про',\n",
              " '▁оч',\n",
              " 'ле',\n",
              " 'да',\n",
              " 'ка',\n",
              " '▁очень',\n",
              " '▁за',\n",
              " 'ко',\n",
              " 'го',\n",
              " 'во',\n",
              " 'ви',\n",
              " '▁ч',\n",
              " 'ру',\n",
              " 'на',\n",
              " '▁д',\n",
              " 'чно',\n",
              " 'ан',\n",
              " 'ди',\n",
              " 'ти',\n",
              " '▁но',\n",
              " 'не',\n",
              " '▁хо',\n",
              " '▁отли',\n",
              " 'ас',\n",
              " '▁до',\n",
              " '▁мо',\n",
              " '▁рабо',\n",
              " 'ре',\n",
              " '▁отлично',\n",
              " '▁ка',\n",
              " '▁то',\n",
              " 'ны',\n",
              " '▁бы',\n",
              " 'ни',\n",
              " '▁работа']"
            ]
          },
          "metadata": {
            "tags": []
          },
          "execution_count": 30
        }
      ]
    },
    {
      "cell_type": "code",
      "metadata": {
        "id": "nGaPBq6q29Ev",
        "colab_type": "code",
        "colab": {
          "base_uri": "https://localhost:8080/",
          "height": 55
        },
        "outputId": "4d87bdae-be88-441c-fcb4-6642bc95fb84"
      },
      "source": [
        "bpe_model.decode(x_train[-15].tolist())"
      ],
      "execution_count": 31,
      "outputs": [
        {
          "output_type": "execute_result",
          "data": {
            "text/plain": [
              "['<PAD><PAD><PAD><PAD><PAD><PAD><PAD><PAD><PAD><PAD><PAD><PAD><PAD><PAD><PAD><PAD><PAD><PAD><PAD><PAD><PAD><PAD><PAD><PAD><PAD><PAD><PAD><PAD><PAD><PAD><PAD><PAD><PAD><PAD><PAD><PAD><PAD><PAD><PAD><PAD><PAD><PAD><PAD><PAD><PAD><PAD><PAD><PAD><PAD><PAD><PAD><PAD><PAD><PAD><PAD><PAD><PAD><PAD><PAD><PAD><PAD><PAD><PAD><PAD><PAD><PAD><PAD><PAD><PAD><PAD><PAD><PAD><PAD><PAD><PAD><PAD><PAD><PAD><PAD><PAD><PAD><PAD><PAD><PAD><PAD><PAD><PAD><PAD><PAD><PAD><PAD><PAD><PAD><BOS> введите необходимость вводить пароль от личного кабинета при установки приложения иначе утрата телефона с сим картой к которой привязан мобильный банк даёт возможность злоумышленникам моментально получить полный доступ к средствам']"
            ]
          },
          "metadata": {
            "tags": []
          },
          "execution_count": 31
        }
      ]
    },
    {
      "cell_type": "code",
      "metadata": {
        "id": "r7o6W1A129E-",
        "colab_type": "code",
        "colab": {}
      },
      "source": [
        "y_train = keras.utils.to_categorical(otzivy_za_leto[\"Rating\"], num_classes)"
      ],
      "execution_count": 32,
      "outputs": []
    },
    {
      "cell_type": "code",
      "metadata": {
        "id": "d_-SJx0Y29FJ",
        "colab_type": "code",
        "colab": {
          "base_uri": "https://localhost:8080/",
          "height": 384
        },
        "outputId": "95aaa208-3bb7-4eaf-e3b3-e76fba704cd6"
      },
      "source": [
        "for i, rec in enumerate(y_train[:20].tolist()):\n",
        "    print(i, otzivy_za_leto.iloc[i][\"Rating\"], rec)"
      ],
      "execution_count": 33,
      "outputs": [
        {
          "output_type": "stream",
          "text": [
            "0 4 [0.0, 0.0, 0.0, 0.0, 1.0]\n",
            "1 3 [0.0, 0.0, 0.0, 1.0, 0.0]\n",
            "2 4 [0.0, 0.0, 0.0, 0.0, 1.0]\n",
            "3 4 [0.0, 0.0, 0.0, 0.0, 1.0]\n",
            "4 4 [0.0, 0.0, 0.0, 0.0, 1.0]\n",
            "5 4 [0.0, 0.0, 0.0, 0.0, 1.0]\n",
            "6 4 [0.0, 0.0, 0.0, 0.0, 1.0]\n",
            "7 4 [0.0, 0.0, 0.0, 0.0, 1.0]\n",
            "8 4 [0.0, 0.0, 0.0, 0.0, 1.0]\n",
            "9 4 [0.0, 0.0, 0.0, 0.0, 1.0]\n",
            "10 4 [0.0, 0.0, 0.0, 0.0, 1.0]\n",
            "11 4 [0.0, 0.0, 0.0, 0.0, 1.0]\n",
            "12 1 [0.0, 1.0, 0.0, 0.0, 0.0]\n",
            "13 4 [0.0, 0.0, 0.0, 0.0, 1.0]\n",
            "14 4 [0.0, 0.0, 0.0, 0.0, 1.0]\n",
            "15 4 [0.0, 0.0, 0.0, 0.0, 1.0]\n",
            "16 4 [0.0, 0.0, 0.0, 0.0, 1.0]\n",
            "17 4 [0.0, 0.0, 0.0, 0.0, 1.0]\n",
            "18 4 [0.0, 0.0, 0.0, 0.0, 1.0]\n",
            "19 4 [0.0, 0.0, 0.0, 0.0, 1.0]\n"
          ],
          "name": "stdout"
        }
      ]
    },
    {
      "cell_type": "code",
      "metadata": {
        "id": "mB17qSYn29FS",
        "colab_type": "code",
        "colab": {
          "base_uri": "https://localhost:8080/",
          "height": 72
        },
        "outputId": "bf512917-6577-437b-8d22-4dbafabac76f"
      },
      "source": [
        "keras.backend.clear_session()\n",
        "\n",
        "\n",
        "\n",
        "X_input = tf.keras.layers.Input(shape=(max_len,), name=\"X\")\n",
        "Embed_ = tf.keras.layers.Embedding(input_dim=max_words, output_dim=embed_vec_len, name=\"Embed_\")(X_input)\n",
        "Drop1 = tf.keras.layers.Dropout(0.2)(Embed_)\n",
        "BGRU_1 = tf.keras.layers.Bidirectional(tf.keras.layers.GRU(16, return_sequences=False, dropout=0.25, recurrent_dropout=0.25, activation=\"relu\", implementation=2, name=\"GRU_1\", stateful=False), name=\"BGRU_1\")(Drop1)\n",
        "Drop2 = tf.keras.layers.Dropout(0.3)(BGRU_1)\n",
        "Dense_1 = tf.keras.layers.Dense(units=16, activation='relu', name=\"Dense_1\")(Drop2)\n",
        "Drop3 = tf.keras.layers.Dropout(0.4)(Dense_1)\n",
        "Dense_2 = tf.keras.layers.Dense(units=16, activation='relu', name=\"Dense_2\")(Dense_1)\n",
        "Drop4 = tf.keras.layers.Dropout(0.5)(Dense_2)\n",
        "\n",
        "y_output = tf.keras.layers.Dense(units=num_classes, activation=\"softmax\", name=\"y\")(Dense_2)\n",
        "\n",
        "model = tf.keras.models.Model(inputs=[X_input], outputs=[y_output], name=\"my_model\")\n",
        "model.compile(loss='categorical_crossentropy', optimizer='adam', metrics=['accuracy'])"
      ],
      "execution_count": 34,
      "outputs": [
        {
          "output_type": "stream",
          "text": [
            "WARNING:tensorflow:Layer GRU_1 will not use cuDNN kernel since it doesn't meet the cuDNN kernel criteria. It will use generic GPU kernel as fallback when running on GPU\n",
            "WARNING:tensorflow:Layer GRU_1 will not use cuDNN kernel since it doesn't meet the cuDNN kernel criteria. It will use generic GPU kernel as fallback when running on GPU\n",
            "WARNING:tensorflow:Layer GRU_1 will not use cuDNN kernel since it doesn't meet the cuDNN kernel criteria. It will use generic GPU kernel as fallback when running on GPU\n"
          ],
          "name": "stdout"
        }
      ]
    },
    {
      "cell_type": "code",
      "metadata": {
        "id": "_mWwDxa729FY",
        "colab_type": "code",
        "colab": {
          "base_uri": "https://localhost:8080/",
          "height": 458
        },
        "outputId": "5d239b2e-cf6a-477f-d1f0-da75fd48eba8"
      },
      "source": [
        "model.summary()"
      ],
      "execution_count": 35,
      "outputs": [
        {
          "output_type": "stream",
          "text": [
            "Model: \"my_model\"\n",
            "_________________________________________________________________\n",
            "Layer (type)                 Output Shape              Param #   \n",
            "=================================================================\n",
            "X (InputLayer)               [(None, 150)]             0         \n",
            "_________________________________________________________________\n",
            "Embed_ (Embedding)           (None, 150, 50)           100000    \n",
            "_________________________________________________________________\n",
            "dropout (Dropout)            (None, 150, 50)           0         \n",
            "_________________________________________________________________\n",
            "BGRU_1 (Bidirectional)       (None, 32)                6528      \n",
            "_________________________________________________________________\n",
            "dropout_1 (Dropout)          (None, 32)                0         \n",
            "_________________________________________________________________\n",
            "Dense_1 (Dense)              (None, 16)                528       \n",
            "_________________________________________________________________\n",
            "Dense_2 (Dense)              (None, 16)                272       \n",
            "_________________________________________________________________\n",
            "y (Dense)                    (None, 5)                 85        \n",
            "=================================================================\n",
            "Total params: 107,413\n",
            "Trainable params: 107,413\n",
            "Non-trainable params: 0\n",
            "_________________________________________________________________\n"
          ],
          "name": "stdout"
        }
      ]
    },
    {
      "cell_type": "code",
      "metadata": {
        "id": "U7pgtGDW29GD",
        "colab_type": "code",
        "colab": {
          "base_uri": "https://localhost:8080/",
          "height": 758
        },
        "outputId": "e8ca8d8d-ed5d-4752-85e0-2b84be595e9c"
      },
      "source": [
        "tf.keras.utils.plot_model(model)"
      ],
      "execution_count": 36,
      "outputs": [
        {
          "output_type": "execute_result",
          "data": {
            "image/png": "[encoded data removed]",
            "text/plain": [
              "<IPython.core.display.Image object>"
            ]
          },
          "metadata": {
            "tags": []
          },
          "execution_count": 36
        }
      ]
    },
    {
      "cell_type": "code",
      "metadata": {
        "id": "DCioI1u329GM",
        "colab_type": "code",
        "colab": {
          "base_uri": "https://localhost:8080/",
          "height": 1000
        },
        "outputId": "a5945200-708c-4eb2-eb80-e45f61b237e0"
      },
      "source": [
        "checkpoint = tf.keras.callbacks.ModelCheckpoint('best_model.h5',\n",
        "                            monitor=val_acc_name,\n",
        "                            save_best_only=True,\n",
        "                            period=1,\n",
        "                            verbose=1)\n",
        "\n",
        "early_stopping_callback = tf.keras.callbacks.EarlyStopping(monitor=val_acc_name, \n",
        "                                        min_delta=1e-9, \n",
        "                                        patience=50, \n",
        "                                        verbose=1, \n",
        "                                        mode='auto', \n",
        "                                        baseline=None, \n",
        "                                        restore_best_weights=True)\n",
        "learning_rate_reduction = tf.keras.callbacks.ReduceLROnPlateau(monitor=val_acc_name,\n",
        "                                           patience=10,\n",
        "                                           verbose=1,\n",
        "                                           factor=0.75,\n",
        "                                           min_lr=0.00000001)\n",
        "\n",
        "history = model.fit(x_train, y_train,\n",
        "                    batch_size=batch_size,\n",
        "                    epochs=epochs,\n",
        "                    verbose=1,\n",
        "                    validation_split=0.2,\n",
        "                    shuffle=True,\n",
        "                    callbacks=[checkpoint, early_stopping_callback, learning_rate_reduction])"
      ],
      "execution_count": 37,
      "outputs": [
        {
          "output_type": "stream",
          "text": [
            "WARNING:tensorflow:`period` argument is deprecated. Please use `save_freq` to specify the frequency in number of batches seen.\n",
            "Epoch 1/99150\n",
            "11/11 [==============================] - ETA: 0s - loss: 1.5621 - accuracy: 0.7261\n",
            "Epoch 00001: val_accuracy improved from -inf to 0.62270, saving model to best_model.h5\n",
            "11/11 [==============================] - 17s 2s/step - loss: 1.5621 - accuracy: 0.7261 - val_loss: 1.5345 - val_accuracy: 0.6227\n",
            "Epoch 2/99150\n",
            "11/11 [==============================] - ETA: 0s - loss: 1.4442 - accuracy: 0.7269\n",
            "Epoch 00002: val_accuracy did not improve from 0.62270\n",
            "11/11 [==============================] - 16s 1s/step - loss: 1.4442 - accuracy: 0.7269 - val_loss: 1.4187 - val_accuracy: 0.6227\n",
            "Epoch 3/99150\n",
            "11/11 [==============================] - ETA: 0s - loss: 1.2366 - accuracy: 0.7269\n",
            "Epoch 00003: val_accuracy did not improve from 0.62270\n",
            "11/11 [==============================] - 16s 1s/step - loss: 1.2366 - accuracy: 0.7269 - val_loss: 1.2396 - val_accuracy: 0.6227\n",
            "Epoch 4/99150\n",
            "11/11 [==============================] - ETA: 0s - loss: 0.9799 - accuracy: 0.7269\n",
            "Epoch 00004: val_accuracy did not improve from 0.62270\n",
            "11/11 [==============================] - 16s 1s/step - loss: 0.9799 - accuracy: 0.7269 - val_loss: 1.2213 - val_accuracy: 0.6227\n",
            "Epoch 5/99150\n",
            "11/11 [==============================] - ETA: 0s - loss: 0.9059 - accuracy: 0.7269\n",
            "Epoch 00005: val_accuracy did not improve from 0.62270\n",
            "11/11 [==============================] - 16s 1s/step - loss: 0.9059 - accuracy: 0.7269 - val_loss: 1.0980 - val_accuracy: 0.6227\n",
            "Epoch 6/99150\n",
            "11/11 [==============================] - ETA: 0s - loss: 0.8261 - accuracy: 0.7269\n",
            "Epoch 00006: val_accuracy did not improve from 0.62270\n",
            "11/11 [==============================] - 16s 1s/step - loss: 0.8261 - accuracy: 0.7269 - val_loss: 1.0034 - val_accuracy: 0.6227\n",
            "Epoch 7/99150\n",
            "11/11 [==============================] - ETA: 0s - loss: 0.7827 - accuracy: 0.7269\n",
            "Epoch 00007: val_accuracy did not improve from 0.62270\n",
            "11/11 [==============================] - 16s 1s/step - loss: 0.7827 - accuracy: 0.7269 - val_loss: 0.9607 - val_accuracy: 0.6227\n",
            "Epoch 8/99150\n",
            "11/11 [==============================] - ETA: 0s - loss: 0.7521 - accuracy: 0.7269\n",
            "Epoch 00008: val_accuracy did not improve from 0.62270\n",
            "11/11 [==============================] - 16s 1s/step - loss: 0.7521 - accuracy: 0.7269 - val_loss: 0.9353 - val_accuracy: 0.6227\n",
            "Epoch 9/99150\n",
            "11/11 [==============================] - ETA: 0s - loss: 0.7304 - accuracy: 0.7269\n",
            "Epoch 00009: val_accuracy did not improve from 0.62270\n",
            "11/11 [==============================] - 16s 1s/step - loss: 0.7304 - accuracy: 0.7269 - val_loss: 0.9183 - val_accuracy: 0.6227\n",
            "Epoch 10/99150\n",
            "11/11 [==============================] - ETA: 0s - loss: 0.7128 - accuracy: 0.7269\n",
            "Epoch 00010: val_accuracy did not improve from 0.62270\n",
            "11/11 [==============================] - 16s 1s/step - loss: 0.7128 - accuracy: 0.7269 - val_loss: 0.9039 - val_accuracy: 0.6227\n",
            "Epoch 11/99150\n",
            "11/11 [==============================] - ETA: 0s - loss: 0.6970 - accuracy: 0.7269\n",
            "Epoch 00011: val_accuracy did not improve from 0.62270\n",
            "\n",
            "Epoch 00011: ReduceLROnPlateau reducing learning rate to 0.0007500000356230885.\n",
            "11/11 [==============================] - 17s 2s/step - loss: 0.6970 - accuracy: 0.7269 - val_loss: 0.8882 - val_accuracy: 0.6227\n",
            "Epoch 12/99150\n",
            "11/11 [==============================] - ETA: 0s - loss: 0.6817 - accuracy: 0.7269\n",
            "Epoch 00012: val_accuracy did not improve from 0.62270\n",
            "11/11 [==============================] - 16s 1s/step - loss: 0.6817 - accuracy: 0.7269 - val_loss: 0.8772 - val_accuracy: 0.6227\n",
            "Epoch 13/99150\n",
            "11/11 [==============================] - ETA: 0s - loss: 0.6743 - accuracy: 0.7269\n",
            "Epoch 00013: val_accuracy did not improve from 0.62270\n",
            "11/11 [==============================] - 16s 1s/step - loss: 0.6743 - accuracy: 0.7269 - val_loss: 0.8672 - val_accuracy: 0.6227\n",
            "Epoch 14/99150\n",
            "11/11 [==============================] - ETA: 0s - loss: 0.6622 - accuracy: 0.7297\n",
            "Epoch 00014: val_accuracy improved from 0.62270 to 0.65223, saving model to best_model.h5\n",
            "11/11 [==============================] - 16s 1s/step - loss: 0.6622 - accuracy: 0.7297 - val_loss: 0.8542 - val_accuracy: 0.6522\n",
            "Epoch 15/99150\n",
            "11/11 [==============================] - ETA: 0s - loss: 0.6534 - accuracy: 0.7433\n",
            "Epoch 00015: val_accuracy improved from 0.65223 to 0.67933, saving model to best_model.h5\n",
            "11/11 [==============================] - 17s 2s/step - loss: 0.6534 - accuracy: 0.7433 - val_loss: 0.8382 - val_accuracy: 0.6793\n",
            "Epoch 16/99150\n",
            "11/11 [==============================] - ETA: 0s - loss: 0.6453 - accuracy: 0.7605\n",
            "Epoch 00016: val_accuracy improved from 0.67933 to 0.70765, saving model to best_model.h5\n",
            "11/11 [==============================] - 17s 2s/step - loss: 0.6453 - accuracy: 0.7605 - val_loss: 0.8308 - val_accuracy: 0.7076\n",
            "Epoch 17/99150\n",
            "11/11 [==============================] - ETA: 0s - loss: 0.6344 - accuracy: 0.7651\n",
            "Epoch 00017: val_accuracy improved from 0.70765 to 0.71200, saving model to best_model.h5\n",
            "11/11 [==============================] - 17s 2s/step - loss: 0.6344 - accuracy: 0.7651 - val_loss: 0.8291 - val_accuracy: 0.7120\n",
            "Epoch 18/99150\n",
            "11/11 [==============================] - ETA: 0s - loss: 0.6236 - accuracy: 0.7738\n",
            "Epoch 00018: val_accuracy improved from 0.71200 to 0.72822, saving model to best_model.h5\n",
            "11/11 [==============================] - 17s 2s/step - loss: 0.6236 - accuracy: 0.7738 - val_loss: 0.7950 - val_accuracy: 0.7282\n",
            "Epoch 19/99150\n",
            "11/11 [==============================] - ETA: 0s - loss: 0.6166 - accuracy: 0.7772\n",
            "Epoch 00019: val_accuracy improved from 0.72822 to 0.72991, saving model to best_model.h5\n",
            "11/11 [==============================] - 16s 1s/step - loss: 0.6166 - accuracy: 0.7772 - val_loss: 0.7982 - val_accuracy: 0.7299\n",
            "Epoch 20/99150\n",
            "11/11 [==============================] - ETA: 0s - loss: 0.6100 - accuracy: 0.7804\n",
            "Epoch 00020: val_accuracy improved from 0.72991 to 0.73766, saving model to best_model.h5\n",
            "11/11 [==============================] - 16s 1s/step - loss: 0.6100 - accuracy: 0.7804 - val_loss: 0.7852 - val_accuracy: 0.7377\n",
            "Epoch 21/99150\n",
            "11/11 [==============================] - ETA: 0s - loss: 0.6056 - accuracy: 0.7819\n",
            "Epoch 00021: val_accuracy did not improve from 0.73766\n",
            "11/11 [==============================] - 16s 1s/step - loss: 0.6056 - accuracy: 0.7819 - val_loss: 0.7860 - val_accuracy: 0.7369\n",
            "Epoch 22/99150\n",
            "11/11 [==============================] - ETA: 0s - loss: 0.6021 - accuracy: 0.7819\n",
            "Epoch 00022: val_accuracy improved from 0.73766 to 0.73959, saving model to best_model.h5\n",
            "11/11 [==============================] - 16s 1s/step - loss: 0.6021 - accuracy: 0.7819 - val_loss: 0.7787 - val_accuracy: 0.7396\n",
            "Epoch 23/99150\n",
            "11/11 [==============================] - ETA: 0s - loss: 0.5982 - accuracy: 0.7828\n",
            "Epoch 00023: val_accuracy did not improve from 0.73959\n",
            "11/11 [==============================] - 16s 1s/step - loss: 0.5982 - accuracy: 0.7828 - val_loss: 0.7818 - val_accuracy: 0.7391\n",
            "Epoch 24/99150\n",
            "11/11 [==============================] - ETA: 0s - loss: 0.5925 - accuracy: 0.7852\n",
            "Epoch 00024: val_accuracy improved from 0.73959 to 0.74080, saving model to best_model.h5\n",
            "11/11 [==============================] - 16s 1s/step - loss: 0.5925 - accuracy: 0.7852 - val_loss: 0.7747 - val_accuracy: 0.7408\n",
            "Epoch 25/99150\n",
            "11/11 [==============================] - ETA: 0s - loss: 0.5884 - accuracy: 0.7863\n",
            "Epoch 00025: val_accuracy did not improve from 0.74080\n",
            "11/11 [==============================] - 17s 2s/step - loss: 0.5884 - accuracy: 0.7863 - val_loss: 0.7753 - val_accuracy: 0.7384\n",
            "Epoch 26/99150\n",
            "11/11 [==============================] - ETA: 0s - loss: 0.5868 - accuracy: 0.7866\n",
            "Epoch 00026: val_accuracy did not improve from 0.74080\n",
            "11/11 [==============================] - 16s 1s/step - loss: 0.5868 - accuracy: 0.7866 - val_loss: 0.7729 - val_accuracy: 0.7394\n",
            "Epoch 27/99150\n",
            "11/11 [==============================] - ETA: 0s - loss: 0.5825 - accuracy: 0.7880\n",
            "Epoch 00027: val_accuracy did not improve from 0.74080\n",
            "11/11 [==============================] - 16s 1s/step - loss: 0.5825 - accuracy: 0.7880 - val_loss: 0.7708 - val_accuracy: 0.7408\n",
            "Epoch 28/99150\n",
            "11/11 [==============================] - ETA: 0s - loss: 0.5823 - accuracy: 0.7879\n",
            "Epoch 00028: val_accuracy did not improve from 0.74080\n",
            "11/11 [==============================] - 16s 1s/step - loss: 0.5823 - accuracy: 0.7879 - val_loss: 0.7798 - val_accuracy: 0.7381\n",
            "Epoch 29/99150\n",
            "11/11 [==============================] - ETA: 0s - loss: 0.5758 - accuracy: 0.7874\n",
            "Epoch 00029: val_accuracy did not improve from 0.74080\n",
            "11/11 [==============================] - 16s 1s/step - loss: 0.5758 - accuracy: 0.7874 - val_loss: 0.7749 - val_accuracy: 0.7391\n",
            "Epoch 30/99150\n",
            "11/11 [==============================] - ETA: 0s - loss: 0.5759 - accuracy: 0.7902\n",
            "Epoch 00030: val_accuracy did not improve from 0.74080\n",
            "11/11 [==============================] - 16s 1s/step - loss: 0.5759 - accuracy: 0.7902 - val_loss: 0.7743 - val_accuracy: 0.7401\n",
            "Epoch 31/99150\n",
            "11/11 [==============================] - ETA: 0s - loss: 0.5736 - accuracy: 0.7896\n",
            "Epoch 00031: val_accuracy did not improve from 0.74080\n",
            "11/11 [==============================] - 16s 1s/step - loss: 0.5736 - accuracy: 0.7896 - val_loss: 0.7770 - val_accuracy: 0.7408\n",
            "Epoch 32/99150\n",
            "11/11 [==============================] - ETA: 0s - loss: 0.5723 - accuracy: 0.7901\n",
            "Epoch 00032: val_accuracy improved from 0.74080 to 0.74153, saving model to best_model.h5\n",
            "11/11 [==============================] - 16s 1s/step - loss: 0.5723 - accuracy: 0.7901 - val_loss: 0.7713 - val_accuracy: 0.7415\n",
            "Epoch 33/99150\n",
            "11/11 [==============================] - ETA: 0s - loss: 0.5722 - accuracy: 0.7894\n",
            "Epoch 00033: val_accuracy did not improve from 0.74153\n",
            "11/11 [==============================] - 16s 1s/step - loss: 0.5722 - accuracy: 0.7894 - val_loss: 0.7768 - val_accuracy: 0.7403\n",
            "Epoch 34/99150\n",
            "11/11 [==============================] - ETA: 0s - loss: 0.5689 - accuracy: 0.7902\n",
            "Epoch 00034: val_accuracy improved from 0.74153 to 0.74298, saving model to best_model.h5\n",
            "11/11 [==============================] - 16s 1s/step - loss: 0.5689 - accuracy: 0.7902 - val_loss: 0.7746 - val_accuracy: 0.7430\n",
            "Epoch 35/99150\n",
            "11/11 [==============================] - ETA: 0s - loss: 0.5651 - accuracy: 0.7912\n",
            "Epoch 00035: val_accuracy improved from 0.74298 to 0.74419, saving model to best_model.h5\n",
            "11/11 [==============================] - 16s 1s/step - loss: 0.5651 - accuracy: 0.7912 - val_loss: 0.7767 - val_accuracy: 0.7442\n",
            "Epoch 36/99150\n",
            "11/11 [==============================] - ETA: 0s - loss: 0.5633 - accuracy: 0.7907\n",
            "Epoch 00036: val_accuracy did not improve from 0.74419\n",
            "11/11 [==============================] - 16s 1s/step - loss: 0.5633 - accuracy: 0.7907 - val_loss: 0.7760 - val_accuracy: 0.7435\n",
            "Epoch 37/99150\n",
            "11/11 [==============================] - ETA: 0s - loss: 0.5633 - accuracy: 0.7920\n",
            "Epoch 00037: val_accuracy did not improve from 0.74419\n",
            "11/11 [==============================] - 16s 1s/step - loss: 0.5633 - accuracy: 0.7920 - val_loss: 0.7948 - val_accuracy: 0.7420\n",
            "Epoch 38/99150\n",
            "11/11 [==============================] - ETA: 0s - loss: 0.5591 - accuracy: 0.7934\n",
            "Epoch 00038: val_accuracy did not improve from 0.74419\n",
            "11/11 [==============================] - 16s 1s/step - loss: 0.5591 - accuracy: 0.7934 - val_loss: 0.7749 - val_accuracy: 0.7442\n",
            "Epoch 39/99150\n",
            "11/11 [==============================] - ETA: 0s - loss: 0.5597 - accuracy: 0.7930\n",
            "Epoch 00039: val_accuracy did not improve from 0.74419\n",
            "11/11 [==============================] - 16s 1s/step - loss: 0.5597 - accuracy: 0.7930 - val_loss: 0.7859 - val_accuracy: 0.7420\n",
            "Epoch 40/99150\n",
            "11/11 [==============================] - ETA: 0s - loss: 0.5590 - accuracy: 0.7926\n",
            "Epoch 00040: val_accuracy did not improve from 0.74419\n",
            "11/11 [==============================] - 16s 1s/step - loss: 0.5590 - accuracy: 0.7926 - val_loss: 0.7841 - val_accuracy: 0.7418\n",
            "Epoch 41/99150\n",
            "11/11 [==============================] - ETA: 0s - loss: 0.5569 - accuracy: 0.7946\n",
            "Epoch 00041: val_accuracy did not improve from 0.74419\n",
            "11/11 [==============================] - 16s 1s/step - loss: 0.5569 - accuracy: 0.7946 - val_loss: 0.7826 - val_accuracy: 0.7442\n",
            "Epoch 42/99150\n",
            "11/11 [==============================] - ETA: 0s - loss: 0.5550 - accuracy: 0.7940\n",
            "Epoch 00042: val_accuracy improved from 0.74419 to 0.74492, saving model to best_model.h5\n",
            "11/11 [==============================] - 16s 1s/step - loss: 0.5550 - accuracy: 0.7940 - val_loss: 0.7925 - val_accuracy: 0.7449\n",
            "Epoch 43/99150\n",
            "11/11 [==============================] - ETA: 0s - loss: 0.5540 - accuracy: 0.7950\n",
            "Epoch 00043: val_accuracy did not improve from 0.74492\n",
            "11/11 [==============================] - 16s 1s/step - loss: 0.5540 - accuracy: 0.7950 - val_loss: 0.7946 - val_accuracy: 0.7413\n",
            "Epoch 44/99150\n",
            "11/11 [==============================] - ETA: 0s - loss: 0.5517 - accuracy: 0.7946\n",
            "Epoch 00044: val_accuracy did not improve from 0.74492\n",
            "11/11 [==============================] - 16s 1s/step - loss: 0.5517 - accuracy: 0.7946 - val_loss: 0.7911 - val_accuracy: 0.7427\n",
            "Epoch 45/99150\n",
            "11/11 [==============================] - ETA: 0s - loss: 0.5526 - accuracy: 0.7967\n",
            "Epoch 00045: val_accuracy did not improve from 0.74492\n",
            "11/11 [==============================] - 16s 1s/step - loss: 0.5526 - accuracy: 0.7967 - val_loss: 0.7919 - val_accuracy: 0.7435\n",
            "Epoch 46/99150\n",
            "11/11 [==============================] - ETA: 0s - loss: 0.5519 - accuracy: 0.7959\n",
            "Epoch 00046: val_accuracy did not improve from 0.74492\n",
            "11/11 [==============================] - 16s 1s/step - loss: 0.5519 - accuracy: 0.7959 - val_loss: 0.7988 - val_accuracy: 0.7449\n",
            "Epoch 47/99150\n",
            "11/11 [==============================] - ETA: 0s - loss: 0.5486 - accuracy: 0.7978\n",
            "Epoch 00047: val_accuracy did not improve from 0.74492\n",
            "11/11 [==============================] - 16s 1s/step - loss: 0.5486 - accuracy: 0.7978 - val_loss: 0.7950 - val_accuracy: 0.7447\n",
            "Epoch 48/99150\n",
            "11/11 [==============================] - ETA: 0s - loss: 0.5453 - accuracy: 0.7988\n",
            "Epoch 00048: val_accuracy did not improve from 0.74492\n",
            "11/11 [==============================] - 16s 1s/step - loss: 0.5453 - accuracy: 0.7988 - val_loss: 0.7950 - val_accuracy: 0.7430\n",
            "Epoch 49/99150\n",
            "11/11 [==============================] - ETA: 0s - loss: 0.5486 - accuracy: 0.7986\n",
            "Epoch 00049: val_accuracy did not improve from 0.74492\n",
            "11/11 [==============================] - 16s 1s/step - loss: 0.5486 - accuracy: 0.7986 - val_loss: 0.8017 - val_accuracy: 0.7423\n",
            "Epoch 50/99150\n",
            "11/11 [==============================] - ETA: 0s - loss: 0.5465 - accuracy: 0.7972\n",
            "Epoch 00050: val_accuracy did not improve from 0.74492\n",
            "11/11 [==============================] - 16s 1s/step - loss: 0.5465 - accuracy: 0.7972 - val_loss: 0.7926 - val_accuracy: 0.7437\n",
            "Epoch 51/99150\n",
            "11/11 [==============================] - ETA: 0s - loss: 0.5441 - accuracy: 0.7980\n",
            "Epoch 00051: val_accuracy did not improve from 0.74492\n",
            "11/11 [==============================] - 16s 1s/step - loss: 0.5441 - accuracy: 0.7980 - val_loss: 0.7990 - val_accuracy: 0.7444\n",
            "Epoch 52/99150\n",
            "11/11 [==============================] - ETA: 0s - loss: 0.5411 - accuracy: 0.8004\n",
            "Epoch 00052: val_accuracy did not improve from 0.74492\n",
            "\n",
            "Epoch 00052: ReduceLROnPlateau reducing learning rate to 0.0005625000048894435.\n",
            "11/11 [==============================] - 16s 1s/step - loss: 0.5411 - accuracy: 0.8004 - val_loss: 0.7958 - val_accuracy: 0.7406\n",
            "Epoch 53/99150\n",
            "11/11 [==============================] - ETA: 0s - loss: 0.5404 - accuracy: 0.7995\n",
            "Epoch 00053: val_accuracy did not improve from 0.74492\n",
            "11/11 [==============================] - 16s 1s/step - loss: 0.5404 - accuracy: 0.7995 - val_loss: 0.8107 - val_accuracy: 0.7410\n",
            "Epoch 54/99150\n",
            "11/11 [==============================] - ETA: 0s - loss: 0.5411 - accuracy: 0.8011\n",
            "Epoch 00054: val_accuracy did not improve from 0.74492\n",
            "11/11 [==============================] - 15s 1s/step - loss: 0.5411 - accuracy: 0.8011 - val_loss: 0.8031 - val_accuracy: 0.7401\n",
            "Epoch 55/99150\n",
            "11/11 [==============================] - ETA: 0s - loss: 0.5415 - accuracy: 0.7992\n",
            "Epoch 00055: val_accuracy did not improve from 0.74492\n",
            "11/11 [==============================] - 16s 1s/step - loss: 0.5415 - accuracy: 0.7992 - val_loss: 0.8002 - val_accuracy: 0.7401\n",
            "Epoch 56/99150\n",
            "11/11 [==============================] - ETA: 0s - loss: 0.5387 - accuracy: 0.8023\n",
            "Epoch 00056: val_accuracy did not improve from 0.74492\n",
            "11/11 [==============================] - 16s 1s/step - loss: 0.5387 - accuracy: 0.8023 - val_loss: 0.8129 - val_accuracy: 0.7396\n",
            "Epoch 57/99150\n",
            "11/11 [==============================] - ETA: 0s - loss: 0.5400 - accuracy: 0.8003\n",
            "Epoch 00057: val_accuracy did not improve from 0.74492\n",
            "11/11 [==============================] - 16s 1s/step - loss: 0.5400 - accuracy: 0.8003 - val_loss: 0.8058 - val_accuracy: 0.7396\n",
            "Epoch 58/99150\n",
            "11/11 [==============================] - ETA: 0s - loss: 0.5376 - accuracy: 0.8018\n",
            "Epoch 00058: val_accuracy did not improve from 0.74492\n",
            "11/11 [==============================] - 15s 1s/step - loss: 0.5376 - accuracy: 0.8018 - val_loss: 0.8061 - val_accuracy: 0.7406\n",
            "Epoch 59/99150\n",
            "11/11 [==============================] - ETA: 0s - loss: 0.5371 - accuracy: 0.8024\n",
            "Epoch 00059: val_accuracy did not improve from 0.74492\n",
            "11/11 [==============================] - 16s 1s/step - loss: 0.5371 - accuracy: 0.8024 - val_loss: 0.8099 - val_accuracy: 0.7398\n",
            "Epoch 60/99150\n",
            "11/11 [==============================] - ETA: 0s - loss: 0.5366 - accuracy: 0.8037\n",
            "Epoch 00060: val_accuracy did not improve from 0.74492\n",
            "11/11 [==============================] - 16s 1s/step - loss: 0.5366 - accuracy: 0.8037 - val_loss: 0.8113 - val_accuracy: 0.7389\n",
            "Epoch 61/99150\n",
            "11/11 [==============================] - ETA: 0s - loss: 0.5330 - accuracy: 0.8049\n",
            "Epoch 00061: val_accuracy did not improve from 0.74492\n",
            "11/11 [==============================] - 16s 1s/step - loss: 0.5330 - accuracy: 0.8049 - val_loss: 0.8139 - val_accuracy: 0.7364\n",
            "Epoch 62/99150\n",
            "11/11 [==============================] - ETA: 0s - loss: 0.5331 - accuracy: 0.8038\n",
            "Epoch 00062: val_accuracy did not improve from 0.74492\n",
            "\n",
            "Epoch 00062: ReduceLROnPlateau reducing learning rate to 0.0004218749818392098.\n",
            "11/11 [==============================] - 15s 1s/step - loss: 0.5331 - accuracy: 0.8038 - val_loss: 0.8125 - val_accuracy: 0.7374\n",
            "Epoch 63/99150\n",
            "11/11 [==============================] - ETA: 0s - loss: 0.5343 - accuracy: 0.8049\n",
            "Epoch 00063: val_accuracy did not improve from 0.74492\n",
            "11/11 [==============================] - 16s 1s/step - loss: 0.5343 - accuracy: 0.8049 - val_loss: 0.8088 - val_accuracy: 0.7386\n",
            "Epoch 64/99150\n",
            "11/11 [==============================] - ETA: 0s - loss: 0.5314 - accuracy: 0.8067\n",
            "Epoch 00064: val_accuracy did not improve from 0.74492\n",
            "11/11 [==============================] - 16s 1s/step - loss: 0.5314 - accuracy: 0.8067 - val_loss: 0.8162 - val_accuracy: 0.7377\n",
            "Epoch 65/99150\n",
            "11/11 [==============================] - ETA: 0s - loss: 0.5322 - accuracy: 0.8063\n",
            "Epoch 00065: val_accuracy did not improve from 0.74492\n",
            "11/11 [==============================] - 16s 1s/step - loss: 0.5322 - accuracy: 0.8063 - val_loss: 0.8052 - val_accuracy: 0.7386\n",
            "Epoch 66/99150\n",
            "11/11 [==============================] - ETA: 0s - loss: 0.5335 - accuracy: 0.8067\n",
            "Epoch 00066: val_accuracy did not improve from 0.74492\n",
            "11/11 [==============================] - 16s 1s/step - loss: 0.5335 - accuracy: 0.8067 - val_loss: 0.8197 - val_accuracy: 0.7372\n",
            "Epoch 67/99150\n",
            "11/11 [==============================] - ETA: 0s - loss: 0.5298 - accuracy: 0.8063\n",
            "Epoch 00067: val_accuracy did not improve from 0.74492\n",
            "11/11 [==============================] - 16s 1s/step - loss: 0.5298 - accuracy: 0.8063 - val_loss: 0.8164 - val_accuracy: 0.7377\n",
            "Epoch 68/99150\n",
            "11/11 [==============================] - ETA: 0s - loss: 0.5317 - accuracy: 0.8047\n",
            "Epoch 00068: val_accuracy did not improve from 0.74492\n",
            "11/11 [==============================] - 16s 1s/step - loss: 0.5317 - accuracy: 0.8047 - val_loss: 0.8159 - val_accuracy: 0.7369\n",
            "Epoch 69/99150\n",
            "11/11 [==============================] - ETA: 0s - loss: 0.5293 - accuracy: 0.8064\n",
            "Epoch 00069: val_accuracy did not improve from 0.74492\n",
            "11/11 [==============================] - 16s 1s/step - loss: 0.5293 - accuracy: 0.8064 - val_loss: 0.8110 - val_accuracy: 0.7381\n",
            "Epoch 70/99150\n",
            "11/11 [==============================] - ETA: 0s - loss: 0.5297 - accuracy: 0.8074\n",
            "Epoch 00070: val_accuracy did not improve from 0.74492\n",
            "11/11 [==============================] - 16s 1s/step - loss: 0.5297 - accuracy: 0.8074 - val_loss: 0.8211 - val_accuracy: 0.7352\n",
            "Epoch 71/99150\n",
            "11/11 [==============================] - ETA: 0s - loss: 0.5265 - accuracy: 0.8075\n",
            "Epoch 00071: val_accuracy did not improve from 0.74492\n",
            "11/11 [==============================] - 16s 1s/step - loss: 0.5265 - accuracy: 0.8075 - val_loss: 0.8124 - val_accuracy: 0.7377\n",
            "Epoch 72/99150\n",
            "11/11 [==============================] - ETA: 0s - loss: 0.5281 - accuracy: 0.8074\n",
            "Epoch 00072: val_accuracy did not improve from 0.74492\n",
            "\n",
            "Epoch 00072: ReduceLROnPlateau reducing learning rate to 0.00031640623637940735.\n",
            "11/11 [==============================] - 16s 1s/step - loss: 0.5281 - accuracy: 0.8074 - val_loss: 0.8113 - val_accuracy: 0.7364\n",
            "Epoch 73/99150\n",
            "11/11 [==============================] - ETA: 0s - loss: 0.5286 - accuracy: 0.8070\n",
            "Epoch 00073: val_accuracy did not improve from 0.74492\n",
            "11/11 [==============================] - 16s 1s/step - loss: 0.5286 - accuracy: 0.8070 - val_loss: 0.8188 - val_accuracy: 0.7362\n",
            "Epoch 74/99150\n",
            "11/11 [==============================] - ETA: 0s - loss: 0.5287 - accuracy: 0.8063\n",
            "Epoch 00074: val_accuracy did not improve from 0.74492\n",
            "11/11 [==============================] - 16s 1s/step - loss: 0.5287 - accuracy: 0.8063 - val_loss: 0.8180 - val_accuracy: 0.7357\n",
            "Epoch 75/99150\n",
            "11/11 [==============================] - ETA: 0s - loss: 0.5301 - accuracy: 0.8074\n",
            "Epoch 00075: val_accuracy did not improve from 0.74492\n",
            "11/11 [==============================] - 16s 1s/step - loss: 0.5301 - accuracy: 0.8074 - val_loss: 0.8181 - val_accuracy: 0.7357\n",
            "Epoch 76/99150\n",
            "11/11 [==============================] - ETA: 0s - loss: 0.5254 - accuracy: 0.8063\n",
            "Epoch 00076: val_accuracy did not improve from 0.74492\n",
            "11/11 [==============================] - 16s 1s/step - loss: 0.5254 - accuracy: 0.8063 - val_loss: 0.8136 - val_accuracy: 0.7369\n",
            "Epoch 77/99150\n",
            "11/11 [==============================] - ETA: 0s - loss: 0.5277 - accuracy: 0.8078\n",
            "Epoch 00077: val_accuracy did not improve from 0.74492\n",
            "11/11 [==============================] - 16s 1s/step - loss: 0.5277 - accuracy: 0.8078 - val_loss: 0.8209 - val_accuracy: 0.7367\n",
            "Epoch 78/99150\n",
            "11/11 [==============================] - ETA: 0s - loss: 0.5243 - accuracy: 0.8081\n",
            "Epoch 00078: val_accuracy did not improve from 0.74492\n",
            "11/11 [==============================] - 16s 1s/step - loss: 0.5243 - accuracy: 0.8081 - val_loss: 0.8260 - val_accuracy: 0.7357\n",
            "Epoch 79/99150\n",
            "11/11 [==============================] - ETA: 0s - loss: 0.5256 - accuracy: 0.8067\n",
            "Epoch 00079: val_accuracy did not improve from 0.74492\n",
            "11/11 [==============================] - 16s 1s/step - loss: 0.5256 - accuracy: 0.8067 - val_loss: 0.8213 - val_accuracy: 0.7369\n",
            "Epoch 80/99150\n",
            "11/11 [==============================] - ETA: 0s - loss: 0.5274 - accuracy: 0.8080\n",
            "Epoch 00080: val_accuracy did not improve from 0.74492\n",
            "11/11 [==============================] - 16s 1s/step - loss: 0.5274 - accuracy: 0.8080 - val_loss: 0.8253 - val_accuracy: 0.7352\n",
            "Epoch 81/99150\n",
            "11/11 [==============================] - ETA: 0s - loss: 0.5241 - accuracy: 0.8069\n",
            "Epoch 00081: val_accuracy did not improve from 0.74492\n",
            "11/11 [==============================] - 16s 1s/step - loss: 0.5241 - accuracy: 0.8069 - val_loss: 0.8216 - val_accuracy: 0.7340\n",
            "Epoch 82/99150\n",
            "11/11 [==============================] - ETA: 0s - loss: 0.5245 - accuracy: 0.8068\n",
            "Epoch 00082: val_accuracy did not improve from 0.74492\n",
            "\n",
            "Epoch 00082: ReduceLROnPlateau reducing learning rate to 0.00023730468819849193.\n",
            "11/11 [==============================] - 16s 1s/step - loss: 0.5245 - accuracy: 0.8068 - val_loss: 0.8286 - val_accuracy: 0.7348\n",
            "Epoch 83/99150\n",
            "11/11 [==============================] - ETA: 0s - loss: 0.5250 - accuracy: 0.8069\n",
            "Epoch 00083: val_accuracy did not improve from 0.74492\n",
            "11/11 [==============================] - 16s 1s/step - loss: 0.5250 - accuracy: 0.8069 - val_loss: 0.8290 - val_accuracy: 0.7343\n",
            "Epoch 84/99150\n",
            "11/11 [==============================] - ETA: 0s - loss: 0.5245 - accuracy: 0.8092\n",
            "Epoch 00084: val_accuracy did not improve from 0.74492\n",
            "11/11 [==============================] - 16s 1s/step - loss: 0.5245 - accuracy: 0.8092 - val_loss: 0.8234 - val_accuracy: 0.7355\n",
            "Epoch 85/99150\n",
            "11/11 [==============================] - ETA: 0s - loss: 0.5234 - accuracy: 0.8099\n",
            "Epoch 00085: val_accuracy did not improve from 0.74492\n",
            "11/11 [==============================] - 16s 1s/step - loss: 0.5234 - accuracy: 0.8099 - val_loss: 0.8308 - val_accuracy: 0.7338\n",
            "Epoch 86/99150\n",
            "11/11 [==============================] - ETA: 0s - loss: 0.5233 - accuracy: 0.8092\n",
            "Epoch 00086: val_accuracy did not improve from 0.74492\n",
            "11/11 [==============================] - 16s 1s/step - loss: 0.5233 - accuracy: 0.8092 - val_loss: 0.8220 - val_accuracy: 0.7364\n",
            "Epoch 87/99150\n",
            "11/11 [==============================] - ETA: 0s - loss: 0.5204 - accuracy: 0.8101\n",
            "Epoch 00087: val_accuracy did not improve from 0.74492\n",
            "11/11 [==============================] - 16s 1s/step - loss: 0.5204 - accuracy: 0.8101 - val_loss: 0.8291 - val_accuracy: 0.7343\n",
            "Epoch 88/99150\n",
            "11/11 [==============================] - ETA: 0s - loss: 0.5215 - accuracy: 0.8083\n",
            "Epoch 00088: val_accuracy did not improve from 0.74492\n",
            "11/11 [==============================] - 16s 1s/step - loss: 0.5215 - accuracy: 0.8083 - val_loss: 0.8302 - val_accuracy: 0.7335\n",
            "Epoch 89/99150\n",
            "11/11 [==============================] - ETA: 0s - loss: 0.5235 - accuracy: 0.8089\n",
            "Epoch 00089: val_accuracy did not improve from 0.74492\n",
            "11/11 [==============================] - 16s 1s/step - loss: 0.5235 - accuracy: 0.8089 - val_loss: 0.8246 - val_accuracy: 0.7350\n",
            "Epoch 90/99150\n",
            "11/11 [==============================] - ETA: 0s - loss: 0.5183 - accuracy: 0.8112\n",
            "Epoch 00090: val_accuracy did not improve from 0.74492\n",
            "11/11 [==============================] - 16s 1s/step - loss: 0.5183 - accuracy: 0.8112 - val_loss: 0.8272 - val_accuracy: 0.7352\n",
            "Epoch 91/99150\n",
            "11/11 [==============================] - ETA: 0s - loss: 0.5207 - accuracy: 0.8090\n",
            "Epoch 00091: val_accuracy did not improve from 0.74492\n",
            "11/11 [==============================] - 15s 1s/step - loss: 0.5207 - accuracy: 0.8090 - val_loss: 0.8294 - val_accuracy: 0.7340\n",
            "Epoch 92/99150\n",
            "11/11 [==============================] - ETA: 0s - loss: 0.5189 - accuracy: 0.8102\n",
            "Epoch 00092: val_accuracy did not improve from 0.74492\n",
            "Restoring model weights from the end of the best epoch.\n",
            "\n",
            "Epoch 00092: ReduceLROnPlateau reducing learning rate to 0.00017797851614886895.\n",
            "11/11 [==============================] - 16s 1s/step - loss: 0.5189 - accuracy: 0.8102 - val_loss: 0.8231 - val_accuracy: 0.7345\n",
            "Epoch 00092: early stopping\n"
          ],
          "name": "stdout"
        }
      ]
    },
    {
      "cell_type": "code",
      "metadata": {
        "id": "DNkyjf5x29Ga",
        "colab_type": "code",
        "colab": {
          "base_uri": "https://localhost:8080/",
          "height": 543
        },
        "outputId": "78072090-9d0d-405b-baeb-1357a0b019fc"
      },
      "source": [
        "plt.figure()\n",
        "plt.plot(history.history['loss'], label='train loss')\n",
        "plt.plot(history.history['val_loss'], label='validation loss')\n",
        "plt.xlabel('Эпоха обучения')\n",
        "plt.ylabel('Значение функции потерь')\n",
        "plt.legend()\n",
        "\n",
        "plt.figure()\n",
        "plt.plot(history.history[acc_name], label='train accuracy')\n",
        "plt.plot(history.history[val_acc_name], label='validation accuracy')\n",
        "plt.xlabel('Эпоха обучения')\n",
        "plt.ylabel('Доля верных ответов')\n",
        "plt.legend()\n",
        "\n",
        "plt.show()"
      ],
      "execution_count": 38,
      "outputs": [
        {
          "output_type": "display_data",
          "data": {
            "image/png": "[encoded data removed]",
            "text/plain": [
              "<Figure size 432x288 with 1 Axes>"
            ]
          },
          "metadata": {
            "tags": [],
            "needs_background": "light"
          }
        },
        {
          "output_type": "display_data",
          "data": {
            "image/png": "[encoded data removed]",
            "text/plain": [
              "<Figure size 432x288 with 1 Axes>"
            ]
          },
          "metadata": {
            "tags": [],
            "needs_background": "light"
          }
        }
      ]
    },
    {
      "cell_type": "code",
      "metadata": {
        "id": "73eYKr0329Gm",
        "colab_type": "code",
        "colab": {}
      },
      "source": [
        ""
      ],
      "execution_count": 38,
      "outputs": []
    }
  ]
}