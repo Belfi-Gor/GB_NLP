{
  "nbformat": 4,
  "nbformat_minor": 0,
  "metadata": {
    "kernelspec": {
      "display_name": "Python 3",
      "language": "python",
      "name": "python3"
    },
    "language_info": {
      "codemirror_mode": {
        "name": "ipython",
        "version": 3
      },
      "file_extension": ".py",
      "mimetype": "text/x-python",
      "name": "python",
      "nbconvert_exporter": "python",
      "pygments_lexer": "ipython3",
      "version": "3.7.3"
    },
    "colab": {
      "name": "Lesson 5.ipynb",
      "provenance": [],
      "collapsed_sections": [],
      "toc_visible": true
    },
    "accelerator": "GPU"
  },
  "cells": [
    {
      "cell_type": "code",
      "metadata": {
        "id": "8ZY9AowWRnSi",
        "colab_type": "code",
        "colab": {
          "base_uri": "https://localhost:8080/",
          "height": 384
        },
        "outputId": "57ebe379-1c5a-4cd1-8441-ed4e2afc1b9b"
      },
      "source": [
        "!pip install stop_words\n",
        "!pip install pymorphy2"
      ],
      "execution_count": 1,
      "outputs": [
        {
          "output_type": "stream",
          "text": [
            "Collecting stop_words\n",
            "  Downloading https://files.pythonhosted.org/packages/1c/cb/d58290804b7a4c5daa42abbbe2a93c477ae53e45541b1825e86f0dfaaf63/stop-words-2018.7.23.tar.gz\n",
            "Building wheels for collected packages: stop-words\n",
            "  Building wheel for stop-words (setup.py) ... \u001b[?25l\u001b[?25hdone\n",
            "  Created wheel for stop-words: filename=stop_words-2018.7.23-cp36-none-any.whl size=32916 sha256=4b0eb5eb172b7d403d12849916b54eee0d2bb110759c1080cc82a65663b01961\n",
            "  Stored in directory: /root/.cache/pip/wheels/75/37/6a/2b295e03bd07290f0da95c3adb9a74ba95fbc333aa8b0c7c78\n",
            "Successfully built stop-words\n",
            "Installing collected packages: stop-words\n",
            "Successfully installed stop-words-2018.7.23\n",
            "Collecting pymorphy2\n",
            "\u001b[?25l  Downloading https://files.pythonhosted.org/packages/a3/33/fff9675c68b5f6c63ec8c6e6ff57827dda28a1fa5b2c2d727dffff92dd47/pymorphy2-0.8-py2.py3-none-any.whl (46kB)\n",
            "\u001b[K     |████████████████████████████████| 51kB 1.8MB/s \n",
            "\u001b[?25hCollecting pymorphy2-dicts<3.0,>=2.4\n",
            "\u001b[?25l  Downloading https://files.pythonhosted.org/packages/02/51/2465fd4f72328ab50877b54777764d928da8cb15b74e2680fc1bd8cb3173/pymorphy2_dicts-2.4.393442.3710985-py2.py3-none-any.whl (7.1MB)\n",
            "\u001b[K     |████████████████████████████████| 7.1MB 5.8MB/s \n",
            "\u001b[?25hCollecting dawg-python>=0.7\n",
            "  Downloading https://files.pythonhosted.org/packages/6a/84/ff1ce2071d4c650ec85745766c0047ccc3b5036f1d03559fd46bb38b5eeb/DAWG_Python-0.7.2-py2.py3-none-any.whl\n",
            "Requirement already satisfied: docopt>=0.6 in /usr/local/lib/python3.6/dist-packages (from pymorphy2) (0.6.2)\n",
            "Installing collected packages: pymorphy2-dicts, dawg-python, pymorphy2\n",
            "Successfully installed dawg-python-0.7.2 pymorphy2-0.8 pymorphy2-dicts-2.4.393442.3710985\n"
          ],
          "name": "stdout"
        }
      ]
    },
    {
      "cell_type": "code",
      "metadata": {
        "id": "OLPOMYTcRZUe",
        "colab_type": "code",
        "colab": {
          "base_uri": "https://localhost:8080/",
          "height": 54
        },
        "outputId": "64a7bed8-4553-4e62-c73b-7964a1dbdf34"
      },
      "source": [
        "import pandas as pd\n",
        "import numpy as np\n",
        "from string import punctuation\n",
        "from stop_words import get_stop_words\n",
        "from pymorphy2 import MorphAnalyzer\n",
        "from string import punctuation\n",
        "import re\n",
        "import nltk\n",
        "from nltk.tokenize import word_tokenize\n",
        "from nltk.probability import FreqDist\n",
        "nltk.download(\"punkt\")\n",
        "import tensorflow as tf\n",
        "from tensorflow import keras\n",
        "import matplotlib.pyplot as plt\n",
        "from gensim.models import Word2Vec\n",
        "import multiprocessing"
      ],
      "execution_count": 2,
      "outputs": [
        {
          "output_type": "stream",
          "text": [
            "[nltk_data] Downloading package punkt to /root/nltk_data...\n",
            "[nltk_data]   Unzipping tokenizers/punkt.zip.\n"
          ],
          "name": "stdout"
        }
      ]
    },
    {
      "cell_type": "code",
      "metadata": {
        "id": "URcMnZkiFBlB",
        "colab_type": "code",
        "colab": {}
      },
      "source": [
        "if tf.__version__.startswith(\"1.\"):\n",
        "    val_acc_name = \"val_acc\"\n",
        "    acc_name = \"acc\"\n",
        "else:\n",
        "    val_acc_name = \"val_accuracy\"\n",
        "    acc_name = \"accuracy\""
      ],
      "execution_count": 3,
      "outputs": []
    },
    {
      "cell_type": "code",
      "metadata": {
        "id": "010M6zKwRdIP",
        "colab_type": "code",
        "colab": {
          "base_uri": "https://localhost:8080/",
          "height": 35
        },
        "outputId": "40f15bee-757f-4a64-9a8e-d0057cba69c5"
      },
      "source": [
        "from google.colab import drive\n",
        "drive.mount('/content/drive')"
      ],
      "execution_count": 5,
      "outputs": [
        {
          "output_type": "stream",
          "text": [
            "Mounted at /content/drive\n"
          ],
          "name": "stdout"
        }
      ]
    },
    {
      "cell_type": "code",
      "metadata": {
        "id": "6dLYJQ8uRZVZ",
        "colab_type": "code",
        "colab": {}
      },
      "source": [
        "max_words = 2000\n",
        "max_len = 50\n",
        "\n",
        "# Training\n",
        "epochs = 150\n",
        "batch_size = 512"
      ],
      "execution_count": 6,
      "outputs": []
    },
    {
      "cell_type": "code",
      "metadata": {
        "id": "Kf07RV6WRZVf",
        "colab_type": "code",
        "colab": {}
      },
      "source": [
        "sw = set(get_stop_words(\"ru\"))\n",
        "exclude = set(punctuation)\n",
        "morpher = MorphAnalyzer()"
      ],
      "execution_count": 7,
      "outputs": []
    },
    {
      "cell_type": "code",
      "metadata": {
        "id": "rlnBBNeVRZVk",
        "colab_type": "code",
        "colab": {}
      },
      "source": [
        "def preprocess_text(txt):\n",
        "    txt = str(txt)\n",
        "    txt = re.sub(r'( )+', \" \", re.sub(r'[^\\w\\s]', \" \", txt)).strip()\n",
        "    txt = \"\".join(c for c in txt if c not in exclude)\n",
        "    txt = txt.lower()\n",
        "    txt = [morpher.parse(word)[0].normal_form for word in txt.split() if word not in sw]\n",
        "    txt = \" \".join(txt)\n",
        "    txt = re.sub(\"\\sне\", \"не\", txt)\n",
        "    return txt"
      ],
      "execution_count": 8,
      "outputs": []
    },
    {
      "cell_type": "code",
      "metadata": {
        "id": "i1gg2ePjRZVq",
        "colab_type": "code",
        "colab": {}
      },
      "source": [
        "otzivy_za_leto = pd.read_excel(\"/content/drive/My Drive/Нейронные сети/Neural Language Processing/Lesson 5/отзывы за лето.xls\", )"
      ],
      "execution_count": 9,
      "outputs": []
    },
    {
      "cell_type": "code",
      "metadata": {
        "id": "z8QclXgJRZV9",
        "colab_type": "code",
        "colab": {
          "base_uri": "https://localhost:8080/",
          "height": 92
        },
        "outputId": "84b91f60-0d15-4f55-98d9-3a8c5a529e3b"
      },
      "source": [
        "test_text = otzivy_za_leto.iloc[450][\"Content\"]\n",
        "print(test_text)\n",
        "preprocessed_test_text = preprocess_text(test_text)\n",
        "print(type(preprocessed_test_text))\n",
        "print(preprocessed_test_text)"
      ],
      "execution_count": 10,
      "outputs": [
        {
          "output_type": "stream",
          "text": [
            "Отличное приложение, всё удобно и понятно, приятный интерфейс. Иногда приходится пользоваться приложением от ВТБ просто отвратительно во всём. Спасибо! Спустя год: не могу делать переводы вне шаблонов после обновления. Даже не знаю зачем пишу, всё равно никто не читает и оперативно не решает проблемы. Самсунг мини 4.\n",
            "<class 'str'>\n",
            "отличный приложение удобно понятно приятный интерфейс приходиться пользоваться приложение втб отвратительный весь спустя мочь делать перевод вне шаблон обновление знать писать равно никто читать оперативно решать проблема самсунг минь 4\n"
          ],
          "name": "stdout"
        }
      ]
    },
    {
      "cell_type": "code",
      "metadata": {
        "id": "dk_KEaBgRZWS",
        "colab_type": "code",
        "colab": {
          "base_uri": "https://localhost:8080/",
          "height": 35
        },
        "outputId": "c75b5829-59b5-4255-d632-0a79439125b2"
      },
      "source": [
        "otzivy_za_leto.Rating.unique()"
      ],
      "execution_count": 11,
      "outputs": [
        {
          "output_type": "execute_result",
          "data": {
            "text/plain": [
              "array([5, 4, 2, 3, 1])"
            ]
          },
          "metadata": {
            "tags": []
          },
          "execution_count": 11
        }
      ]
    },
    {
      "cell_type": "code",
      "metadata": {
        "id": "c_rpkk35RZWa",
        "colab_type": "code",
        "colab": {}
      },
      "source": [
        "# for to_categorical usage\n",
        "otzivy_za_leto.Rating = otzivy_za_leto.Rating - 1"
      ],
      "execution_count": 12,
      "outputs": []
    },
    {
      "cell_type": "code",
      "metadata": {
        "id": "718TD0d3RZWg",
        "colab_type": "code",
        "colab": {
          "base_uri": "https://localhost:8080/",
          "height": 206
        },
        "outputId": "0df21eb8-8382-452b-ee43-d4bc26cf1628"
      },
      "source": [
        "otzivy_za_leto.head()"
      ],
      "execution_count": 13,
      "outputs": [
        {
          "output_type": "execute_result",
          "data": {
            "text/html": [
              "<div>\n",
              "<style scoped>\n",
              "    .dataframe tbody tr th:only-of-type {\n",
              "        vertical-align: middle;\n",
              "    }\n",
              "\n",
              "    .dataframe tbody tr th {\n",
              "        vertical-align: top;\n",
              "    }\n",
              "\n",
              "    .dataframe thead th {\n",
              "        text-align: right;\n",
              "    }\n",
              "</style>\n",
              "<table border=\"1\" class=\"dataframe\">\n",
              "  <thead>\n",
              "    <tr style=\"text-align: right;\">\n",
              "      <th></th>\n",
              "      <th>Rating</th>\n",
              "      <th>Content</th>\n",
              "      <th>Date</th>\n",
              "    </tr>\n",
              "  </thead>\n",
              "  <tbody>\n",
              "    <tr>\n",
              "      <th>0</th>\n",
              "      <td>4</td>\n",
              "      <td>It just works!</td>\n",
              "      <td>2017-08-14</td>\n",
              "    </tr>\n",
              "    <tr>\n",
              "      <th>1</th>\n",
              "      <td>3</td>\n",
              "      <td>В целом удобноное приложение...из минусов хотя...</td>\n",
              "      <td>2017-08-14</td>\n",
              "    </tr>\n",
              "    <tr>\n",
              "      <th>2</th>\n",
              "      <td>4</td>\n",
              "      <td>Отлично все</td>\n",
              "      <td>2017-08-14</td>\n",
              "    </tr>\n",
              "    <tr>\n",
              "      <th>3</th>\n",
              "      <td>4</td>\n",
              "      <td>Стал зависать на 1% работы антивируса. Дальше ...</td>\n",
              "      <td>2017-08-14</td>\n",
              "    </tr>\n",
              "    <tr>\n",
              "      <th>4</th>\n",
              "      <td>4</td>\n",
              "      <td>Очень удобно, работает быстро.</td>\n",
              "      <td>2017-08-14</td>\n",
              "    </tr>\n",
              "  </tbody>\n",
              "</table>\n",
              "</div>"
            ],
            "text/plain": [
              "   Rating                                            Content        Date\n",
              "0       4                                     It just works!  2017-08-14\n",
              "1       3  В целом удобноное приложение...из минусов хотя...  2017-08-14\n",
              "2       4                                        Отлично все  2017-08-14\n",
              "3       4  Стал зависать на 1% работы антивируса. Дальше ...  2017-08-14\n",
              "4       4                     Очень удобно, работает быстро.  2017-08-14"
            ]
          },
          "metadata": {
            "tags": []
          },
          "execution_count": 13
        }
      ]
    },
    {
      "cell_type": "code",
      "metadata": {
        "id": "t58dJAZwRZWm",
        "colab_type": "code",
        "colab": {
          "base_uri": "https://localhost:8080/",
          "height": 35
        },
        "outputId": "df27e72a-ad39-4c7d-a1ed-3d2f25302d01"
      },
      "source": [
        "otzivy_za_leto.Rating.unique()"
      ],
      "execution_count": 14,
      "outputs": [
        {
          "output_type": "execute_result",
          "data": {
            "text/plain": [
              "array([4, 3, 1, 2, 0])"
            ]
          },
          "metadata": {
            "tags": []
          },
          "execution_count": 14
        }
      ]
    },
    {
      "cell_type": "code",
      "metadata": {
        "id": "lM3-0AhfRZWr",
        "colab_type": "code",
        "colab": {}
      },
      "source": [
        "vfunc = np.vectorize(preprocess_text)"
      ],
      "execution_count": 15,
      "outputs": []
    },
    {
      "cell_type": "code",
      "metadata": {
        "id": "wZ_Ja91LRZWw",
        "colab_type": "code",
        "colab": {
          "base_uri": "https://localhost:8080/",
          "height": 54
        },
        "outputId": "ed42f7cd-b93a-4912-e034-fec9922c57f6"
      },
      "source": [
        "%%time\n",
        "otzivy_za_leto[\"text\"] = vfunc(otzivy_za_leto.Content)\n",
        "otzivy_za_leto.head()"
      ],
      "execution_count": 16,
      "outputs": [
        {
          "output_type": "stream",
          "text": [
            "CPU times: user 13.9 s, sys: 74.9 ms, total: 13.9 s\n",
            "Wall time: 13.9 s\n"
          ],
          "name": "stdout"
        }
      ]
    },
    {
      "cell_type": "code",
      "metadata": {
        "id": "dSX3rcddRZW1",
        "colab_type": "code",
        "colab": {}
      },
      "source": [
        "train_corpus = \" \".join(otzivy_za_leto[\"text\"])\n",
        "train_corpus = train_corpus.lower()"
      ],
      "execution_count": 17,
      "outputs": []
    },
    {
      "cell_type": "code",
      "metadata": {
        "id": "xwIjZHtyRZW-",
        "colab_type": "code",
        "colab": {}
      },
      "source": [
        "tokens = word_tokenize(train_corpus)"
      ],
      "execution_count": 18,
      "outputs": []
    },
    {
      "cell_type": "code",
      "metadata": {
        "id": "mlsUX2MORZXD",
        "colab_type": "code",
        "colab": {}
      },
      "source": [
        "tokens_filtered = [word for word in tokens if word.isalnum()]"
      ],
      "execution_count": 19,
      "outputs": []
    },
    {
      "cell_type": "code",
      "metadata": {
        "id": "K7zxwq8ARZXH",
        "colab_type": "code",
        "colab": {}
      },
      "source": [
        "dist = FreqDist(tokens_filtered)\n",
        "tokens_filtered_top = [pair[0] for pair in dist.most_common(max_words-1)]"
      ],
      "execution_count": 20,
      "outputs": []
    },
    {
      "cell_type": "code",
      "metadata": {
        "id": "9V9RZQHaRZXM",
        "colab_type": "code",
        "colab": {
          "base_uri": "https://localhost:8080/",
          "height": 384
        },
        "outputId": "9dbe2e9f-be68-4708-c4fa-8dfb75a87a41"
      },
      "source": [
        "tokens_filtered_top[:20]"
      ],
      "execution_count": 21,
      "outputs": [
        {
          "output_type": "execute_result",
          "data": {
            "text/plain": [
              "['приложение',\n",
              " 'удобно',\n",
              " 'работать',\n",
              " 'удобный',\n",
              " 'отлично',\n",
              " 'нравиться',\n",
              " 'хороший',\n",
              " 'телефон',\n",
              " 'отличный',\n",
              " 'супер',\n",
              " 'обновление',\n",
              " 'быстро',\n",
              " 'пароль',\n",
              " 'пользоваться',\n",
              " 'мочь',\n",
              " 'антивирус',\n",
              " 'сбербанк',\n",
              " 'раз',\n",
              " 'устраивать',\n",
              " 'вход']"
            ]
          },
          "metadata": {
            "tags": []
          },
          "execution_count": 21
        }
      ]
    },
    {
      "cell_type": "code",
      "metadata": {
        "id": "LHm-UCWZRZXR",
        "colab_type": "code",
        "colab": {}
      },
      "source": [
        "vocabulary = {v: k for k, v in dict(enumerate(tokens_filtered_top, 1)).items()}"
      ],
      "execution_count": 22,
      "outputs": []
    },
    {
      "cell_type": "code",
      "metadata": {
        "id": "N26bXINDRZXV",
        "colab_type": "code",
        "colab": {}
      },
      "source": [
        "def text_to_sequence(text, maxlen):\n",
        "    result = []\n",
        "    tokens = word_tokenize(text.lower())\n",
        "    tokens_filtered = [word for word in tokens if word.isalnum()]\n",
        "    for word in tokens_filtered:\n",
        "        if word in vocabulary:\n",
        "            result.append(vocabulary[word])\n",
        "    padding = [0]*(maxlen-len(result))\n",
        "    return padding + result[-maxlen:]"
      ],
      "execution_count": 23,
      "outputs": []
    },
    {
      "cell_type": "code",
      "metadata": {
        "id": "pVURqfQzRZXb",
        "colab_type": "code",
        "colab": {}
      },
      "source": [
        "x_train = np.asarray([text_to_sequence(text, max_len) for text in otzivy_za_leto[\"text\"]], dtype=np.int32)"
      ],
      "execution_count": 24,
      "outputs": []
    },
    {
      "cell_type": "code",
      "metadata": {
        "id": "LkF1xXqMRZXl",
        "colab_type": "code",
        "colab": {
          "base_uri": "https://localhost:8080/",
          "height": 35
        },
        "outputId": "fe4d4f19-1302-40d1-fd27-4ae3f510fd41"
      },
      "source": [
        "otzivy_za_leto[\"Rating\"].unique()"
      ],
      "execution_count": 25,
      "outputs": [
        {
          "output_type": "execute_result",
          "data": {
            "text/plain": [
              "array([4, 3, 1, 2, 0])"
            ]
          },
          "metadata": {
            "tags": []
          },
          "execution_count": 25
        }
      ]
    },
    {
      "cell_type": "code",
      "metadata": {
        "id": "Q-U_l-5ZRZXp",
        "colab_type": "code",
        "colab": {
          "base_uri": "https://localhost:8080/",
          "height": 35
        },
        "outputId": "ded967ce-ae15-4110-b27c-d02a1e5967bc"
      },
      "source": [
        "num_classes = len(otzivy_za_leto[\"Rating\"].unique())\n",
        "num_classes"
      ],
      "execution_count": 26,
      "outputs": [
        {
          "output_type": "execute_result",
          "data": {
            "text/plain": [
              "5"
            ]
          },
          "metadata": {
            "tags": []
          },
          "execution_count": 26
        }
      ]
    },
    {
      "cell_type": "code",
      "metadata": {
        "id": "p-ITRTKTRZXt",
        "colab_type": "code",
        "colab": {}
      },
      "source": [
        "y_train = keras.utils.to_categorical(otzivy_za_leto[\"Rating\"], num_classes)"
      ],
      "execution_count": 27,
      "outputs": []
    },
    {
      "cell_type": "code",
      "metadata": {
        "id": "CjdN1w3lRZXw",
        "colab_type": "code",
        "colab": {}
      },
      "source": [
        "keras.backend.clear_session()\n",
        "\n",
        "embed_vec_len = 50\n",
        "\n",
        "X_input = tf.keras.layers.Input(shape=(max_len,), name=\"X\")\n",
        "Embed_ = tf.keras.layers.Embedding(input_dim=max_words, output_dim=embed_vec_len, name=\"Embed_\")(X_input)\n",
        "Conv1_ = tf.keras.layers.Conv1D(filters=embed_vec_len*10, kernel_size=5, activation=\"relu\", name=\"Conv1_\")(Embed_)\n",
        "GlobMaxPool1_ = tf.keras.layers.GlobalMaxPool1D(name=\"GlobMaxPool1\")(Conv1_)\n",
        "Drop1_ = tf.keras.layers.Dropout(0.6)(GlobMaxPool1_)\n",
        "Dense1_ = tf.keras.layers.Dense(64, activation=\"relu\", name=\"Dense1_\")(Drop1_)\n",
        "Drop2_ = tf.keras.layers.Dropout(0.6)(Dense1_)\n",
        "Dense2_ = tf.keras.layers.Dense(64, activation=\"relu\", name=\"Dense2_\")(Drop2_)\n",
        "Drop3_ = tf.keras.layers.Dropout(0.6)(Dense2_)\n",
        "Dense3_ = tf.keras.layers.Dense(32, activation=\"relu\", name=\"Dense3_\")(Drop3_)\n",
        "Drop4_ = tf.keras.layers.Dropout(0.6)(Dense3_)\n",
        "Dense4_ = tf.keras.layers.Dense(32, activation=\"relu\", name=\"Dense4_\")(Drop4_)\n",
        "Drop5_ = tf.keras.layers.Dropout(0.75)(Dense4_)\n",
        "y_output = tf.keras.layers.Dense(num_classes, activation=\"softmax\", name=\"y\")(Drop5_)\n",
        "\n",
        "model = tf.keras.models.Model(inputs=[X_input], outputs=[y_output], name=\"my_model\")\n",
        "model.compile(loss='categorical_crossentropy',\n",
        "              optimizer='adam',\n",
        "              metrics=['accuracy'])"
      ],
      "execution_count": 28,
      "outputs": []
    },
    {
      "cell_type": "code",
      "metadata": {
        "id": "GJrwdaLjRZX4",
        "colab_type": "code",
        "colab": {
          "base_uri": "https://localhost:8080/",
          "height": 678
        },
        "outputId": "5f910e59-2f52-4c2e-8233-f768883ef3eb"
      },
      "source": [
        "model.summary()"
      ],
      "execution_count": 29,
      "outputs": [
        {
          "output_type": "stream",
          "text": [
            "Model: \"my_model\"\n",
            "_________________________________________________________________\n",
            "Layer (type)                 Output Shape              Param #   \n",
            "=================================================================\n",
            "X (InputLayer)               [(None, 50)]              0         \n",
            "_________________________________________________________________\n",
            "Embed_ (Embedding)           (None, 50, 50)            100000    \n",
            "_________________________________________________________________\n",
            "Conv1_ (Conv1D)              (None, 46, 500)           125500    \n",
            "_________________________________________________________________\n",
            "GlobMaxPool1 (GlobalMaxPooli (None, 500)               0         \n",
            "_________________________________________________________________\n",
            "dropout (Dropout)            (None, 500)               0         \n",
            "_________________________________________________________________\n",
            "Dense1_ (Dense)              (None, 64)                32064     \n",
            "_________________________________________________________________\n",
            "dropout_1 (Dropout)          (None, 64)                0         \n",
            "_________________________________________________________________\n",
            "Dense2_ (Dense)              (None, 64)                4160      \n",
            "_________________________________________________________________\n",
            "dropout_2 (Dropout)          (None, 64)                0         \n",
            "_________________________________________________________________\n",
            "Dense3_ (Dense)              (None, 32)                2080      \n",
            "_________________________________________________________________\n",
            "dropout_3 (Dropout)          (None, 32)                0         \n",
            "_________________________________________________________________\n",
            "Dense4_ (Dense)              (None, 32)                1056      \n",
            "_________________________________________________________________\n",
            "dropout_4 (Dropout)          (None, 32)                0         \n",
            "_________________________________________________________________\n",
            "y (Dense)                    (None, 5)                 165       \n",
            "=================================================================\n",
            "Total params: 265,025\n",
            "Trainable params: 265,025\n",
            "Non-trainable params: 0\n",
            "_________________________________________________________________\n"
          ],
          "name": "stdout"
        }
      ]
    },
    {
      "cell_type": "code",
      "metadata": {
        "id": "f2fIF4L3RZX9",
        "colab_type": "code",
        "colab": {
          "base_uri": "https://localhost:8080/",
          "height": 1000
        },
        "outputId": "b9997909-6148-499c-eafb-a291f08701cf"
      },
      "source": [
        "tf.keras.utils.plot_model(model)"
      ],
      "execution_count": 30,
      "outputs": [
        {
          "output_type": "execute_result",
          "data": {
            "image/png": "[encoded data removed]",
            "text/plain": [
              "<IPython.core.display.Image object>"
            ]
          },
          "metadata": {
            "tags": []
          },
          "execution_count": 30
        }
      ]
    },
    {
      "cell_type": "code",
      "metadata": {
        "id": "sSbGEgheRZYD",
        "colab_type": "code",
        "colab": {
          "base_uri": "https://localhost:8080/",
          "height": 1000
        },
        "outputId": "18a9f4cb-8314-4025-e01f-d9509b4382cf"
      },
      "source": [
        "history = model.fit(x_train, y_train,\n",
        "                    batch_size=batch_size,\n",
        "                    epochs=epochs,\n",
        "                    verbose=1,\n",
        "                    validation_split=0.2,\n",
        "                    )"
      ],
      "execution_count": 31,
      "outputs": [
        {
          "output_type": "stream",
          "text": [
            "Epoch 1/150\n",
            "33/33 [==============================] - 1s 26ms/step - loss: 1.3004 - accuracy: 0.5666 - val_loss: 1.0952 - val_accuracy: 0.6227\n",
            "Epoch 2/150\n",
            "33/33 [==============================] - 1s 15ms/step - loss: 0.9951 - accuracy: 0.6983 - val_loss: 0.9055 - val_accuracy: 0.6227\n",
            "Epoch 3/150\n",
            "33/33 [==============================] - 1s 16ms/step - loss: 0.8535 - accuracy: 0.7159 - val_loss: 0.8609 - val_accuracy: 0.6227\n",
            "Epoch 4/150\n",
            "33/33 [==============================] - 0s 15ms/step - loss: 0.7931 - accuracy: 0.7201 - val_loss: 0.8449 - val_accuracy: 0.6227\n",
            "Epoch 5/150\n",
            "33/33 [==============================] - 1s 15ms/step - loss: 0.7546 - accuracy: 0.7240 - val_loss: 0.8476 - val_accuracy: 0.6227\n",
            "Epoch 6/150\n",
            "33/33 [==============================] - 0s 15ms/step - loss: 0.7358 - accuracy: 0.7244 - val_loss: 0.8481 - val_accuracy: 0.6227\n",
            "Epoch 7/150\n",
            "33/33 [==============================] - 1s 16ms/step - loss: 0.7177 - accuracy: 0.7274 - val_loss: 0.8445 - val_accuracy: 0.6227\n",
            "Epoch 8/150\n",
            "33/33 [==============================] - 0s 15ms/step - loss: 0.7032 - accuracy: 0.7318 - val_loss: 0.8493 - val_accuracy: 0.6227\n",
            "Epoch 9/150\n",
            "33/33 [==============================] - 1s 15ms/step - loss: 0.6965 - accuracy: 0.7319 - val_loss: 0.8621 - val_accuracy: 0.6227\n",
            "Epoch 10/150\n",
            "33/33 [==============================] - 0s 15ms/step - loss: 0.6828 - accuracy: 0.7389 - val_loss: 0.8753 - val_accuracy: 0.6227\n",
            "Epoch 11/150\n",
            "33/33 [==============================] - 1s 15ms/step - loss: 0.6787 - accuracy: 0.7471 - val_loss: 0.8822 - val_accuracy: 0.7425\n",
            "Epoch 12/150\n",
            "33/33 [==============================] - 0s 15ms/step - loss: 0.6813 - accuracy: 0.7551 - val_loss: 0.8807 - val_accuracy: 0.7408\n",
            "Epoch 13/150\n",
            "33/33 [==============================] - 1s 16ms/step - loss: 0.6648 - accuracy: 0.7634 - val_loss: 0.8835 - val_accuracy: 0.7369\n",
            "Epoch 14/150\n",
            "33/33 [==============================] - 1s 15ms/step - loss: 0.6576 - accuracy: 0.7721 - val_loss: 0.9310 - val_accuracy: 0.7398\n",
            "Epoch 15/150\n",
            "33/33 [==============================] - 1s 15ms/step - loss: 0.6579 - accuracy: 0.7787 - val_loss: 0.9426 - val_accuracy: 0.7396\n",
            "Epoch 16/150\n",
            "33/33 [==============================] - 0s 15ms/step - loss: 0.6521 - accuracy: 0.7807 - val_loss: 0.9560 - val_accuracy: 0.7394\n",
            "Epoch 17/150\n",
            "33/33 [==============================] - 1s 15ms/step - loss: 0.6503 - accuracy: 0.7830 - val_loss: 0.9164 - val_accuracy: 0.7377\n",
            "Epoch 18/150\n",
            "33/33 [==============================] - 0s 15ms/step - loss: 0.6480 - accuracy: 0.7814 - val_loss: 0.9245 - val_accuracy: 0.7398\n",
            "Epoch 19/150\n",
            "33/33 [==============================] - 0s 15ms/step - loss: 0.6420 - accuracy: 0.7835 - val_loss: 0.9447 - val_accuracy: 0.7381\n",
            "Epoch 20/150\n",
            "33/33 [==============================] - 0s 15ms/step - loss: 0.6393 - accuracy: 0.7837 - val_loss: 0.9456 - val_accuracy: 0.7406\n",
            "Epoch 21/150\n",
            "33/33 [==============================] - 1s 15ms/step - loss: 0.6384 - accuracy: 0.7839 - val_loss: 0.9626 - val_accuracy: 0.7379\n",
            "Epoch 22/150\n",
            "33/33 [==============================] - 0s 15ms/step - loss: 0.6403 - accuracy: 0.7847 - val_loss: 1.0162 - val_accuracy: 0.7415\n",
            "Epoch 23/150\n",
            "33/33 [==============================] - 0s 15ms/step - loss: 0.6311 - accuracy: 0.7858 - val_loss: 0.9810 - val_accuracy: 0.7406\n",
            "Epoch 24/150\n",
            "33/33 [==============================] - 0s 15ms/step - loss: 0.6228 - accuracy: 0.7866 - val_loss: 0.9755 - val_accuracy: 0.7406\n",
            "Epoch 25/150\n",
            "33/33 [==============================] - 0s 15ms/step - loss: 0.6266 - accuracy: 0.7853 - val_loss: 0.9684 - val_accuracy: 0.7374\n",
            "Epoch 26/150\n",
            "33/33 [==============================] - 0s 15ms/step - loss: 0.6194 - accuracy: 0.7874 - val_loss: 1.0405 - val_accuracy: 0.7401\n",
            "Epoch 27/150\n",
            "33/33 [==============================] - 0s 15ms/step - loss: 0.6238 - accuracy: 0.7871 - val_loss: 1.0315 - val_accuracy: 0.7389\n",
            "Epoch 28/150\n",
            "33/33 [==============================] - 0s 15ms/step - loss: 0.6218 - accuracy: 0.7874 - val_loss: 1.0111 - val_accuracy: 0.7360\n",
            "Epoch 29/150\n",
            "33/33 [==============================] - 1s 15ms/step - loss: 0.6158 - accuracy: 0.7897 - val_loss: 1.0637 - val_accuracy: 0.7381\n",
            "Epoch 30/150\n",
            "33/33 [==============================] - 0s 15ms/step - loss: 0.6138 - accuracy: 0.7885 - val_loss: 1.0807 - val_accuracy: 0.7391\n",
            "Epoch 31/150\n",
            "33/33 [==============================] - 0s 15ms/step - loss: 0.6100 - accuracy: 0.7899 - val_loss: 1.0561 - val_accuracy: 0.7389\n",
            "Epoch 32/150\n",
            "33/33 [==============================] - 1s 15ms/step - loss: 0.6095 - accuracy: 0.7885 - val_loss: 1.0847 - val_accuracy: 0.7410\n",
            "Epoch 33/150\n",
            "33/33 [==============================] - 0s 15ms/step - loss: 0.6054 - accuracy: 0.7905 - val_loss: 1.0828 - val_accuracy: 0.7403\n",
            "Epoch 34/150\n",
            "33/33 [==============================] - 0s 15ms/step - loss: 0.6082 - accuracy: 0.7902 - val_loss: 1.0771 - val_accuracy: 0.7401\n",
            "Epoch 35/150\n",
            "33/33 [==============================] - 1s 15ms/step - loss: 0.6037 - accuracy: 0.7917 - val_loss: 1.1379 - val_accuracy: 0.7410\n",
            "Epoch 36/150\n",
            "33/33 [==============================] - 0s 15ms/step - loss: 0.6018 - accuracy: 0.7918 - val_loss: 1.1631 - val_accuracy: 0.7394\n",
            "Epoch 37/150\n",
            "33/33 [==============================] - 1s 15ms/step - loss: 0.6030 - accuracy: 0.7920 - val_loss: 1.1095 - val_accuracy: 0.7384\n",
            "Epoch 38/150\n",
            "33/33 [==============================] - 0s 15ms/step - loss: 0.6013 - accuracy: 0.7925 - val_loss: 1.1338 - val_accuracy: 0.7408\n",
            "Epoch 39/150\n",
            "33/33 [==============================] - 0s 15ms/step - loss: 0.5974 - accuracy: 0.7933 - val_loss: 1.1891 - val_accuracy: 0.7430\n",
            "Epoch 40/150\n",
            "33/33 [==============================] - 0s 15ms/step - loss: 0.5911 - accuracy: 0.7944 - val_loss: 1.1447 - val_accuracy: 0.7415\n",
            "Epoch 41/150\n",
            "33/33 [==============================] - 0s 15ms/step - loss: 0.5940 - accuracy: 0.7931 - val_loss: 1.2457 - val_accuracy: 0.7420\n",
            "Epoch 42/150\n",
            "33/33 [==============================] - 0s 15ms/step - loss: 0.5954 - accuracy: 0.7937 - val_loss: 1.1500 - val_accuracy: 0.7396\n",
            "Epoch 43/150\n",
            "33/33 [==============================] - 0s 15ms/step - loss: 0.5915 - accuracy: 0.7941 - val_loss: 1.2201 - val_accuracy: 0.7413\n",
            "Epoch 44/150\n",
            "33/33 [==============================] - 0s 15ms/step - loss: 0.5873 - accuracy: 0.7946 - val_loss: 1.1915 - val_accuracy: 0.7403\n",
            "Epoch 45/150\n",
            "33/33 [==============================] - 0s 15ms/step - loss: 0.5851 - accuracy: 0.7942 - val_loss: 1.1590 - val_accuracy: 0.7406\n",
            "Epoch 46/150\n",
            "33/33 [==============================] - 1s 15ms/step - loss: 0.5873 - accuracy: 0.7955 - val_loss: 1.3194 - val_accuracy: 0.7391\n",
            "Epoch 47/150\n",
            "33/33 [==============================] - 1s 15ms/step - loss: 0.5845 - accuracy: 0.7948 - val_loss: 1.2334 - val_accuracy: 0.7401\n",
            "Epoch 48/150\n",
            "33/33 [==============================] - 1s 15ms/step - loss: 0.5807 - accuracy: 0.7946 - val_loss: 1.3131 - val_accuracy: 0.7420\n",
            "Epoch 49/150\n",
            "33/33 [==============================] - 1s 15ms/step - loss: 0.5830 - accuracy: 0.7957 - val_loss: 1.2072 - val_accuracy: 0.7374\n",
            "Epoch 50/150\n",
            "33/33 [==============================] - 1s 15ms/step - loss: 0.5819 - accuracy: 0.7949 - val_loss: 1.2848 - val_accuracy: 0.7406\n",
            "Epoch 51/150\n",
            "33/33 [==============================] - 0s 15ms/step - loss: 0.5791 - accuracy: 0.7952 - val_loss: 1.3141 - val_accuracy: 0.7394\n",
            "Epoch 52/150\n",
            "33/33 [==============================] - 0s 15ms/step - loss: 0.5853 - accuracy: 0.7958 - val_loss: 1.2100 - val_accuracy: 0.7398\n",
            "Epoch 53/150\n",
            "33/33 [==============================] - 0s 15ms/step - loss: 0.5844 - accuracy: 0.7966 - val_loss: 1.2284 - val_accuracy: 0.7396\n",
            "Epoch 54/150\n",
            "33/33 [==============================] - 1s 15ms/step - loss: 0.5774 - accuracy: 0.7960 - val_loss: 1.3699 - val_accuracy: 0.7415\n",
            "Epoch 55/150\n",
            "33/33 [==============================] - 0s 15ms/step - loss: 0.5763 - accuracy: 0.7965 - val_loss: 1.3172 - val_accuracy: 0.7432\n",
            "Epoch 56/150\n",
            "33/33 [==============================] - 0s 15ms/step - loss: 0.5755 - accuracy: 0.7975 - val_loss: 1.2761 - val_accuracy: 0.7420\n",
            "Epoch 57/150\n",
            "33/33 [==============================] - 0s 15ms/step - loss: 0.5779 - accuracy: 0.7989 - val_loss: 1.3059 - val_accuracy: 0.7423\n",
            "Epoch 58/150\n",
            "33/33 [==============================] - 1s 15ms/step - loss: 0.5727 - accuracy: 0.7977 - val_loss: 1.4478 - val_accuracy: 0.7413\n",
            "Epoch 59/150\n",
            "33/33 [==============================] - 0s 15ms/step - loss: 0.5692 - accuracy: 0.7975 - val_loss: 1.4291 - val_accuracy: 0.7396\n",
            "Epoch 60/150\n",
            "33/33 [==============================] - 0s 15ms/step - loss: 0.5748 - accuracy: 0.7973 - val_loss: 1.3547 - val_accuracy: 0.7415\n",
            "Epoch 61/150\n",
            "33/33 [==============================] - 0s 15ms/step - loss: 0.5735 - accuracy: 0.7983 - val_loss: 1.4828 - val_accuracy: 0.7381\n",
            "Epoch 62/150\n",
            "33/33 [==============================] - 1s 15ms/step - loss: 0.5706 - accuracy: 0.7986 - val_loss: 1.3395 - val_accuracy: 0.7369\n",
            "Epoch 63/150\n",
            "33/33 [==============================] - 1s 15ms/step - loss: 0.5719 - accuracy: 0.7982 - val_loss: 1.4558 - val_accuracy: 0.7427\n",
            "Epoch 64/150\n",
            "33/33 [==============================] - 0s 15ms/step - loss: 0.5683 - accuracy: 0.7988 - val_loss: 1.3721 - val_accuracy: 0.7381\n",
            "Epoch 65/150\n",
            "33/33 [==============================] - 1s 15ms/step - loss: 0.5664 - accuracy: 0.7975 - val_loss: 1.4190 - val_accuracy: 0.7391\n",
            "Epoch 66/150\n",
            "33/33 [==============================] - 1s 15ms/step - loss: 0.5659 - accuracy: 0.7993 - val_loss: 1.4714 - val_accuracy: 0.7386\n",
            "Epoch 67/150\n",
            "33/33 [==============================] - 1s 15ms/step - loss: 0.5637 - accuracy: 0.7982 - val_loss: 1.4958 - val_accuracy: 0.7391\n",
            "Epoch 68/150\n",
            "33/33 [==============================] - 0s 15ms/step - loss: 0.5650 - accuracy: 0.7995 - val_loss: 1.5441 - val_accuracy: 0.7391\n",
            "Epoch 69/150\n",
            "33/33 [==============================] - 0s 14ms/step - loss: 0.5598 - accuracy: 0.8003 - val_loss: 1.5470 - val_accuracy: 0.7415\n",
            "Epoch 70/150\n",
            "33/33 [==============================] - 0s 15ms/step - loss: 0.5644 - accuracy: 0.7999 - val_loss: 1.6191 - val_accuracy: 0.7406\n",
            "Epoch 71/150\n",
            "33/33 [==============================] - 0s 14ms/step - loss: 0.5588 - accuracy: 0.8015 - val_loss: 1.5705 - val_accuracy: 0.7389\n",
            "Epoch 72/150\n",
            "33/33 [==============================] - 0s 14ms/step - loss: 0.5575 - accuracy: 0.8004 - val_loss: 1.5764 - val_accuracy: 0.7415\n",
            "Epoch 73/150\n",
            "33/33 [==============================] - 0s 15ms/step - loss: 0.5564 - accuracy: 0.8008 - val_loss: 1.6191 - val_accuracy: 0.7410\n",
            "Epoch 74/150\n",
            "33/33 [==============================] - 0s 15ms/step - loss: 0.5656 - accuracy: 0.8006 - val_loss: 1.5973 - val_accuracy: 0.7408\n",
            "Epoch 75/150\n",
            "33/33 [==============================] - 0s 15ms/step - loss: 0.5609 - accuracy: 0.8015 - val_loss: 1.6518 - val_accuracy: 0.7415\n",
            "Epoch 76/150\n",
            "33/33 [==============================] - 0s 14ms/step - loss: 0.5557 - accuracy: 0.8021 - val_loss: 1.5609 - val_accuracy: 0.7410\n",
            "Epoch 77/150\n",
            "33/33 [==============================] - 0s 14ms/step - loss: 0.5497 - accuracy: 0.8019 - val_loss: 1.6423 - val_accuracy: 0.7410\n",
            "Epoch 78/150\n",
            "33/33 [==============================] - 0s 15ms/step - loss: 0.5557 - accuracy: 0.8023 - val_loss: 1.6219 - val_accuracy: 0.7415\n",
            "Epoch 79/150\n",
            "33/33 [==============================] - 0s 15ms/step - loss: 0.5604 - accuracy: 0.8014 - val_loss: 1.7034 - val_accuracy: 0.7394\n",
            "Epoch 80/150\n",
            "33/33 [==============================] - 0s 15ms/step - loss: 0.5509 - accuracy: 0.8009 - val_loss: 1.6466 - val_accuracy: 0.7396\n",
            "Epoch 81/150\n",
            "33/33 [==============================] - 0s 15ms/step - loss: 0.5533 - accuracy: 0.8029 - val_loss: 1.5313 - val_accuracy: 0.7367\n",
            "Epoch 82/150\n",
            "33/33 [==============================] - 0s 15ms/step - loss: 0.5542 - accuracy: 0.8034 - val_loss: 1.5883 - val_accuracy: 0.7398\n",
            "Epoch 83/150\n",
            "33/33 [==============================] - 0s 15ms/step - loss: 0.5489 - accuracy: 0.8031 - val_loss: 1.6081 - val_accuracy: 0.7394\n",
            "Epoch 84/150\n",
            "33/33 [==============================] - 0s 14ms/step - loss: 0.5492 - accuracy: 0.8049 - val_loss: 1.5908 - val_accuracy: 0.7367\n",
            "Epoch 85/150\n",
            "33/33 [==============================] - 0s 14ms/step - loss: 0.5524 - accuracy: 0.8035 - val_loss: 1.4626 - val_accuracy: 0.7398\n",
            "Epoch 86/150\n",
            "33/33 [==============================] - 0s 14ms/step - loss: 0.5494 - accuracy: 0.8041 - val_loss: 1.6167 - val_accuracy: 0.7406\n",
            "Epoch 87/150\n",
            "33/33 [==============================] - 0s 14ms/step - loss: 0.5482 - accuracy: 0.8058 - val_loss: 1.5727 - val_accuracy: 0.7398\n",
            "Epoch 88/150\n",
            "33/33 [==============================] - 0s 14ms/step - loss: 0.5442 - accuracy: 0.8038 - val_loss: 1.5585 - val_accuracy: 0.7379\n",
            "Epoch 89/150\n",
            "33/33 [==============================] - 0s 14ms/step - loss: 0.5461 - accuracy: 0.8040 - val_loss: 1.6726 - val_accuracy: 0.7381\n",
            "Epoch 90/150\n",
            "33/33 [==============================] - 0s 14ms/step - loss: 0.5499 - accuracy: 0.8055 - val_loss: 1.5680 - val_accuracy: 0.7394\n",
            "Epoch 91/150\n",
            "33/33 [==============================] - 0s 14ms/step - loss: 0.5414 - accuracy: 0.8044 - val_loss: 1.6996 - val_accuracy: 0.7391\n",
            "Epoch 92/150\n",
            "33/33 [==============================] - 0s 14ms/step - loss: 0.5411 - accuracy: 0.8048 - val_loss: 1.6337 - val_accuracy: 0.7384\n",
            "Epoch 93/150\n",
            "33/33 [==============================] - 0s 14ms/step - loss: 0.5422 - accuracy: 0.8055 - val_loss: 1.6451 - val_accuracy: 0.7391\n",
            "Epoch 94/150\n",
            "33/33 [==============================] - 0s 14ms/step - loss: 0.5424 - accuracy: 0.8040 - val_loss: 1.7844 - val_accuracy: 0.7386\n",
            "Epoch 95/150\n",
            "33/33 [==============================] - 0s 14ms/step - loss: 0.5385 - accuracy: 0.8057 - val_loss: 1.7269 - val_accuracy: 0.7381\n",
            "Epoch 96/150\n",
            "33/33 [==============================] - 0s 14ms/step - loss: 0.5437 - accuracy: 0.8057 - val_loss: 1.6696 - val_accuracy: 0.7369\n",
            "Epoch 97/150\n",
            "33/33 [==============================] - 0s 15ms/step - loss: 0.5457 - accuracy: 0.8060 - val_loss: 1.8121 - val_accuracy: 0.7369\n",
            "Epoch 98/150\n",
            "33/33 [==============================] - 0s 14ms/step - loss: 0.5433 - accuracy: 0.8069 - val_loss: 1.9730 - val_accuracy: 0.7389\n",
            "Epoch 99/150\n",
            "33/33 [==============================] - 0s 14ms/step - loss: 0.5456 - accuracy: 0.8044 - val_loss: 1.7364 - val_accuracy: 0.7394\n",
            "Epoch 100/150\n",
            "33/33 [==============================] - 0s 14ms/step - loss: 0.5404 - accuracy: 0.8063 - val_loss: 1.7891 - val_accuracy: 0.7364\n",
            "Epoch 101/150\n",
            "33/33 [==============================] - 0s 14ms/step - loss: 0.5354 - accuracy: 0.8072 - val_loss: 1.9410 - val_accuracy: 0.7377\n",
            "Epoch 102/150\n",
            "33/33 [==============================] - 0s 14ms/step - loss: 0.5350 - accuracy: 0.8083 - val_loss: 1.9222 - val_accuracy: 0.7360\n",
            "Epoch 103/150\n",
            "33/33 [==============================] - 0s 14ms/step - loss: 0.5347 - accuracy: 0.8069 - val_loss: 1.8402 - val_accuracy: 0.7362\n",
            "Epoch 104/150\n",
            "33/33 [==============================] - 0s 14ms/step - loss: 0.5359 - accuracy: 0.8061 - val_loss: 2.0126 - val_accuracy: 0.7374\n",
            "Epoch 105/150\n",
            "33/33 [==============================] - 0s 14ms/step - loss: 0.5388 - accuracy: 0.8069 - val_loss: 1.8942 - val_accuracy: 0.7372\n",
            "Epoch 106/150\n",
            "33/33 [==============================] - 0s 14ms/step - loss: 0.5326 - accuracy: 0.8073 - val_loss: 2.0102 - val_accuracy: 0.7360\n",
            "Epoch 107/150\n",
            "33/33 [==============================] - 0s 14ms/step - loss: 0.5346 - accuracy: 0.8065 - val_loss: 1.8133 - val_accuracy: 0.7360\n",
            "Epoch 108/150\n",
            "33/33 [==============================] - 0s 14ms/step - loss: 0.5394 - accuracy: 0.8063 - val_loss: 1.8958 - val_accuracy: 0.7379\n",
            "Epoch 109/150\n",
            "33/33 [==============================] - 0s 14ms/step - loss: 0.5348 - accuracy: 0.8076 - val_loss: 1.8228 - val_accuracy: 0.7410\n",
            "Epoch 110/150\n",
            "33/33 [==============================] - 0s 14ms/step - loss: 0.5342 - accuracy: 0.8093 - val_loss: 1.8592 - val_accuracy: 0.7386\n",
            "Epoch 111/150\n",
            "33/33 [==============================] - 0s 14ms/step - loss: 0.5323 - accuracy: 0.8090 - val_loss: 1.9189 - val_accuracy: 0.7401\n",
            "Epoch 112/150\n",
            "33/33 [==============================] - 0s 14ms/step - loss: 0.5293 - accuracy: 0.8092 - val_loss: 2.1407 - val_accuracy: 0.7357\n",
            "Epoch 113/150\n",
            "33/33 [==============================] - 0s 14ms/step - loss: 0.5326 - accuracy: 0.8113 - val_loss: 1.9159 - val_accuracy: 0.7350\n",
            "Epoch 114/150\n",
            "33/33 [==============================] - 0s 14ms/step - loss: 0.5291 - accuracy: 0.8109 - val_loss: 1.8713 - val_accuracy: 0.7333\n",
            "Epoch 115/150\n",
            "33/33 [==============================] - 0s 15ms/step - loss: 0.5212 - accuracy: 0.8145 - val_loss: 1.7393 - val_accuracy: 0.7321\n",
            "Epoch 116/150\n",
            "33/33 [==============================] - 0s 15ms/step - loss: 0.5248 - accuracy: 0.8125 - val_loss: 1.9851 - val_accuracy: 0.7340\n",
            "Epoch 117/150\n",
            "33/33 [==============================] - 0s 14ms/step - loss: 0.5328 - accuracy: 0.8119 - val_loss: 2.1371 - val_accuracy: 0.7377\n",
            "Epoch 118/150\n",
            "33/33 [==============================] - 0s 14ms/step - loss: 0.5244 - accuracy: 0.8143 - val_loss: 2.1509 - val_accuracy: 0.7377\n",
            "Epoch 119/150\n",
            "33/33 [==============================] - 0s 14ms/step - loss: 0.5231 - accuracy: 0.8148 - val_loss: 1.9709 - val_accuracy: 0.7343\n",
            "Epoch 120/150\n",
            "33/33 [==============================] - 0s 14ms/step - loss: 0.5248 - accuracy: 0.8154 - val_loss: 1.9485 - val_accuracy: 0.7323\n",
            "Epoch 121/150\n",
            "33/33 [==============================] - 0s 14ms/step - loss: 0.5245 - accuracy: 0.8153 - val_loss: 2.0260 - val_accuracy: 0.7331\n",
            "Epoch 122/150\n",
            "33/33 [==============================] - 0s 14ms/step - loss: 0.5259 - accuracy: 0.8159 - val_loss: 1.9306 - val_accuracy: 0.7306\n",
            "Epoch 123/150\n",
            "33/33 [==============================] - 0s 14ms/step - loss: 0.5248 - accuracy: 0.8152 - val_loss: 2.2979 - val_accuracy: 0.7381\n",
            "Epoch 124/150\n",
            "33/33 [==============================] - 0s 15ms/step - loss: 0.5239 - accuracy: 0.8150 - val_loss: 2.0686 - val_accuracy: 0.7357\n",
            "Epoch 125/150\n",
            "33/33 [==============================] - 0s 14ms/step - loss: 0.5244 - accuracy: 0.8158 - val_loss: 2.1203 - val_accuracy: 0.7352\n",
            "Epoch 126/150\n",
            "33/33 [==============================] - 0s 15ms/step - loss: 0.5131 - accuracy: 0.8175 - val_loss: 2.0945 - val_accuracy: 0.7333\n",
            "Epoch 127/150\n",
            "33/33 [==============================] - 0s 14ms/step - loss: 0.5179 - accuracy: 0.8187 - val_loss: 1.9235 - val_accuracy: 0.7316\n",
            "Epoch 128/150\n",
            "33/33 [==============================] - 0s 14ms/step - loss: 0.5186 - accuracy: 0.8205 - val_loss: 1.9565 - val_accuracy: 0.7316\n",
            "Epoch 129/150\n",
            "33/33 [==============================] - 0s 14ms/step - loss: 0.5160 - accuracy: 0.8217 - val_loss: 2.0968 - val_accuracy: 0.7311\n",
            "Epoch 130/150\n",
            "33/33 [==============================] - 0s 14ms/step - loss: 0.5264 - accuracy: 0.8226 - val_loss: 2.1935 - val_accuracy: 0.7326\n",
            "Epoch 131/150\n",
            "33/33 [==============================] - 0s 14ms/step - loss: 0.5135 - accuracy: 0.8227 - val_loss: 2.1743 - val_accuracy: 0.7309\n",
            "Epoch 132/150\n",
            "33/33 [==============================] - 0s 14ms/step - loss: 0.5123 - accuracy: 0.8234 - val_loss: 1.9916 - val_accuracy: 0.7277\n",
            "Epoch 133/150\n",
            "33/33 [==============================] - 0s 15ms/step - loss: 0.5131 - accuracy: 0.8239 - val_loss: 2.3694 - val_accuracy: 0.7331\n",
            "Epoch 134/150\n",
            "33/33 [==============================] - 0s 14ms/step - loss: 0.5156 - accuracy: 0.8248 - val_loss: 2.1260 - val_accuracy: 0.7289\n",
            "Epoch 135/150\n",
            "33/33 [==============================] - 0s 14ms/step - loss: 0.5155 - accuracy: 0.8221 - val_loss: 2.2183 - val_accuracy: 0.7299\n",
            "Epoch 136/150\n",
            "33/33 [==============================] - 0s 14ms/step - loss: 0.5115 - accuracy: 0.8250 - val_loss: 2.5572 - val_accuracy: 0.7350\n",
            "Epoch 137/150\n",
            "33/33 [==============================] - 0s 14ms/step - loss: 0.5070 - accuracy: 0.8253 - val_loss: 2.1669 - val_accuracy: 0.7287\n",
            "Epoch 138/150\n",
            "33/33 [==============================] - 0s 14ms/step - loss: 0.5058 - accuracy: 0.8259 - val_loss: 2.5212 - val_accuracy: 0.7326\n",
            "Epoch 139/150\n",
            "33/33 [==============================] - 0s 14ms/step - loss: 0.5023 - accuracy: 0.8274 - val_loss: 2.4523 - val_accuracy: 0.7265\n",
            "Epoch 140/150\n",
            "33/33 [==============================] - 0s 14ms/step - loss: 0.4955 - accuracy: 0.8280 - val_loss: 2.6189 - val_accuracy: 0.7309\n",
            "Epoch 141/150\n",
            "33/33 [==============================] - 0s 14ms/step - loss: 0.5014 - accuracy: 0.8306 - val_loss: 2.4151 - val_accuracy: 0.7289\n",
            "Epoch 142/150\n",
            "33/33 [==============================] - 0s 14ms/step - loss: 0.4951 - accuracy: 0.8312 - val_loss: 2.6097 - val_accuracy: 0.7331\n",
            "Epoch 143/150\n",
            "33/33 [==============================] - 0s 14ms/step - loss: 0.4955 - accuracy: 0.8335 - val_loss: 2.6429 - val_accuracy: 0.7314\n",
            "Epoch 144/150\n",
            "33/33 [==============================] - 0s 14ms/step - loss: 0.5019 - accuracy: 0.8309 - val_loss: 2.4731 - val_accuracy: 0.7326\n",
            "Epoch 145/150\n",
            "33/33 [==============================] - 0s 14ms/step - loss: 0.4983 - accuracy: 0.8323 - val_loss: 2.2882 - val_accuracy: 0.7323\n",
            "Epoch 146/150\n",
            "33/33 [==============================] - 0s 14ms/step - loss: 0.4977 - accuracy: 0.8302 - val_loss: 2.3559 - val_accuracy: 0.7316\n",
            "Epoch 147/150\n",
            "33/33 [==============================] - 0s 14ms/step - loss: 0.4991 - accuracy: 0.8326 - val_loss: 2.6270 - val_accuracy: 0.7340\n",
            "Epoch 148/150\n",
            "33/33 [==============================] - 0s 14ms/step - loss: 0.5007 - accuracy: 0.8313 - val_loss: 2.5088 - val_accuracy: 0.7357\n",
            "Epoch 149/150\n",
            "33/33 [==============================] - 0s 14ms/step - loss: 0.5004 - accuracy: 0.8322 - val_loss: 2.2547 - val_accuracy: 0.7287\n",
            "Epoch 150/150\n",
            "33/33 [==============================] - 0s 15ms/step - loss: 0.4985 - accuracy: 0.8334 - val_loss: 2.4700 - val_accuracy: 0.7372\n"
          ],
          "name": "stdout"
        }
      ]
    },
    {
      "cell_type": "code",
      "metadata": {
        "id": "fL0a9s5GRZYH",
        "colab_type": "code",
        "colab": {
          "base_uri": "https://localhost:8080/",
          "height": 541
        },
        "outputId": "6cc27f06-0fc9-46c5-c5f0-30b25dc8346b"
      },
      "source": [
        "plt.figure()\n",
        "plt.plot(history.history['loss'], label='train loss')\n",
        "plt.plot(history.history['val_loss'], label='validation loss')\n",
        "plt.xlabel('Эпоха обучения')\n",
        "plt.ylabel('Значение функции потерь')\n",
        "plt.legend()\n",
        "\n",
        "plt.figure()\n",
        "plt.plot(history.history[acc_name], label='train accuracy')\n",
        "plt.plot(history.history[val_acc_name], label='validation accuracy')\n",
        "plt.xlabel('Эпоха обучения')\n",
        "plt.ylabel('Доля верных ответов')\n",
        "plt.legend()\n",
        "\n",
        "plt.show()"
      ],
      "execution_count": 32,
      "outputs": [
        {
          "output_type": "display_data",
          "data": {
            "image/png": "[encoded data removed]",
            "text/plain": [
              "<Figure size 432x288 with 1 Axes>"
            ]
          },
          "metadata": {
            "tags": [],
            "needs_background": "light"
          }
        },
        {
          "output_type": "display_data",
          "data": {
            "image/png": "[encoded data removed]",
            "text/plain": [
              "<Figure size 432x288 with 1 Axes>"
            ]
          },
          "metadata": {
            "tags": [],
            "needs_background": "light"
          }
        }
      ]
    },
    {
      "cell_type": "markdown",
      "metadata": {
        "id": "Y6_WJH_eRZYM",
        "colab_type": "text"
      },
      "source": [
        "Тренировка word2vec с использованием полученных весов в качестве эмбедингов"
      ]
    },
    {
      "cell_type": "code",
      "metadata": {
        "id": "19Qq6kYIRZYM",
        "colab_type": "code",
        "colab": {
          "base_uri": "https://localhost:8080/",
          "height": 201
        },
        "outputId": "50e3a6bf-31b4-402c-d0f3-db962341b5f7"
      },
      "source": [
        "sentences_list_of_lists = [[sentence] for sentence in otzivy_za_leto.text.tolist()]\n",
        "sentences_list_of_lists[:10]"
      ],
      "execution_count": 33,
      "outputs": [
        {
          "output_type": "execute_result",
          "data": {
            "text/plain": [
              "[['it just works'],\n",
              " ['целое удобноной приложение минус хотеть большой доступ персональный данные телефон приходиться пользоваться ограниченный режим'],\n",
              " ['отлично'],\n",
              " ['зависать 1 работа антивирус ранее пользоваться нормальный'],\n",
              " ['удобно работать быстро'],\n",
              " ['удобно норма'],\n",
              " ['удобный приложение'],\n",
              " ['устраивать'],\n",
              " ['работать чётко отличие банкомат вечно зависать тупить'],\n",
              " ['']]"
            ]
          },
          "metadata": {
            "tags": []
          },
          "execution_count": 33
        }
      ]
    },
    {
      "cell_type": "code",
      "metadata": {
        "id": "8XvPGkVARZYQ",
        "colab_type": "code",
        "colab": {}
      },
      "source": [
        "modelW2V = Word2Vec(sentences=sentences_list_of_lists, size=embed_vec_len, window=10, min_count=2, workers=multiprocessing.cpu_count())"
      ],
      "execution_count": 34,
      "outputs": []
    },
    {
      "cell_type": "code",
      "metadata": {
        "id": "OSsgl_d-RZYU",
        "colab_type": "code",
        "colab": {
          "base_uri": "https://localhost:8080/",
          "height": 256
        },
        "outputId": "c1cadbef-50a8-4830-b140-b5b7131da2bc"
      },
      "source": [
        "buffer = np.random.random((max_words,embed_vec_len))\n",
        "buffer"
      ],
      "execution_count": 35,
      "outputs": [
        {
          "output_type": "execute_result",
          "data": {
            "text/plain": [
              "array([[0.66402816, 0.57070748, 0.87443182, ..., 0.25507807, 0.28433936,\n",
              "        0.36661213],\n",
              "       [0.76288064, 0.16623205, 0.75367248, ..., 0.85879059, 0.03125199,\n",
              "        0.98791026],\n",
              "       [0.53955926, 0.95510888, 0.38766419, ..., 0.53943991, 0.28596332,\n",
              "        0.11627416],\n",
              "       ...,\n",
              "       [0.18025804, 0.64765052, 0.35939763, ..., 0.64122087, 0.95386593,\n",
              "        0.01336744],\n",
              "       [0.00593675, 0.46022718, 0.27132616, ..., 0.15557034, 0.7498896 ,\n",
              "        0.05488831],\n",
              "       [0.84272448, 0.96048392, 0.14737292, ..., 0.03341934, 0.99062321,\n",
              "        0.61650036]])"
            ]
          },
          "metadata": {
            "tags": []
          },
          "execution_count": 35
        }
      ]
    },
    {
      "cell_type": "code",
      "metadata": {
        "id": "RSXx6ygfRZYb",
        "colab_type": "code",
        "colab": {}
      },
      "source": [
        "for word in vocabulary:\n",
        "    if word in modelW2V.wv:\n",
        "#         print(word, modelW2V.wv[word])\n",
        "        buffer[vocabulary[word]] = modelW2V.wv[word]"
      ],
      "execution_count": 36,
      "outputs": []
    },
    {
      "cell_type": "markdown",
      "metadata": {
        "id": "aZyuogf9RZYe",
        "colab_type": "text"
      },
      "source": [
        "Зафиксированные Embedding-и после инициализации"
      ]
    },
    {
      "cell_type": "code",
      "metadata": {
        "id": "cSMJFqlwRZYg",
        "colab_type": "code",
        "colab": {}
      },
      "source": [
        "keras.backend.clear_session()\n",
        "\n",
        "X_input = tf.keras.layers.Input(shape=(max_len,), name=\"X\")\n",
        "Embed_ = tf.keras.layers.Embedding(input_dim=max_words, output_dim=embed_vec_len, name=\"Embed_\", weights=[buffer], trainable=False)(X_input)\n",
        "Conv1_ = tf.keras.layers.Conv1D(filters=embed_vec_len, kernel_size=5, activation=\"relu\", name=\"Conv1_\")(Embed_)\n",
        "GlobMaxPool1_ = tf.keras.layers.GlobalMaxPool1D(name=\"GlobMaxPool1\")(Conv1_)\n",
        "Drop1_ = tf.keras.layers.Dropout(0.6)(GlobMaxPool1_)\n",
        "Dense1_ = tf.keras.layers.Dense(64, activation=\"relu\", name=\"Dense1_\")(Drop1_)\n",
        "Drop2_ = tf.keras.layers.Dropout(0.6)(Dense1_)\n",
        "Dense2_ = tf.keras.layers.Dense(64, activation=\"relu\", name=\"Dense2_\")(Drop2_)\n",
        "Drop3_ = tf.keras.layers.Dropout(0.6)(Dense2_)\n",
        "Dense3_ = tf.keras.layers.Dense(32, activation=\"relu\", name=\"Dense3_\")(Drop3_)\n",
        "Drop4_ = tf.keras.layers.Dropout(0.6)(Dense3_)\n",
        "Dense4_ = tf.keras.layers.Dense(32, activation=\"relu\", name=\"Dense4_\")(Drop4_)\n",
        "Drop5_ = tf.keras.layers.Dropout(0.75)(Dense4_)\n",
        "y_output = tf.keras.layers.Dense(num_classes, activation=\"softmax\", name=\"y\")(Drop5_)\n",
        "\n",
        "model = tf.keras.models.Model(inputs=[X_input], outputs=[y_output], name=\"my_model\")\n",
        "model.compile(loss='categorical_crossentropy',\n",
        "              optimizer='adam',\n",
        "              metrics=['accuracy'])"
      ],
      "execution_count": 37,
      "outputs": []
    },
    {
      "cell_type": "code",
      "metadata": {
        "id": "l7O4_XnCRZYj",
        "colab_type": "code",
        "colab": {
          "base_uri": "https://localhost:8080/",
          "height": 1000
        },
        "outputId": "8798e5fe-7ec6-40d8-8aab-41d58386060f"
      },
      "source": [
        "history = model.fit(x_train, y_train,\n",
        "                    batch_size=batch_size,\n",
        "                    epochs=epochs,\n",
        "                    verbose=1,\n",
        "                    validation_split=0.2,\n",
        "                    )"
      ],
      "execution_count": 38,
      "outputs": [
        {
          "output_type": "stream",
          "text": [
            "Epoch 1/150\n",
            "33/33 [==============================] - 0s 10ms/step - loss: 1.6118 - accuracy: 0.4839 - val_loss: 1.4412 - val_accuracy: 0.6227\n",
            "Epoch 2/150\n",
            "33/33 [==============================] - 0s 5ms/step - loss: 1.2887 - accuracy: 0.6598 - val_loss: 1.1949 - val_accuracy: 0.6227\n",
            "Epoch 3/150\n",
            "33/33 [==============================] - 0s 5ms/step - loss: 1.1422 - accuracy: 0.7127 - val_loss: 1.1037 - val_accuracy: 0.6227\n",
            "Epoch 4/150\n",
            "33/33 [==============================] - 0s 5ms/step - loss: 1.0856 - accuracy: 0.7199 - val_loss: 1.0622 - val_accuracy: 0.6227\n",
            "Epoch 5/150\n",
            "33/33 [==============================] - 0s 5ms/step - loss: 1.0376 - accuracy: 0.7217 - val_loss: 1.0052 - val_accuracy: 0.6227\n",
            "Epoch 6/150\n",
            "33/33 [==============================] - 0s 6ms/step - loss: 0.9908 - accuracy: 0.7231 - val_loss: 0.9848 - val_accuracy: 0.6227\n",
            "Epoch 7/150\n",
            "33/33 [==============================] - 0s 6ms/step - loss: 0.9705 - accuracy: 0.7249 - val_loss: 0.9730 - val_accuracy: 0.6227\n",
            "Epoch 8/150\n",
            "33/33 [==============================] - 0s 5ms/step - loss: 0.9358 - accuracy: 0.7254 - val_loss: 0.9649 - val_accuracy: 0.6227\n",
            "Epoch 9/150\n",
            "33/33 [==============================] - 0s 5ms/step - loss: 0.9215 - accuracy: 0.7255 - val_loss: 0.9703 - val_accuracy: 0.6227\n",
            "Epoch 10/150\n",
            "33/33 [==============================] - 0s 5ms/step - loss: 0.9161 - accuracy: 0.7257 - val_loss: 0.9675 - val_accuracy: 0.6227\n",
            "Epoch 11/150\n",
            "33/33 [==============================] - 0s 6ms/step - loss: 0.9024 - accuracy: 0.7256 - val_loss: 0.9727 - val_accuracy: 0.6227\n",
            "Epoch 12/150\n",
            "33/33 [==============================] - 0s 5ms/step - loss: 0.8895 - accuracy: 0.7252 - val_loss: 0.9666 - val_accuracy: 0.6227\n",
            "Epoch 13/150\n",
            "33/33 [==============================] - 0s 5ms/step - loss: 0.8852 - accuracy: 0.7269 - val_loss: 0.9677 - val_accuracy: 0.6227\n",
            "Epoch 14/150\n",
            "33/33 [==============================] - 0s 6ms/step - loss: 0.8821 - accuracy: 0.7261 - val_loss: 0.9693 - val_accuracy: 0.6227\n",
            "Epoch 15/150\n",
            "33/33 [==============================] - 0s 6ms/step - loss: 0.8823 - accuracy: 0.7263 - val_loss: 0.9634 - val_accuracy: 0.6227\n",
            "Epoch 16/150\n",
            "33/33 [==============================] - 0s 6ms/step - loss: 0.8728 - accuracy: 0.7282 - val_loss: 0.9621 - val_accuracy: 0.6227\n",
            "Epoch 17/150\n",
            "33/33 [==============================] - 0s 7ms/step - loss: 0.8712 - accuracy: 0.7260 - val_loss: 0.9579 - val_accuracy: 0.6227\n",
            "Epoch 18/150\n",
            "33/33 [==============================] - 0s 6ms/step - loss: 0.8661 - accuracy: 0.7255 - val_loss: 0.9592 - val_accuracy: 0.6227\n",
            "Epoch 19/150\n",
            "33/33 [==============================] - 0s 5ms/step - loss: 0.8587 - accuracy: 0.7268 - val_loss: 0.9550 - val_accuracy: 0.6227\n",
            "Epoch 20/150\n",
            "33/33 [==============================] - 0s 5ms/step - loss: 0.8553 - accuracy: 0.7269 - val_loss: 0.9553 - val_accuracy: 0.6227\n",
            "Epoch 21/150\n",
            "33/33 [==============================] - 0s 5ms/step - loss: 0.8499 - accuracy: 0.7269 - val_loss: 0.9540 - val_accuracy: 0.6227\n",
            "Epoch 22/150\n",
            "33/33 [==============================] - 0s 6ms/step - loss: 0.8523 - accuracy: 0.7272 - val_loss: 0.9469 - val_accuracy: 0.6227\n",
            "Epoch 23/150\n",
            "33/33 [==============================] - 0s 5ms/step - loss: 0.8521 - accuracy: 0.7266 - val_loss: 0.9486 - val_accuracy: 0.6227\n",
            "Epoch 24/150\n",
            "33/33 [==============================] - 0s 5ms/step - loss: 0.8451 - accuracy: 0.7269 - val_loss: 0.9476 - val_accuracy: 0.6227\n",
            "Epoch 25/150\n",
            "33/33 [==============================] - 0s 5ms/step - loss: 0.8454 - accuracy: 0.7263 - val_loss: 0.9448 - val_accuracy: 0.6227\n",
            "Epoch 26/150\n",
            "33/33 [==============================] - 0s 5ms/step - loss: 0.8449 - accuracy: 0.7271 - val_loss: 0.9409 - val_accuracy: 0.6227\n",
            "Epoch 27/150\n",
            "33/33 [==============================] - 0s 6ms/step - loss: 0.8418 - accuracy: 0.7274 - val_loss: 0.9460 - val_accuracy: 0.6227\n",
            "Epoch 28/150\n",
            "33/33 [==============================] - 0s 6ms/step - loss: 0.8382 - accuracy: 0.7271 - val_loss: 0.9425 - val_accuracy: 0.6227\n",
            "Epoch 29/150\n",
            "33/33 [==============================] - 0s 5ms/step - loss: 0.8374 - accuracy: 0.7272 - val_loss: 0.9346 - val_accuracy: 0.6227\n",
            "Epoch 30/150\n",
            "33/33 [==============================] - 0s 5ms/step - loss: 0.8336 - accuracy: 0.7261 - val_loss: 0.9336 - val_accuracy: 0.6227\n",
            "Epoch 31/150\n",
            "33/33 [==============================] - 0s 5ms/step - loss: 0.8284 - accuracy: 0.7267 - val_loss: 0.9375 - val_accuracy: 0.6227\n",
            "Epoch 32/150\n",
            "33/33 [==============================] - 0s 5ms/step - loss: 0.8244 - accuracy: 0.7280 - val_loss: 0.9347 - val_accuracy: 0.6227\n",
            "Epoch 33/150\n",
            "33/33 [==============================] - 0s 5ms/step - loss: 0.8265 - accuracy: 0.7271 - val_loss: 0.9271 - val_accuracy: 0.6227\n",
            "Epoch 34/150\n",
            "33/33 [==============================] - 0s 5ms/step - loss: 0.8246 - accuracy: 0.7277 - val_loss: 0.9274 - val_accuracy: 0.6227\n",
            "Epoch 35/150\n",
            "33/33 [==============================] - 0s 5ms/step - loss: 0.8204 - accuracy: 0.7275 - val_loss: 0.9264 - val_accuracy: 0.6227\n",
            "Epoch 36/150\n",
            "33/33 [==============================] - 0s 5ms/step - loss: 0.8224 - accuracy: 0.7261 - val_loss: 0.9307 - val_accuracy: 0.6227\n",
            "Epoch 37/150\n",
            "33/33 [==============================] - 0s 5ms/step - loss: 0.8220 - accuracy: 0.7267 - val_loss: 0.9245 - val_accuracy: 0.6227\n",
            "Epoch 38/150\n",
            "33/33 [==============================] - 0s 6ms/step - loss: 0.8187 - accuracy: 0.7278 - val_loss: 0.9249 - val_accuracy: 0.6227\n",
            "Epoch 39/150\n",
            "33/33 [==============================] - 0s 6ms/step - loss: 0.8150 - accuracy: 0.7290 - val_loss: 0.9245 - val_accuracy: 0.6227\n",
            "Epoch 40/150\n",
            "33/33 [==============================] - 0s 5ms/step - loss: 0.8143 - accuracy: 0.7280 - val_loss: 0.9271 - val_accuracy: 0.6227\n",
            "Epoch 41/150\n",
            "33/33 [==============================] - 0s 5ms/step - loss: 0.8088 - accuracy: 0.7297 - val_loss: 0.9228 - val_accuracy: 0.6227\n",
            "Epoch 42/150\n",
            "33/33 [==============================] - 0s 5ms/step - loss: 0.8107 - accuracy: 0.7283 - val_loss: 0.9290 - val_accuracy: 0.6227\n",
            "Epoch 43/150\n",
            "33/33 [==============================] - 0s 6ms/step - loss: 0.8077 - accuracy: 0.7272 - val_loss: 0.9238 - val_accuracy: 0.6227\n",
            "Epoch 44/150\n",
            "33/33 [==============================] - 0s 6ms/step - loss: 0.8069 - accuracy: 0.7292 - val_loss: 0.9186 - val_accuracy: 0.6227\n",
            "Epoch 45/150\n",
            "33/33 [==============================] - 0s 5ms/step - loss: 0.8088 - accuracy: 0.7300 - val_loss: 0.9221 - val_accuracy: 0.6227\n",
            "Epoch 46/150\n",
            "33/33 [==============================] - 0s 5ms/step - loss: 0.8085 - accuracy: 0.7305 - val_loss: 0.9211 - val_accuracy: 0.6227\n",
            "Epoch 47/150\n",
            "33/33 [==============================] - 0s 6ms/step - loss: 0.8034 - accuracy: 0.7306 - val_loss: 0.9212 - val_accuracy: 0.6227\n",
            "Epoch 48/150\n",
            "33/33 [==============================] - 0s 6ms/step - loss: 0.8035 - accuracy: 0.7307 - val_loss: 0.9245 - val_accuracy: 0.6227\n",
            "Epoch 49/150\n",
            "33/33 [==============================] - 0s 6ms/step - loss: 0.8040 - accuracy: 0.7301 - val_loss: 0.9202 - val_accuracy: 0.6227\n",
            "Epoch 50/150\n",
            "33/33 [==============================] - 0s 6ms/step - loss: 0.7991 - accuracy: 0.7280 - val_loss: 0.9175 - val_accuracy: 0.6227\n",
            "Epoch 51/150\n",
            "33/33 [==============================] - 0s 5ms/step - loss: 0.8028 - accuracy: 0.7298 - val_loss: 0.9178 - val_accuracy: 0.6227\n",
            "Epoch 52/150\n",
            "33/33 [==============================] - 0s 5ms/step - loss: 0.7969 - accuracy: 0.7321 - val_loss: 0.9192 - val_accuracy: 0.6227\n",
            "Epoch 53/150\n",
            "33/33 [==============================] - 0s 5ms/step - loss: 0.8080 - accuracy: 0.7293 - val_loss: 0.9178 - val_accuracy: 0.6227\n",
            "Epoch 54/150\n",
            "33/33 [==============================] - 0s 6ms/step - loss: 0.8034 - accuracy: 0.7298 - val_loss: 0.9181 - val_accuracy: 0.6227\n",
            "Epoch 55/150\n",
            "33/33 [==============================] - 0s 6ms/step - loss: 0.7971 - accuracy: 0.7303 - val_loss: 0.9184 - val_accuracy: 0.6227\n",
            "Epoch 56/150\n",
            "33/33 [==============================] - 0s 6ms/step - loss: 0.8011 - accuracy: 0.7307 - val_loss: 0.9166 - val_accuracy: 0.6227\n",
            "Epoch 57/150\n",
            "33/33 [==============================] - 0s 5ms/step - loss: 0.8018 - accuracy: 0.7304 - val_loss: 0.9200 - val_accuracy: 0.6227\n",
            "Epoch 58/150\n",
            "33/33 [==============================] - 0s 5ms/step - loss: 0.8002 - accuracy: 0.7314 - val_loss: 0.9134 - val_accuracy: 0.6227\n",
            "Epoch 59/150\n",
            "33/33 [==============================] - 0s 6ms/step - loss: 0.7934 - accuracy: 0.7300 - val_loss: 0.9141 - val_accuracy: 0.6227\n",
            "Epoch 60/150\n",
            "33/33 [==============================] - 0s 6ms/step - loss: 0.7981 - accuracy: 0.7297 - val_loss: 0.9135 - val_accuracy: 0.6227\n",
            "Epoch 61/150\n",
            "33/33 [==============================] - 0s 5ms/step - loss: 0.7981 - accuracy: 0.7315 - val_loss: 0.9116 - val_accuracy: 0.6227\n",
            "Epoch 62/150\n",
            "33/33 [==============================] - 0s 6ms/step - loss: 0.7973 - accuracy: 0.7302 - val_loss: 0.9210 - val_accuracy: 0.6227\n",
            "Epoch 63/150\n",
            "33/33 [==============================] - 0s 5ms/step - loss: 0.7935 - accuracy: 0.7311 - val_loss: 0.9086 - val_accuracy: 0.6227\n",
            "Epoch 64/150\n",
            "33/33 [==============================] - 0s 5ms/step - loss: 0.7939 - accuracy: 0.7327 - val_loss: 0.9148 - val_accuracy: 0.6227\n",
            "Epoch 65/150\n",
            "33/33 [==============================] - 0s 6ms/step - loss: 0.7895 - accuracy: 0.7328 - val_loss: 0.9176 - val_accuracy: 0.6227\n",
            "Epoch 66/150\n",
            "33/33 [==============================] - 0s 6ms/step - loss: 0.7899 - accuracy: 0.7313 - val_loss: 0.9200 - val_accuracy: 0.6227\n",
            "Epoch 67/150\n",
            "33/33 [==============================] - 0s 6ms/step - loss: 0.8008 - accuracy: 0.7313 - val_loss: 0.9254 - val_accuracy: 0.6227\n",
            "Epoch 68/150\n",
            "33/33 [==============================] - 0s 6ms/step - loss: 0.7930 - accuracy: 0.7315 - val_loss: 0.9144 - val_accuracy: 0.6227\n",
            "Epoch 69/150\n",
            "33/33 [==============================] - 0s 6ms/step - loss: 0.7946 - accuracy: 0.7336 - val_loss: 0.9180 - val_accuracy: 0.6227\n",
            "Epoch 70/150\n",
            "33/33 [==============================] - 0s 6ms/step - loss: 0.7907 - accuracy: 0.7333 - val_loss: 0.9135 - val_accuracy: 0.6227\n",
            "Epoch 71/150\n",
            "33/33 [==============================] - 0s 6ms/step - loss: 0.7912 - accuracy: 0.7301 - val_loss: 0.9254 - val_accuracy: 0.6227\n",
            "Epoch 72/150\n",
            "33/33 [==============================] - 0s 6ms/step - loss: 0.7866 - accuracy: 0.7332 - val_loss: 0.9155 - val_accuracy: 0.6227\n",
            "Epoch 73/150\n",
            "33/33 [==============================] - 0s 6ms/step - loss: 0.7918 - accuracy: 0.7303 - val_loss: 0.9130 - val_accuracy: 0.6227\n",
            "Epoch 74/150\n",
            "33/33 [==============================] - 0s 6ms/step - loss: 0.7875 - accuracy: 0.7335 - val_loss: 0.9141 - val_accuracy: 0.6227\n",
            "Epoch 75/150\n",
            "33/33 [==============================] - 0s 6ms/step - loss: 0.7846 - accuracy: 0.7345 - val_loss: 0.9157 - val_accuracy: 0.6227\n",
            "Epoch 76/150\n",
            "33/33 [==============================] - 0s 6ms/step - loss: 0.7848 - accuracy: 0.7322 - val_loss: 0.9208 - val_accuracy: 0.6227\n",
            "Epoch 77/150\n",
            "33/33 [==============================] - 0s 5ms/step - loss: 0.7840 - accuracy: 0.7345 - val_loss: 0.9164 - val_accuracy: 0.6227\n",
            "Epoch 78/150\n",
            "33/33 [==============================] - 0s 5ms/step - loss: 0.7859 - accuracy: 0.7343 - val_loss: 0.9318 - val_accuracy: 0.6227\n",
            "Epoch 79/150\n",
            "33/33 [==============================] - 0s 5ms/step - loss: 0.7867 - accuracy: 0.7336 - val_loss: 0.9133 - val_accuracy: 0.6227\n",
            "Epoch 80/150\n",
            "33/33 [==============================] - 0s 5ms/step - loss: 0.7838 - accuracy: 0.7323 - val_loss: 0.9126 - val_accuracy: 0.6227\n",
            "Epoch 81/150\n",
            "33/33 [==============================] - 0s 5ms/step - loss: 0.7847 - accuracy: 0.7326 - val_loss: 0.9177 - val_accuracy: 0.6227\n",
            "Epoch 82/150\n",
            "33/33 [==============================] - 0s 5ms/step - loss: 0.7891 - accuracy: 0.7334 - val_loss: 0.9137 - val_accuracy: 0.6227\n",
            "Epoch 83/150\n",
            "33/33 [==============================] - 0s 5ms/step - loss: 0.7811 - accuracy: 0.7339 - val_loss: 0.9187 - val_accuracy: 0.6227\n",
            "Epoch 84/150\n",
            "33/33 [==============================] - 0s 5ms/step - loss: 0.7820 - accuracy: 0.7347 - val_loss: 0.9221 - val_accuracy: 0.6227\n",
            "Epoch 85/150\n",
            "33/33 [==============================] - 0s 6ms/step - loss: 0.7840 - accuracy: 0.7346 - val_loss: 0.9172 - val_accuracy: 0.6227\n",
            "Epoch 86/150\n",
            "33/33 [==============================] - 0s 6ms/step - loss: 0.7843 - accuracy: 0.7340 - val_loss: 0.9163 - val_accuracy: 0.6227\n",
            "Epoch 87/150\n",
            "33/33 [==============================] - 0s 6ms/step - loss: 0.7838 - accuracy: 0.7347 - val_loss: 0.9248 - val_accuracy: 0.6227\n",
            "Epoch 88/150\n",
            "33/33 [==============================] - 0s 6ms/step - loss: 0.7827 - accuracy: 0.7355 - val_loss: 0.9117 - val_accuracy: 0.6227\n",
            "Epoch 89/150\n",
            "33/33 [==============================] - 0s 5ms/step - loss: 0.7811 - accuracy: 0.7344 - val_loss: 0.9181 - val_accuracy: 0.6227\n",
            "Epoch 90/150\n",
            "33/33 [==============================] - 0s 5ms/step - loss: 0.7821 - accuracy: 0.7329 - val_loss: 0.9250 - val_accuracy: 0.6227\n",
            "Epoch 91/150\n",
            "33/33 [==============================] - 0s 6ms/step - loss: 0.7753 - accuracy: 0.7357 - val_loss: 0.9266 - val_accuracy: 0.6227\n",
            "Epoch 92/150\n",
            "33/33 [==============================] - 0s 6ms/step - loss: 0.7828 - accuracy: 0.7355 - val_loss: 0.9089 - val_accuracy: 0.6227\n",
            "Epoch 93/150\n",
            "33/33 [==============================] - 0s 5ms/step - loss: 0.7841 - accuracy: 0.7349 - val_loss: 0.9122 - val_accuracy: 0.6227\n",
            "Epoch 94/150\n",
            "33/33 [==============================] - 0s 5ms/step - loss: 0.7784 - accuracy: 0.7344 - val_loss: 0.9158 - val_accuracy: 0.6227\n",
            "Epoch 95/150\n",
            "33/33 [==============================] - 0s 5ms/step - loss: 0.7788 - accuracy: 0.7357 - val_loss: 0.9094 - val_accuracy: 0.6227\n",
            "Epoch 96/150\n",
            "33/33 [==============================] - 0s 6ms/step - loss: 0.7808 - accuracy: 0.7335 - val_loss: 0.9122 - val_accuracy: 0.6227\n",
            "Epoch 97/150\n",
            "33/33 [==============================] - 0s 6ms/step - loss: 0.7809 - accuracy: 0.7328 - val_loss: 0.9071 - val_accuracy: 0.6227\n",
            "Epoch 98/150\n",
            "33/33 [==============================] - 0s 5ms/step - loss: 0.7737 - accuracy: 0.7353 - val_loss: 0.9123 - val_accuracy: 0.6227\n",
            "Epoch 99/150\n",
            "33/33 [==============================] - 0s 5ms/step - loss: 0.7742 - accuracy: 0.7351 - val_loss: 0.9059 - val_accuracy: 0.6227\n",
            "Epoch 100/150\n",
            "33/33 [==============================] - 0s 5ms/step - loss: 0.7731 - accuracy: 0.7358 - val_loss: 0.9073 - val_accuracy: 0.6227\n",
            "Epoch 101/150\n",
            "33/33 [==============================] - 0s 5ms/step - loss: 0.7772 - accuracy: 0.7354 - val_loss: 0.9055 - val_accuracy: 0.6227\n",
            "Epoch 102/150\n",
            "33/33 [==============================] - 0s 6ms/step - loss: 0.7783 - accuracy: 0.7359 - val_loss: 0.9037 - val_accuracy: 0.6227\n",
            "Epoch 103/150\n",
            "33/33 [==============================] - 0s 5ms/step - loss: 0.7773 - accuracy: 0.7368 - val_loss: 0.9113 - val_accuracy: 0.6227\n",
            "Epoch 104/150\n",
            "33/33 [==============================] - 0s 5ms/step - loss: 0.7800 - accuracy: 0.7382 - val_loss: 0.9076 - val_accuracy: 0.6227\n",
            "Epoch 105/150\n",
            "33/33 [==============================] - 0s 5ms/step - loss: 0.7739 - accuracy: 0.7346 - val_loss: 0.9110 - val_accuracy: 0.6227\n",
            "Epoch 106/150\n",
            "33/33 [==============================] - 0s 5ms/step - loss: 0.7719 - accuracy: 0.7370 - val_loss: 0.9121 - val_accuracy: 0.6227\n",
            "Epoch 107/150\n",
            "33/33 [==============================] - 0s 6ms/step - loss: 0.7751 - accuracy: 0.7365 - val_loss: 0.9035 - val_accuracy: 0.6227\n",
            "Epoch 108/150\n",
            "33/33 [==============================] - 0s 5ms/step - loss: 0.7760 - accuracy: 0.7341 - val_loss: 0.9232 - val_accuracy: 0.6227\n",
            "Epoch 109/150\n",
            "33/33 [==============================] - 0s 5ms/step - loss: 0.7797 - accuracy: 0.7335 - val_loss: 0.9173 - val_accuracy: 0.6227\n",
            "Epoch 110/150\n",
            "33/33 [==============================] - 0s 6ms/step - loss: 0.7733 - accuracy: 0.7359 - val_loss: 0.9071 - val_accuracy: 0.6227\n",
            "Epoch 111/150\n",
            "33/33 [==============================] - 0s 5ms/step - loss: 0.7713 - accuracy: 0.7356 - val_loss: 0.9104 - val_accuracy: 0.6227\n",
            "Epoch 112/150\n",
            "33/33 [==============================] - 0s 5ms/step - loss: 0.7701 - accuracy: 0.7378 - val_loss: 0.9108 - val_accuracy: 0.6227\n",
            "Epoch 113/150\n",
            "33/33 [==============================] - 0s 5ms/step - loss: 0.7722 - accuracy: 0.7379 - val_loss: 0.9114 - val_accuracy: 0.6227\n",
            "Epoch 114/150\n",
            "33/33 [==============================] - 0s 5ms/step - loss: 0.7717 - accuracy: 0.7375 - val_loss: 0.9117 - val_accuracy: 0.6227\n",
            "Epoch 115/150\n",
            "33/33 [==============================] - 0s 6ms/step - loss: 0.7706 - accuracy: 0.7352 - val_loss: 0.9193 - val_accuracy: 0.6227\n",
            "Epoch 116/150\n",
            "33/33 [==============================] - 0s 6ms/step - loss: 0.7729 - accuracy: 0.7354 - val_loss: 0.9153 - val_accuracy: 0.6227\n",
            "Epoch 117/150\n",
            "33/33 [==============================] - 0s 5ms/step - loss: 0.7711 - accuracy: 0.7364 - val_loss: 0.9082 - val_accuracy: 0.6227\n",
            "Epoch 118/150\n",
            "33/33 [==============================] - 0s 6ms/step - loss: 0.7737 - accuracy: 0.7347 - val_loss: 0.9251 - val_accuracy: 0.6227\n",
            "Epoch 119/150\n",
            "33/33 [==============================] - 0s 6ms/step - loss: 0.7673 - accuracy: 0.7359 - val_loss: 0.9124 - val_accuracy: 0.6227\n",
            "Epoch 120/150\n",
            "33/33 [==============================] - 0s 5ms/step - loss: 0.7638 - accuracy: 0.7392 - val_loss: 0.9083 - val_accuracy: 0.6237\n",
            "Epoch 121/150\n",
            "33/33 [==============================] - 0s 5ms/step - loss: 0.7650 - accuracy: 0.7378 - val_loss: 0.9109 - val_accuracy: 0.6227\n",
            "Epoch 122/150\n",
            "33/33 [==============================] - 0s 6ms/step - loss: 0.7709 - accuracy: 0.7376 - val_loss: 0.9095 - val_accuracy: 0.6227\n",
            "Epoch 123/150\n",
            "33/33 [==============================] - 0s 5ms/step - loss: 0.7669 - accuracy: 0.7381 - val_loss: 0.9118 - val_accuracy: 0.6229\n",
            "Epoch 124/150\n",
            "33/33 [==============================] - 0s 6ms/step - loss: 0.7686 - accuracy: 0.7362 - val_loss: 0.9151 - val_accuracy: 0.6227\n",
            "Epoch 125/150\n",
            "33/33 [==============================] - 0s 5ms/step - loss: 0.7693 - accuracy: 0.7376 - val_loss: 0.9311 - val_accuracy: 0.6227\n",
            "Epoch 126/150\n",
            "33/33 [==============================] - 0s 5ms/step - loss: 0.7696 - accuracy: 0.7369 - val_loss: 0.9010 - val_accuracy: 0.6237\n",
            "Epoch 127/150\n",
            "33/33 [==============================] - 0s 5ms/step - loss: 0.7693 - accuracy: 0.7382 - val_loss: 0.9078 - val_accuracy: 0.6227\n",
            "Epoch 128/150\n",
            "33/33 [==============================] - 0s 5ms/step - loss: 0.7690 - accuracy: 0.7358 - val_loss: 0.9113 - val_accuracy: 0.6234\n",
            "Epoch 129/150\n",
            "33/33 [==============================] - 0s 5ms/step - loss: 0.7688 - accuracy: 0.7384 - val_loss: 0.9332 - val_accuracy: 0.6285\n",
            "Epoch 130/150\n",
            "33/33 [==============================] - 0s 6ms/step - loss: 0.7732 - accuracy: 0.7358 - val_loss: 0.9179 - val_accuracy: 0.6237\n",
            "Epoch 131/150\n",
            "33/33 [==============================] - 0s 5ms/step - loss: 0.7741 - accuracy: 0.7369 - val_loss: 0.9300 - val_accuracy: 0.6237\n",
            "Epoch 132/150\n",
            "33/33 [==============================] - 0s 5ms/step - loss: 0.7707 - accuracy: 0.7407 - val_loss: 0.9040 - val_accuracy: 0.6254\n",
            "Epoch 133/150\n",
            "33/33 [==============================] - 0s 5ms/step - loss: 0.7677 - accuracy: 0.7392 - val_loss: 0.9039 - val_accuracy: 0.6225\n",
            "Epoch 134/150\n",
            "33/33 [==============================] - 0s 5ms/step - loss: 0.7680 - accuracy: 0.7385 - val_loss: 0.9151 - val_accuracy: 0.6232\n",
            "Epoch 135/150\n",
            "33/33 [==============================] - 0s 5ms/step - loss: 0.7693 - accuracy: 0.7397 - val_loss: 0.9206 - val_accuracy: 0.6227\n",
            "Epoch 136/150\n",
            "33/33 [==============================] - 0s 5ms/step - loss: 0.7683 - accuracy: 0.7394 - val_loss: 0.8956 - val_accuracy: 0.6321\n",
            "Epoch 137/150\n",
            "33/33 [==============================] - 0s 5ms/step - loss: 0.7633 - accuracy: 0.7391 - val_loss: 0.9146 - val_accuracy: 0.6227\n",
            "Epoch 138/150\n",
            "33/33 [==============================] - 0s 5ms/step - loss: 0.7614 - accuracy: 0.7398 - val_loss: 0.9087 - val_accuracy: 0.6249\n",
            "Epoch 139/150\n",
            "33/33 [==============================] - 0s 5ms/step - loss: 0.7677 - accuracy: 0.7382 - val_loss: 0.9059 - val_accuracy: 0.6256\n",
            "Epoch 140/150\n",
            "33/33 [==============================] - 0s 6ms/step - loss: 0.7628 - accuracy: 0.7379 - val_loss: 0.9031 - val_accuracy: 0.6263\n",
            "Epoch 141/150\n",
            "33/33 [==============================] - 0s 6ms/step - loss: 0.7647 - accuracy: 0.7375 - val_loss: 0.9089 - val_accuracy: 0.6244\n",
            "Epoch 142/150\n",
            "33/33 [==============================] - 0s 5ms/step - loss: 0.7635 - accuracy: 0.7397 - val_loss: 0.8991 - val_accuracy: 0.6258\n",
            "Epoch 143/150\n",
            "33/33 [==============================] - 0s 5ms/step - loss: 0.7651 - accuracy: 0.7405 - val_loss: 0.9031 - val_accuracy: 0.6261\n",
            "Epoch 144/150\n",
            "33/33 [==============================] - 0s 5ms/step - loss: 0.7661 - accuracy: 0.7370 - val_loss: 0.9043 - val_accuracy: 0.6278\n",
            "Epoch 145/150\n",
            "33/33 [==============================] - 0s 6ms/step - loss: 0.7665 - accuracy: 0.7396 - val_loss: 0.9132 - val_accuracy: 0.6229\n",
            "Epoch 146/150\n",
            "33/33 [==============================] - 0s 6ms/step - loss: 0.7624 - accuracy: 0.7404 - val_loss: 0.9015 - val_accuracy: 0.6288\n",
            "Epoch 147/150\n",
            "33/33 [==============================] - 0s 5ms/step - loss: 0.7612 - accuracy: 0.7426 - val_loss: 0.9015 - val_accuracy: 0.6302\n",
            "Epoch 148/150\n",
            "33/33 [==============================] - 0s 5ms/step - loss: 0.7658 - accuracy: 0.7390 - val_loss: 0.9169 - val_accuracy: 0.6237\n",
            "Epoch 149/150\n",
            "33/33 [==============================] - 0s 6ms/step - loss: 0.7655 - accuracy: 0.7390 - val_loss: 0.9192 - val_accuracy: 0.6225\n",
            "Epoch 150/150\n",
            "33/33 [==============================] - 0s 5ms/step - loss: 0.7610 - accuracy: 0.7387 - val_loss: 0.9055 - val_accuracy: 0.6242\n"
          ],
          "name": "stdout"
        }
      ]
    },
    {
      "cell_type": "code",
      "metadata": {
        "id": "PzAV0H2jRZYm",
        "colab_type": "code",
        "colab": {
          "base_uri": "https://localhost:8080/",
          "height": 541
        },
        "outputId": "d6155761-f0b0-4f1b-bf37-7256a48716de"
      },
      "source": [
        "plt.figure()\n",
        "plt.plot(history.history['loss'], label='train loss')\n",
        "plt.plot(history.history['val_loss'], label='validation loss')\n",
        "plt.xlabel('Эпоха обучения')\n",
        "plt.ylabel('Значение функции потерь')\n",
        "plt.legend()\n",
        "\n",
        "plt.figure()\n",
        "plt.plot(history.history[acc_name], label='train accuracy')\n",
        "plt.plot(history.history[val_acc_name], label='validation accuracy')\n",
        "plt.xlabel('Эпоха обучения')\n",
        "plt.ylabel('Доля верных ответов')\n",
        "plt.legend()\n",
        "\n",
        "plt.show()"
      ],
      "execution_count": 39,
      "outputs": [
        {
          "output_type": "display_data",
          "data": {
            "image/png": "[encoded data removed]",
            "text/plain": [
              "<Figure size 432x288 with 1 Axes>"
            ]
          },
          "metadata": {
            "tags": [],
            "needs_background": "light"
          }
        },
        {
          "output_type": "display_data",
          "data": {
            "image/png": "[encoded data removed]",
            "text/plain": [
              "<Figure size 432x288 with 1 Axes>"
            ]
          },
          "metadata": {
            "tags": [],
            "needs_background": "light"
          }
        }
      ]
    },
    {
      "cell_type": "markdown",
      "metadata": {
        "id": "Gv4LdB0aRZYs",
        "colab_type": "text"
      },
      "source": [
        "### Embedding-и дотренировываются после инициализации"
      ]
    },
    {
      "cell_type": "code",
      "metadata": {
        "id": "rSJRxRCvRZYu",
        "colab_type": "code",
        "colab": {}
      },
      "source": [
        "keras.backend.clear_session()\n",
        "\n",
        "X_input = tf.keras.layers.Input(shape=(max_len,), name=\"X\")\n",
        "Embed_ = tf.keras.layers.Embedding(input_dim=max_words, output_dim=embed_vec_len, name=\"Embed_\", weights=[buffer], trainable=True)(X_input)\n",
        "Conv1_ = tf.keras.layers.Conv1D(filters=embed_vec_len, kernel_size=5, activation=\"relu\", name=\"Conv1_\")(Embed_)\n",
        "GlobMaxPool1_ = tf.keras.layers.GlobalMaxPool1D(name=\"GlobMaxPool1\")(Conv1_)\n",
        "Drop1_ = tf.keras.layers.Dropout(0.6)(GlobMaxPool1_)\n",
        "Dense1_ = tf.keras.layers.Dense(64, activation=\"relu\", name=\"Dense1_\")(Drop1_)\n",
        "Drop2_ = tf.keras.layers.Dropout(0.6)(Dense1_)\n",
        "Dense2_ = tf.keras.layers.Dense(64, activation=\"relu\", name=\"Dense2_\")(Drop2_)\n",
        "Drop3_ = tf.keras.layers.Dropout(0.6)(Dense2_)\n",
        "Dense3_ = tf.keras.layers.Dense(32, activation=\"relu\", name=\"Dense3_\")(Drop3_)\n",
        "Drop4_ = tf.keras.layers.Dropout(0.6)(Dense3_)\n",
        "Dense4_ = tf.keras.layers.Dense(32, activation=\"relu\", name=\"Dense4_\")(Drop4_)\n",
        "Drop5_ = tf.keras.layers.Dropout(0.75)(Dense4_)\n",
        "y_output = tf.keras.layers.Dense(num_classes, activation=\"softmax\", name=\"y\")(Drop5_)\n",
        "\n",
        "model = tf.keras.models.Model(inputs=[X_input], outputs=[y_output], name=\"my_model\")\n",
        "model.compile(loss='categorical_crossentropy',\n",
        "              optimizer='adam',\n",
        "              metrics=['accuracy'])"
      ],
      "execution_count": 40,
      "outputs": []
    },
    {
      "cell_type": "code",
      "metadata": {
        "id": "sr8JCEAgRZYw",
        "colab_type": "code",
        "colab": {
          "base_uri": "https://localhost:8080/",
          "height": 1000
        },
        "outputId": "690c85bc-afa6-4eed-85ca-4175fe62721b"
      },
      "source": [
        "history = model.fit(x_train, y_train,\n",
        "                    batch_size=batch_size,\n",
        "                    epochs=epochs,\n",
        "                    verbose=1,\n",
        "                    validation_split=0.2,\n",
        "                    )"
      ],
      "execution_count": 41,
      "outputs": [
        {
          "output_type": "stream",
          "text": [
            "Epoch 1/150\n",
            "33/33 [==============================] - 0s 12ms/step - loss: 1.7631 - accuracy: 0.4840 - val_loss: 1.5341 - val_accuracy: 0.6227\n",
            "Epoch 2/150\n",
            "33/33 [==============================] - 0s 8ms/step - loss: 1.4429 - accuracy: 0.6784 - val_loss: 1.3830 - val_accuracy: 0.6227\n",
            "Epoch 3/150\n",
            "33/33 [==============================] - 0s 8ms/step - loss: 1.2689 - accuracy: 0.6877 - val_loss: 1.1921 - val_accuracy: 0.6227\n",
            "Epoch 4/150\n",
            "33/33 [==============================] - 0s 8ms/step - loss: 1.1422 - accuracy: 0.7110 - val_loss: 1.0987 - val_accuracy: 0.6227\n",
            "Epoch 5/150\n",
            "33/33 [==============================] - 0s 8ms/step - loss: 1.0709 - accuracy: 0.7208 - val_loss: 1.0176 - val_accuracy: 0.6227\n",
            "Epoch 6/150\n",
            "33/33 [==============================] - 0s 8ms/step - loss: 1.0110 - accuracy: 0.7223 - val_loss: 0.9836 - val_accuracy: 0.6227\n",
            "Epoch 7/150\n",
            "33/33 [==============================] - 0s 8ms/step - loss: 0.9830 - accuracy: 0.7236 - val_loss: 0.9793 - val_accuracy: 0.6227\n",
            "Epoch 8/150\n",
            "33/33 [==============================] - 0s 8ms/step - loss: 0.9522 - accuracy: 0.7238 - val_loss: 0.9647 - val_accuracy: 0.6227\n",
            "Epoch 9/150\n",
            "33/33 [==============================] - 0s 8ms/step - loss: 0.9304 - accuracy: 0.7246 - val_loss: 0.9574 - val_accuracy: 0.6227\n",
            "Epoch 10/150\n",
            "33/33 [==============================] - 0s 8ms/step - loss: 0.9145 - accuracy: 0.7261 - val_loss: 0.9610 - val_accuracy: 0.6227\n",
            "Epoch 11/150\n",
            "33/33 [==============================] - 0s 8ms/step - loss: 0.9005 - accuracy: 0.7262 - val_loss: 0.9562 - val_accuracy: 0.6227\n",
            "Epoch 12/150\n",
            "33/33 [==============================] - 0s 8ms/step - loss: 0.8942 - accuracy: 0.7251 - val_loss: 0.9537 - val_accuracy: 0.6227\n",
            "Epoch 13/150\n",
            "33/33 [==============================] - 0s 8ms/step - loss: 0.8698 - accuracy: 0.7268 - val_loss: 0.9394 - val_accuracy: 0.6227\n",
            "Epoch 14/150\n",
            "33/33 [==============================] - 0s 8ms/step - loss: 0.8676 - accuracy: 0.7275 - val_loss: 0.9302 - val_accuracy: 0.6227\n",
            "Epoch 15/150\n",
            "33/33 [==============================] - 0s 8ms/step - loss: 0.8651 - accuracy: 0.7277 - val_loss: 0.9254 - val_accuracy: 0.6227\n",
            "Epoch 16/150\n",
            "33/33 [==============================] - 0s 8ms/step - loss: 0.8478 - accuracy: 0.7289 - val_loss: 0.9210 - val_accuracy: 0.6227\n",
            "Epoch 17/150\n",
            "33/33 [==============================] - 0s 8ms/step - loss: 0.8352 - accuracy: 0.7301 - val_loss: 0.9002 - val_accuracy: 0.6227\n",
            "Epoch 18/150\n",
            "33/33 [==============================] - 0s 9ms/step - loss: 0.8171 - accuracy: 0.7314 - val_loss: 0.8854 - val_accuracy: 0.6227\n",
            "Epoch 19/150\n",
            "33/33 [==============================] - 0s 8ms/step - loss: 0.8166 - accuracy: 0.7332 - val_loss: 0.8865 - val_accuracy: 0.6227\n",
            "Epoch 20/150\n",
            "33/33 [==============================] - 0s 8ms/step - loss: 0.8034 - accuracy: 0.7339 - val_loss: 0.8837 - val_accuracy: 0.6227\n",
            "Epoch 21/150\n",
            "33/33 [==============================] - 0s 8ms/step - loss: 0.7989 - accuracy: 0.7358 - val_loss: 0.8667 - val_accuracy: 0.6227\n",
            "Epoch 22/150\n",
            "33/33 [==============================] - 0s 8ms/step - loss: 0.7996 - accuracy: 0.7347 - val_loss: 0.8659 - val_accuracy: 0.6227\n",
            "Epoch 23/150\n",
            "33/33 [==============================] - 0s 8ms/step - loss: 0.7816 - accuracy: 0.7348 - val_loss: 0.8600 - val_accuracy: 0.6227\n",
            "Epoch 24/150\n",
            "33/33 [==============================] - 0s 8ms/step - loss: 0.7800 - accuracy: 0.7353 - val_loss: 0.8488 - val_accuracy: 0.6227\n",
            "Epoch 25/150\n",
            "33/33 [==============================] - 0s 8ms/step - loss: 0.7733 - accuracy: 0.7371 - val_loss: 0.8516 - val_accuracy: 0.6227\n",
            "Epoch 26/150\n",
            "33/33 [==============================] - 0s 8ms/step - loss: 0.7626 - accuracy: 0.7403 - val_loss: 0.8456 - val_accuracy: 0.6227\n",
            "Epoch 27/150\n",
            "33/33 [==============================] - 0s 8ms/step - loss: 0.7552 - accuracy: 0.7403 - val_loss: 0.8450 - val_accuracy: 0.6227\n",
            "Epoch 28/150\n",
            "33/33 [==============================] - 0s 8ms/step - loss: 0.7638 - accuracy: 0.7414 - val_loss: 0.8403 - val_accuracy: 0.6227\n",
            "Epoch 29/150\n",
            "33/33 [==============================] - 0s 8ms/step - loss: 0.7515 - accuracy: 0.7425 - val_loss: 0.8446 - val_accuracy: 0.6227\n",
            "Epoch 30/150\n",
            "33/33 [==============================] - 0s 8ms/step - loss: 0.7454 - accuracy: 0.7423 - val_loss: 0.8455 - val_accuracy: 0.6227\n",
            "Epoch 31/150\n",
            "33/33 [==============================] - 0s 8ms/step - loss: 0.7463 - accuracy: 0.7464 - val_loss: 0.8316 - val_accuracy: 0.6227\n",
            "Epoch 32/150\n",
            "33/33 [==============================] - 0s 8ms/step - loss: 0.7479 - accuracy: 0.7479 - val_loss: 0.8326 - val_accuracy: 0.6239\n",
            "Epoch 33/150\n",
            "33/33 [==============================] - 0s 8ms/step - loss: 0.7381 - accuracy: 0.7465 - val_loss: 0.8319 - val_accuracy: 0.6227\n",
            "Epoch 34/150\n",
            "33/33 [==============================] - 0s 8ms/step - loss: 0.7357 - accuracy: 0.7482 - val_loss: 0.8329 - val_accuracy: 0.6239\n",
            "Epoch 35/150\n",
            "33/33 [==============================] - 0s 8ms/step - loss: 0.7372 - accuracy: 0.7503 - val_loss: 0.8264 - val_accuracy: 0.6367\n",
            "Epoch 36/150\n",
            "33/33 [==============================] - 0s 8ms/step - loss: 0.7300 - accuracy: 0.7509 - val_loss: 0.8319 - val_accuracy: 0.6324\n",
            "Epoch 37/150\n",
            "33/33 [==============================] - 0s 8ms/step - loss: 0.7248 - accuracy: 0.7516 - val_loss: 0.8337 - val_accuracy: 0.6445\n",
            "Epoch 38/150\n",
            "33/33 [==============================] - 0s 8ms/step - loss: 0.7198 - accuracy: 0.7507 - val_loss: 0.8284 - val_accuracy: 0.6597\n",
            "Epoch 39/150\n",
            "33/33 [==============================] - 0s 8ms/step - loss: 0.7275 - accuracy: 0.7524 - val_loss: 0.8173 - val_accuracy: 0.6842\n",
            "Epoch 40/150\n",
            "33/33 [==============================] - 0s 8ms/step - loss: 0.7209 - accuracy: 0.7560 - val_loss: 0.8252 - val_accuracy: 0.6854\n",
            "Epoch 41/150\n",
            "33/33 [==============================] - 0s 8ms/step - loss: 0.7193 - accuracy: 0.7531 - val_loss: 0.8296 - val_accuracy: 0.6600\n",
            "Epoch 42/150\n",
            "33/33 [==============================] - 0s 8ms/step - loss: 0.7117 - accuracy: 0.7561 - val_loss: 0.8216 - val_accuracy: 0.6955\n",
            "Epoch 43/150\n",
            "33/33 [==============================] - 0s 8ms/step - loss: 0.7096 - accuracy: 0.7557 - val_loss: 0.8197 - val_accuracy: 0.6893\n",
            "Epoch 44/150\n",
            "33/33 [==============================] - 0s 8ms/step - loss: 0.7003 - accuracy: 0.7576 - val_loss: 0.8279 - val_accuracy: 0.7016\n",
            "Epoch 45/150\n",
            "33/33 [==============================] - 0s 8ms/step - loss: 0.7035 - accuracy: 0.7599 - val_loss: 0.8379 - val_accuracy: 0.6931\n",
            "Epoch 46/150\n",
            "33/33 [==============================] - 0s 8ms/step - loss: 0.7004 - accuracy: 0.7586 - val_loss: 0.8226 - val_accuracy: 0.7035\n",
            "Epoch 47/150\n",
            "33/33 [==============================] - 0s 8ms/step - loss: 0.6983 - accuracy: 0.7614 - val_loss: 0.8185 - val_accuracy: 0.7219\n",
            "Epoch 48/150\n",
            "33/33 [==============================] - 0s 8ms/step - loss: 0.6887 - accuracy: 0.7599 - val_loss: 0.8324 - val_accuracy: 0.7190\n",
            "Epoch 49/150\n",
            "33/33 [==============================] - 0s 8ms/step - loss: 0.6891 - accuracy: 0.7637 - val_loss: 0.8139 - val_accuracy: 0.7423\n",
            "Epoch 50/150\n",
            "33/33 [==============================] - 0s 8ms/step - loss: 0.6967 - accuracy: 0.7620 - val_loss: 0.8170 - val_accuracy: 0.7314\n",
            "Epoch 51/150\n",
            "33/33 [==============================] - 0s 8ms/step - loss: 0.7008 - accuracy: 0.7624 - val_loss: 0.8183 - val_accuracy: 0.7241\n",
            "Epoch 52/150\n",
            "33/33 [==============================] - 0s 8ms/step - loss: 0.6976 - accuracy: 0.7626 - val_loss: 0.8345 - val_accuracy: 0.7149\n",
            "Epoch 53/150\n",
            "33/33 [==============================] - 0s 8ms/step - loss: 0.6825 - accuracy: 0.7651 - val_loss: 0.8286 - val_accuracy: 0.7326\n",
            "Epoch 54/150\n",
            "33/33 [==============================] - 0s 8ms/step - loss: 0.6865 - accuracy: 0.7617 - val_loss: 0.8075 - val_accuracy: 0.7452\n",
            "Epoch 55/150\n",
            "33/33 [==============================] - 0s 8ms/step - loss: 0.6862 - accuracy: 0.7654 - val_loss: 0.8317 - val_accuracy: 0.7338\n",
            "Epoch 56/150\n",
            "33/33 [==============================] - 0s 8ms/step - loss: 0.6842 - accuracy: 0.7668 - val_loss: 0.8167 - val_accuracy: 0.7396\n",
            "Epoch 57/150\n",
            "33/33 [==============================] - 0s 8ms/step - loss: 0.6789 - accuracy: 0.7675 - val_loss: 0.8277 - val_accuracy: 0.7369\n",
            "Epoch 58/150\n",
            "33/33 [==============================] - 0s 8ms/step - loss: 0.6730 - accuracy: 0.7688 - val_loss: 0.8223 - val_accuracy: 0.7396\n",
            "Epoch 59/150\n",
            "33/33 [==============================] - 0s 8ms/step - loss: 0.6744 - accuracy: 0.7689 - val_loss: 0.8258 - val_accuracy: 0.7423\n",
            "Epoch 60/150\n",
            "33/33 [==============================] - 0s 8ms/step - loss: 0.6752 - accuracy: 0.7684 - val_loss: 0.8077 - val_accuracy: 0.7444\n",
            "Epoch 61/150\n",
            "33/33 [==============================] - 0s 8ms/step - loss: 0.6804 - accuracy: 0.7676 - val_loss: 0.8157 - val_accuracy: 0.7401\n",
            "Epoch 62/150\n",
            "33/33 [==============================] - 0s 8ms/step - loss: 0.6724 - accuracy: 0.7681 - val_loss: 0.8231 - val_accuracy: 0.7418\n",
            "Epoch 63/150\n",
            "33/33 [==============================] - 0s 8ms/step - loss: 0.6712 - accuracy: 0.7701 - val_loss: 0.8185 - val_accuracy: 0.7427\n",
            "Epoch 64/150\n",
            "33/33 [==============================] - 0s 8ms/step - loss: 0.6677 - accuracy: 0.7689 - val_loss: 0.8237 - val_accuracy: 0.7437\n",
            "Epoch 65/150\n",
            "33/33 [==============================] - 0s 8ms/step - loss: 0.6631 - accuracy: 0.7724 - val_loss: 0.8104 - val_accuracy: 0.7454\n",
            "Epoch 66/150\n",
            "33/33 [==============================] - 0s 8ms/step - loss: 0.6631 - accuracy: 0.7719 - val_loss: 0.8317 - val_accuracy: 0.7367\n",
            "Epoch 67/150\n",
            "33/33 [==============================] - 0s 8ms/step - loss: 0.6642 - accuracy: 0.7712 - val_loss: 0.8168 - val_accuracy: 0.7432\n",
            "Epoch 68/150\n",
            "33/33 [==============================] - 0s 8ms/step - loss: 0.6569 - accuracy: 0.7746 - val_loss: 0.8152 - val_accuracy: 0.7439\n",
            "Epoch 69/150\n",
            "33/33 [==============================] - 0s 8ms/step - loss: 0.6610 - accuracy: 0.7732 - val_loss: 0.8158 - val_accuracy: 0.7430\n",
            "Epoch 70/150\n",
            "33/33 [==============================] - 0s 8ms/step - loss: 0.6623 - accuracy: 0.7732 - val_loss: 0.8054 - val_accuracy: 0.7444\n",
            "Epoch 71/150\n",
            "33/33 [==============================] - 0s 8ms/step - loss: 0.6583 - accuracy: 0.7738 - val_loss: 0.8148 - val_accuracy: 0.7444\n",
            "Epoch 72/150\n",
            "33/33 [==============================] - 0s 8ms/step - loss: 0.6560 - accuracy: 0.7736 - val_loss: 0.8030 - val_accuracy: 0.7456\n",
            "Epoch 73/150\n",
            "33/33 [==============================] - 0s 8ms/step - loss: 0.6528 - accuracy: 0.7750 - val_loss: 0.8106 - val_accuracy: 0.7447\n",
            "Epoch 74/150\n",
            "33/33 [==============================] - 0s 8ms/step - loss: 0.6586 - accuracy: 0.7761 - val_loss: 0.8280 - val_accuracy: 0.7406\n",
            "Epoch 75/150\n",
            "33/33 [==============================] - 0s 8ms/step - loss: 0.6545 - accuracy: 0.7763 - val_loss: 0.8108 - val_accuracy: 0.7464\n",
            "Epoch 76/150\n",
            "33/33 [==============================] - 0s 8ms/step - loss: 0.6586 - accuracy: 0.7748 - val_loss: 0.8178 - val_accuracy: 0.7442\n",
            "Epoch 77/150\n",
            "33/33 [==============================] - 0s 8ms/step - loss: 0.6504 - accuracy: 0.7758 - val_loss: 0.8215 - val_accuracy: 0.7447\n",
            "Epoch 78/150\n",
            "33/33 [==============================] - 0s 8ms/step - loss: 0.6542 - accuracy: 0.7750 - val_loss: 0.8154 - val_accuracy: 0.7432\n",
            "Epoch 79/150\n",
            "33/33 [==============================] - 0s 8ms/step - loss: 0.6533 - accuracy: 0.7759 - val_loss: 0.8184 - val_accuracy: 0.7418\n",
            "Epoch 80/150\n",
            "33/33 [==============================] - 0s 8ms/step - loss: 0.6539 - accuracy: 0.7753 - val_loss: 0.8041 - val_accuracy: 0.7444\n",
            "Epoch 81/150\n",
            "33/33 [==============================] - 0s 8ms/step - loss: 0.6459 - accuracy: 0.7766 - val_loss: 0.8088 - val_accuracy: 0.7418\n",
            "Epoch 82/150\n",
            "33/33 [==============================] - 0s 8ms/step - loss: 0.6445 - accuracy: 0.7772 - val_loss: 0.8232 - val_accuracy: 0.7430\n",
            "Epoch 83/150\n",
            "33/33 [==============================] - 0s 8ms/step - loss: 0.6532 - accuracy: 0.7765 - val_loss: 0.8322 - val_accuracy: 0.7427\n",
            "Epoch 84/150\n",
            "33/33 [==============================] - 0s 8ms/step - loss: 0.6504 - accuracy: 0.7781 - val_loss: 0.8122 - val_accuracy: 0.7432\n",
            "Epoch 85/150\n",
            "33/33 [==============================] - 0s 8ms/step - loss: 0.6401 - accuracy: 0.7792 - val_loss: 0.7988 - val_accuracy: 0.7427\n",
            "Epoch 86/150\n",
            "33/33 [==============================] - 0s 8ms/step - loss: 0.6504 - accuracy: 0.7814 - val_loss: 0.8118 - val_accuracy: 0.7447\n",
            "Epoch 87/150\n",
            "33/33 [==============================] - 0s 8ms/step - loss: 0.6427 - accuracy: 0.7795 - val_loss: 0.8064 - val_accuracy: 0.7427\n",
            "Epoch 88/150\n",
            "33/33 [==============================] - 0s 8ms/step - loss: 0.6457 - accuracy: 0.7781 - val_loss: 0.8147 - val_accuracy: 0.7439\n",
            "Epoch 89/150\n",
            "33/33 [==============================] - 0s 8ms/step - loss: 0.6462 - accuracy: 0.7788 - val_loss: 0.8320 - val_accuracy: 0.7391\n",
            "Epoch 90/150\n",
            "33/33 [==============================] - 0s 8ms/step - loss: 0.6456 - accuracy: 0.7810 - val_loss: 0.8166 - val_accuracy: 0.7425\n",
            "Epoch 91/150\n",
            "33/33 [==============================] - 0s 8ms/step - loss: 0.6417 - accuracy: 0.7811 - val_loss: 0.8274 - val_accuracy: 0.7389\n",
            "Epoch 92/150\n",
            "33/33 [==============================] - 0s 8ms/step - loss: 0.6383 - accuracy: 0.7824 - val_loss: 0.8092 - val_accuracy: 0.7430\n",
            "Epoch 93/150\n",
            "33/33 [==============================] - 0s 8ms/step - loss: 0.6514 - accuracy: 0.7795 - val_loss: 0.8156 - val_accuracy: 0.7413\n",
            "Epoch 94/150\n",
            "33/33 [==============================] - 0s 8ms/step - loss: 0.6377 - accuracy: 0.7836 - val_loss: 0.8339 - val_accuracy: 0.7367\n",
            "Epoch 95/150\n",
            "33/33 [==============================] - 0s 8ms/step - loss: 0.6458 - accuracy: 0.7816 - val_loss: 0.8399 - val_accuracy: 0.7360\n",
            "Epoch 96/150\n",
            "33/33 [==============================] - 0s 8ms/step - loss: 0.6418 - accuracy: 0.7814 - val_loss: 0.8176 - val_accuracy: 0.7403\n",
            "Epoch 97/150\n",
            "33/33 [==============================] - 0s 8ms/step - loss: 0.6316 - accuracy: 0.7835 - val_loss: 0.8248 - val_accuracy: 0.7408\n",
            "Epoch 98/150\n",
            "33/33 [==============================] - 0s 8ms/step - loss: 0.6385 - accuracy: 0.7819 - val_loss: 0.8288 - val_accuracy: 0.7377\n",
            "Epoch 99/150\n",
            "33/33 [==============================] - 0s 8ms/step - loss: 0.6401 - accuracy: 0.7833 - val_loss: 0.8180 - val_accuracy: 0.7364\n",
            "Epoch 100/150\n",
            "33/33 [==============================] - 0s 8ms/step - loss: 0.6327 - accuracy: 0.7837 - val_loss: 0.8367 - val_accuracy: 0.7357\n",
            "Epoch 101/150\n",
            "33/33 [==============================] - 0s 8ms/step - loss: 0.6338 - accuracy: 0.7856 - val_loss: 0.8273 - val_accuracy: 0.7401\n",
            "Epoch 102/150\n",
            "33/33 [==============================] - 0s 8ms/step - loss: 0.6399 - accuracy: 0.7814 - val_loss: 0.8314 - val_accuracy: 0.7360\n",
            "Epoch 103/150\n",
            "33/33 [==============================] - 0s 8ms/step - loss: 0.6342 - accuracy: 0.7825 - val_loss: 0.8325 - val_accuracy: 0.7364\n",
            "Epoch 104/150\n",
            "33/33 [==============================] - 0s 8ms/step - loss: 0.6289 - accuracy: 0.7865 - val_loss: 0.8129 - val_accuracy: 0.7413\n",
            "Epoch 105/150\n",
            "33/33 [==============================] - 0s 8ms/step - loss: 0.6282 - accuracy: 0.7850 - val_loss: 0.8173 - val_accuracy: 0.7391\n",
            "Epoch 106/150\n",
            "33/33 [==============================] - 0s 8ms/step - loss: 0.6274 - accuracy: 0.7859 - val_loss: 0.8249 - val_accuracy: 0.7379\n",
            "Epoch 107/150\n",
            "33/33 [==============================] - 0s 8ms/step - loss: 0.6281 - accuracy: 0.7835 - val_loss: 0.8165 - val_accuracy: 0.7415\n",
            "Epoch 108/150\n",
            "33/33 [==============================] - 0s 8ms/step - loss: 0.6302 - accuracy: 0.7850 - val_loss: 0.8302 - val_accuracy: 0.7355\n",
            "Epoch 109/150\n",
            "33/33 [==============================] - 0s 8ms/step - loss: 0.6232 - accuracy: 0.7834 - val_loss: 0.8396 - val_accuracy: 0.7338\n",
            "Epoch 110/150\n",
            "33/33 [==============================] - 0s 8ms/step - loss: 0.6238 - accuracy: 0.7842 - val_loss: 0.8451 - val_accuracy: 0.7311\n",
            "Epoch 111/150\n",
            "33/33 [==============================] - 0s 8ms/step - loss: 0.6315 - accuracy: 0.7863 - val_loss: 0.8168 - val_accuracy: 0.7398\n",
            "Epoch 112/150\n",
            "33/33 [==============================] - 0s 8ms/step - loss: 0.6206 - accuracy: 0.7863 - val_loss: 0.8225 - val_accuracy: 0.7420\n",
            "Epoch 113/150\n",
            "33/33 [==============================] - 0s 8ms/step - loss: 0.6223 - accuracy: 0.7851 - val_loss: 0.8214 - val_accuracy: 0.7406\n",
            "Epoch 114/150\n",
            "33/33 [==============================] - 0s 8ms/step - loss: 0.6256 - accuracy: 0.7844 - val_loss: 0.8349 - val_accuracy: 0.7384\n",
            "Epoch 115/150\n",
            "33/33 [==============================] - 0s 8ms/step - loss: 0.6227 - accuracy: 0.7864 - val_loss: 0.8485 - val_accuracy: 0.7338\n",
            "Epoch 116/150\n",
            "33/33 [==============================] - 0s 8ms/step - loss: 0.6182 - accuracy: 0.7882 - val_loss: 0.8405 - val_accuracy: 0.7369\n",
            "Epoch 117/150\n",
            "33/33 [==============================] - 0s 8ms/step - loss: 0.6200 - accuracy: 0.7881 - val_loss: 0.8281 - val_accuracy: 0.7403\n",
            "Epoch 118/150\n",
            "33/33 [==============================] - 0s 8ms/step - loss: 0.6215 - accuracy: 0.7875 - val_loss: 0.8356 - val_accuracy: 0.7369\n",
            "Epoch 119/150\n",
            "33/33 [==============================] - 0s 8ms/step - loss: 0.6169 - accuracy: 0.7888 - val_loss: 0.8494 - val_accuracy: 0.7360\n",
            "Epoch 120/150\n",
            "33/33 [==============================] - 0s 8ms/step - loss: 0.6143 - accuracy: 0.7873 - val_loss: 0.8391 - val_accuracy: 0.7379\n",
            "Epoch 121/150\n",
            "33/33 [==============================] - 0s 8ms/step - loss: 0.6142 - accuracy: 0.7871 - val_loss: 0.8413 - val_accuracy: 0.7331\n",
            "Epoch 122/150\n",
            "33/33 [==============================] - 0s 8ms/step - loss: 0.6078 - accuracy: 0.7899 - val_loss: 0.8273 - val_accuracy: 0.7415\n",
            "Epoch 123/150\n",
            "33/33 [==============================] - 0s 8ms/step - loss: 0.6206 - accuracy: 0.7885 - val_loss: 0.8391 - val_accuracy: 0.7323\n",
            "Epoch 124/150\n",
            "33/33 [==============================] - 0s 8ms/step - loss: 0.6100 - accuracy: 0.7901 - val_loss: 0.8295 - val_accuracy: 0.7396\n",
            "Epoch 125/150\n",
            "33/33 [==============================] - 0s 8ms/step - loss: 0.6104 - accuracy: 0.7882 - val_loss: 0.8395 - val_accuracy: 0.7379\n",
            "Epoch 126/150\n",
            "33/33 [==============================] - 0s 8ms/step - loss: 0.6090 - accuracy: 0.7902 - val_loss: 0.8635 - val_accuracy: 0.7302\n",
            "Epoch 127/150\n",
            "33/33 [==============================] - 0s 8ms/step - loss: 0.6152 - accuracy: 0.7885 - val_loss: 0.8294 - val_accuracy: 0.7369\n",
            "Epoch 128/150\n",
            "33/33 [==============================] - 0s 8ms/step - loss: 0.6146 - accuracy: 0.7906 - val_loss: 0.8561 - val_accuracy: 0.7314\n",
            "Epoch 129/150\n",
            "33/33 [==============================] - 0s 8ms/step - loss: 0.6124 - accuracy: 0.7897 - val_loss: 0.8489 - val_accuracy: 0.7299\n",
            "Epoch 130/150\n",
            "33/33 [==============================] - 0s 8ms/step - loss: 0.6093 - accuracy: 0.7893 - val_loss: 0.8473 - val_accuracy: 0.7326\n",
            "Epoch 131/150\n",
            "33/33 [==============================] - 0s 8ms/step - loss: 0.6114 - accuracy: 0.7882 - val_loss: 0.8277 - val_accuracy: 0.7340\n",
            "Epoch 132/150\n",
            "33/33 [==============================] - 0s 8ms/step - loss: 0.6181 - accuracy: 0.7873 - val_loss: 0.8420 - val_accuracy: 0.7323\n",
            "Epoch 133/150\n",
            "33/33 [==============================] - 0s 8ms/step - loss: 0.6177 - accuracy: 0.7884 - val_loss: 0.8520 - val_accuracy: 0.7236\n",
            "Epoch 134/150\n",
            "33/33 [==============================] - 0s 8ms/step - loss: 0.6069 - accuracy: 0.7883 - val_loss: 0.8654 - val_accuracy: 0.7231\n",
            "Epoch 135/150\n",
            "33/33 [==============================] - 0s 8ms/step - loss: 0.6113 - accuracy: 0.7917 - val_loss: 0.8592 - val_accuracy: 0.7270\n",
            "Epoch 136/150\n",
            "33/33 [==============================] - 0s 8ms/step - loss: 0.6083 - accuracy: 0.7891 - val_loss: 0.8406 - val_accuracy: 0.7362\n",
            "Epoch 137/150\n",
            "33/33 [==============================] - 0s 8ms/step - loss: 0.6011 - accuracy: 0.7911 - val_loss: 0.8430 - val_accuracy: 0.7348\n",
            "Epoch 138/150\n",
            "33/33 [==============================] - 0s 8ms/step - loss: 0.6006 - accuracy: 0.7934 - val_loss: 0.8487 - val_accuracy: 0.7326\n",
            "Epoch 139/150\n",
            "33/33 [==============================] - 0s 8ms/step - loss: 0.5997 - accuracy: 0.7916 - val_loss: 0.8424 - val_accuracy: 0.7369\n",
            "Epoch 140/150\n",
            "33/33 [==============================] - 0s 8ms/step - loss: 0.6055 - accuracy: 0.7896 - val_loss: 0.8753 - val_accuracy: 0.7253\n",
            "Epoch 141/150\n",
            "33/33 [==============================] - 0s 8ms/step - loss: 0.5971 - accuracy: 0.7913 - val_loss: 0.8453 - val_accuracy: 0.7345\n",
            "Epoch 142/150\n",
            "33/33 [==============================] - 0s 8ms/step - loss: 0.6051 - accuracy: 0.7911 - val_loss: 0.8452 - val_accuracy: 0.7333\n",
            "Epoch 143/150\n",
            "33/33 [==============================] - 0s 8ms/step - loss: 0.5985 - accuracy: 0.7931 - val_loss: 0.8710 - val_accuracy: 0.7297\n",
            "Epoch 144/150\n",
            "33/33 [==============================] - 0s 8ms/step - loss: 0.6003 - accuracy: 0.7904 - val_loss: 0.8706 - val_accuracy: 0.7275\n",
            "Epoch 145/150\n",
            "33/33 [==============================] - 0s 8ms/step - loss: 0.6041 - accuracy: 0.7912 - val_loss: 0.8567 - val_accuracy: 0.7287\n",
            "Epoch 146/150\n",
            "33/33 [==============================] - 0s 8ms/step - loss: 0.5973 - accuracy: 0.7920 - val_loss: 0.8833 - val_accuracy: 0.7302\n",
            "Epoch 147/150\n",
            "33/33 [==============================] - 0s 8ms/step - loss: 0.6045 - accuracy: 0.7928 - val_loss: 0.8822 - val_accuracy: 0.7306\n",
            "Epoch 148/150\n",
            "33/33 [==============================] - 0s 8ms/step - loss: 0.6000 - accuracy: 0.7907 - val_loss: 0.8737 - val_accuracy: 0.7277\n",
            "Epoch 149/150\n",
            "33/33 [==============================] - 0s 8ms/step - loss: 0.6038 - accuracy: 0.7926 - val_loss: 0.8693 - val_accuracy: 0.7311\n",
            "Epoch 150/150\n",
            "33/33 [==============================] - 0s 8ms/step - loss: 0.5965 - accuracy: 0.7924 - val_loss: 0.8746 - val_accuracy: 0.7316\n"
          ],
          "name": "stdout"
        }
      ]
    },
    {
      "cell_type": "code",
      "metadata": {
        "id": "2XOrsNY8RZY0",
        "colab_type": "code",
        "colab": {
          "base_uri": "https://localhost:8080/",
          "height": 542
        },
        "outputId": "284e217a-fa14-4c58-b067-0ee08f1d06e0"
      },
      "source": [
        "plt.figure()\n",
        "plt.plot(history.history['loss'], label='train loss')\n",
        "plt.plot(history.history['val_loss'], label='validation loss')\n",
        "plt.xlabel('Эпоха обучения')\n",
        "plt.ylabel('Значение функции потерь')\n",
        "plt.legend()\n",
        "\n",
        "plt.figure()\n",
        "plt.plot(history.history[acc_name], label='train accuracy')\n",
        "plt.plot(history.history[val_acc_name], label='validation accuracy')\n",
        "plt.xlabel('Эпоха обучения')\n",
        "plt.ylabel('Доля верных ответов')\n",
        "plt.legend()\n",
        "\n",
        "plt.show()"
      ],
      "execution_count": 42,
      "outputs": [
        {
          "output_type": "display_data",
          "data": {
            "image/png": "[encoded data removed]",
            "text/plain": [
              "<Figure size 432x288 with 1 Axes>"
            ]
          },
          "metadata": {
            "tags": [],
            "needs_background": "light"
          }
        },
        {
          "output_type": "display_data",
          "data": {
            "image/png": "[encoded data removed]",
            "text/plain": [
              "<Figure size 432x288 with 1 Axes>"
            ]
          },
          "metadata": {
            "tags": [],
            "needs_background": "light"
          }
        }
      ]
    },
    {
      "cell_type": "markdown",
      "metadata": {
        "id": "W7hoSEnLJ8NS",
        "colab_type": "text"
      },
      "source": [
        "При инициализации точность получилась примерно 0,72, без инициализации, без инициализации чуть больше. Но потери на валиде при этом больше чем при инициализации"
      ]
    }
  ]
}